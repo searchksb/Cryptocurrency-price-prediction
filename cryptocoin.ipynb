{
 "cells": [
  {
   "cell_type": "code",
   "execution_count": 1,
   "metadata": {
    "collapsed": true,
    "pycharm": {
     "name": "#%%\n"
    }
   },
   "outputs": [
    {
     "name": "stderr",
     "output_type": "stream",
     "text": [
      "C:\\Users\\User\\AppData\\Local\\Temp\\ipykernel_11552\\161984556.py:26: FutureWarning: The frame.append method is deprecated and will be removed from pandas in a future version. Use pandas.concat instead.\n",
      "  crypto_df = crypto_df.append(df)\n"
     ]
    },
    {
     "name": "stdout",
     "output_type": "stream",
     "text": [
      "           Date          High           Low          Open         Close  \\\n",
      "0    2015-01-01    320.434998    314.002991    320.434998    314.248993   \n",
      "1    2015-01-02    315.838989    313.565002    314.079010    315.032013   \n",
      "2    2015-01-03    315.149994    281.082001    314.846008    281.082001   \n",
      "3    2015-01-04    287.230011    257.612000    281.145996    264.195007   \n",
      "4    2015-01-05    278.341003    265.084015    265.084015    274.473999   \n",
      "...         ...           ...           ...           ...           ...   \n",
      "2684 2022-05-08  35502.941406  33878.964844  35502.941406  34059.265625   \n",
      "2685 2022-05-09  34222.074219  30296.953125  34060.015625  30296.953125   \n",
      "2686 2022-05-10  32596.308594  29944.802734  30273.654297  31022.906250   \n",
      "2687 2022-05-11  32013.402344  28170.414062  31016.183594  28936.355469   \n",
      "2688 2022-05-12  30016.650391  26350.490234  29061.509766  29424.375000   \n",
      "\n",
      "           Volume     Adj Close symbol     name  \n",
      "0         8036550    314.248993    BTC  Bitcoin  \n",
      "1         7860650    315.032013    BTC  Bitcoin  \n",
      "2        33054400    281.082001    BTC  Bitcoin  \n",
      "3        55629100    264.195007    BTC  Bitcoin  \n",
      "4        43962800    274.473999    BTC  Bitcoin  \n",
      "...           ...           ...    ...      ...  \n",
      "2684  36763041910  34059.265625    BTC  Bitcoin  \n",
      "2685  63355494961  30296.953125    BTC  Bitcoin  \n",
      "2686  59811038817  31022.906250    BTC  Bitcoin  \n",
      "2687  70388855818  28936.355469    BTC  Bitcoin  \n",
      "2688  84075454464  29424.375000    BTC  Bitcoin  \n",
      "\n",
      "[2689 rows x 9 columns]\n"
     ]
    },
    {
     "name": "stderr",
     "output_type": "stream",
     "text": [
      "C:\\Users\\User\\AppData\\Local\\Temp\\ipykernel_11552\\161984556.py:26: FutureWarning: The frame.append method is deprecated and will be removed from pandas in a future version. Use pandas.concat instead.\n",
      "  crypto_df = crypto_df.append(df)\n"
     ]
    },
    {
     "name": "stdout",
     "output_type": "stream",
     "text": [
      "           Date         High          Low         Open        Close  \\\n",
      "0    2015-01-01   320.434998   314.002991   320.434998   314.248993   \n",
      "1    2015-01-02   315.838989   313.565002   314.079010   315.032013   \n",
      "2    2015-01-03   315.149994   281.082001   314.846008   281.082001   \n",
      "3    2015-01-04   287.230011   257.612000   281.145996   264.195007   \n",
      "4    2015-01-05   278.341003   265.084015   265.084015   274.473999   \n",
      "...         ...          ...          ...          ...          ...   \n",
      "4330 2022-05-08  2638.830566  2498.430176  2636.121826  2517.459961   \n",
      "4331 2022-05-09  2528.258057  2238.062744  2518.508301  2245.430420   \n",
      "4332 2022-05-10  2450.760254  2206.756836  2242.650391  2343.510986   \n",
      "4333 2022-05-11  2441.079346  2018.855591  2342.754150  2072.108643   \n",
      "4334 2022-05-12  2164.223389  1748.303101  2084.711182  2010.144409   \n",
      "\n",
      "           Volume    Adj Close symbol      name  \n",
      "0         8036550   314.248993    BTC   Bitcoin  \n",
      "1         7860650   315.032013    BTC   Bitcoin  \n",
      "2        33054400   281.082001    BTC   Bitcoin  \n",
      "3        55629100   264.195007    BTC   Bitcoin  \n",
      "4        43962800   274.473999    BTC   Bitcoin  \n",
      "...           ...          ...    ...       ...  \n",
      "4330  20802269935  2517.459961    ETH  Ethereum  \n",
      "4331  36333567678  2245.430420    ETH  Ethereum  \n",
      "4332  38202099639  2343.510986    ETH  Ethereum  \n",
      "4333  45743399154  2072.108643    ETH  Ethereum  \n",
      "4334  50326130688  2010.144409    ETH  Ethereum  \n",
      "\n",
      "[4335 rows x 9 columns]\n"
     ]
    },
    {
     "name": "stderr",
     "output_type": "stream",
     "text": [
      "C:\\Users\\User\\AppData\\Local\\Temp\\ipykernel_11552\\161984556.py:26: FutureWarning: The frame.append method is deprecated and will be removed from pandas in a future version. Use pandas.concat instead.\n",
      "  crypto_df = crypto_df.append(df)\n"
     ]
    },
    {
     "name": "stdout",
     "output_type": "stream",
     "text": [
      "           Date        High         Low        Open       Close        Volume  \\\n",
      "0    2015-01-01  320.434998  314.002991  320.434998  314.248993       8036550   \n",
      "1    2015-01-02  315.838989  313.565002  314.079010  315.032013       7860650   \n",
      "2    2015-01-03  315.149994  281.082001  314.846008  281.082001      33054400   \n",
      "3    2015-01-04  287.230011  257.612000  281.145996  264.195007      55629100   \n",
      "4    2015-01-05  278.341003  265.084015  265.084015  274.473999      43962800   \n",
      "...         ...         ...         ...         ...         ...           ...   \n",
      "5976 2022-05-08    1.000063    0.999740    0.999919    0.999854   77900163502   \n",
      "5977 2022-05-09    1.000134    0.999770    0.999870    0.999909  120710294040   \n",
      "5978 2022-05-10    1.000134    0.999709    0.999945    0.999791  128692083965   \n",
      "5979 2022-05-11    0.999996    0.993459    0.999790    0.995872  159700404396   \n",
      "5980 2022-05-12    0.996873    0.950784    0.995954    0.995099  172239765504   \n",
      "\n",
      "       Adj Close symbol     name  \n",
      "0     314.248993    BTC  Bitcoin  \n",
      "1     315.032013    BTC  Bitcoin  \n",
      "2     281.082001    BTC  Bitcoin  \n",
      "3     264.195007    BTC  Bitcoin  \n",
      "4     274.473999    BTC  Bitcoin  \n",
      "...          ...    ...      ...  \n",
      "5976    0.999854   USDT   Tether  \n",
      "5977    0.999909   USDT   Tether  \n",
      "5978    0.999791   USDT   Tether  \n",
      "5979    0.995872   USDT   Tether  \n",
      "5980    0.995099   USDT   Tether  \n",
      "\n",
      "[5981 rows x 9 columns]\n"
     ]
    },
    {
     "name": "stderr",
     "output_type": "stream",
     "text": [
      "C:\\Users\\User\\AppData\\Local\\Temp\\ipykernel_11552\\161984556.py:26: FutureWarning: The frame.append method is deprecated and will be removed from pandas in a future version. Use pandas.concat instead.\n",
      "  crypto_df = crypto_df.append(df)\n"
     ]
    },
    {
     "name": "stdout",
     "output_type": "stream",
     "text": [
      "           Date        High         Low        Open       Close      Volume  \\\n",
      "0    2015-01-01  320.434998  314.002991  320.434998  314.248993     8036550   \n",
      "1    2015-01-02  315.838989  313.565002  314.079010  315.032013     7860650   \n",
      "2    2015-01-03  315.149994  281.082001  314.846008  281.082001    33054400   \n",
      "3    2015-01-04  287.230011  257.612000  281.145996  264.195007    55629100   \n",
      "4    2015-01-05  278.341003  265.084015  265.084015  274.473999    43962800   \n",
      "...         ...         ...         ...         ...         ...         ...   \n",
      "7622 2022-05-08  366.509583  351.143768  365.733002  355.398743  1875845651   \n",
      "7623 2022-05-09  358.950714  299.348938  355.377411  299.348938  2943374129   \n",
      "7624 2022-05-10  332.438843  290.586792  298.820709  319.326965  3210603809   \n",
      "7625 2022-05-11  322.766815  262.620453  319.122772  269.962769  3870618668   \n",
      "7626 2022-05-12  281.912445  216.361496  271.459320  279.885101  5235505152   \n",
      "\n",
      "       Adj Close symbol          name  \n",
      "0     314.248993    BTC       Bitcoin  \n",
      "1     315.032013    BTC       Bitcoin  \n",
      "2     281.082001    BTC       Bitcoin  \n",
      "3     264.195007    BTC       Bitcoin  \n",
      "4     274.473999    BTC       Bitcoin  \n",
      "...          ...    ...           ...  \n",
      "7622  355.398743    BNB  Binance Coin  \n",
      "7623  299.348938    BNB  Binance Coin  \n",
      "7624  319.326965    BNB  Binance Coin  \n",
      "7625  269.962769    BNB  Binance Coin  \n",
      "7626  279.885101    BNB  Binance Coin  \n",
      "\n",
      "[7627 rows x 9 columns]\n"
     ]
    },
    {
     "name": "stderr",
     "output_type": "stream",
     "text": [
      "C:\\Users\\User\\AppData\\Local\\Temp\\ipykernel_11552\\161984556.py:26: FutureWarning: The frame.append method is deprecated and will be removed from pandas in a future version. Use pandas.concat instead.\n",
      "  crypto_df = crypto_df.append(df)\n"
     ]
    },
    {
     "name": "stdout",
     "output_type": "stream",
     "text": [
      "           Date        High         Low        Open       Close       Volume  \\\n",
      "0    2015-01-01  320.434998  314.002991  320.434998  314.248993      8036550   \n",
      "1    2015-01-02  315.838989  313.565002  314.079010  315.032013      7860650   \n",
      "2    2015-01-03  315.149994  281.082001  314.846008  281.082001     33054400   \n",
      "3    2015-01-04  287.230011  257.612000  281.145996  264.195007     55629100   \n",
      "4    2015-01-05  278.341003  265.084015  265.084015  274.473999     43962800   \n",
      "...         ...         ...         ...         ...         ...          ...   \n",
      "8935 2022-05-08    1.000631    0.999548    0.999918    1.000087   5432001418   \n",
      "8936 2022-05-09    1.000682    0.999376    0.999994    0.999595   8493986111   \n",
      "8937 2022-05-10    1.000685    0.999278    0.999576    0.999828   8611992228   \n",
      "8938 2022-05-11    1.001350    0.999253    0.999785    1.000766  15143285239   \n",
      "8939 2022-05-12    1.007909    0.999710    1.001386    1.001177  22003492864   \n",
      "\n",
      "       Adj Close symbol      name  \n",
      "0     314.248993    BTC   Bitcoin  \n",
      "1     315.032013    BTC   Bitcoin  \n",
      "2     281.082001    BTC   Bitcoin  \n",
      "3     264.195007    BTC   Bitcoin  \n",
      "4     274.473999    BTC   Bitcoin  \n",
      "...          ...    ...       ...  \n",
      "8935    1.000087   USDC  USD Coin  \n",
      "8936    0.999595   USDC  USD Coin  \n",
      "8937    0.999828   USDC  USD Coin  \n",
      "8938    1.000766   USDC  USD Coin  \n",
      "8939    1.001177   USDC  USD Coin  \n",
      "\n",
      "[8940 rows x 9 columns]\n"
     ]
    },
    {
     "name": "stderr",
     "output_type": "stream",
     "text": [
      "C:\\Users\\User\\AppData\\Local\\Temp\\ipykernel_11552\\161984556.py:26: FutureWarning: The frame.append method is deprecated and will be removed from pandas in a future version. Use pandas.concat instead.\n",
      "  crypto_df = crypto_df.append(df)\n"
     ]
    },
    {
     "name": "stdout",
     "output_type": "stream",
     "text": [
      "            Date        High         Low        Open       Close      Volume  \\\n",
      "0     2015-01-01  320.434998  314.002991  320.434998  314.248993     8036550   \n",
      "1     2015-01-02  315.838989  313.565002  314.079010  315.032013     7860650   \n",
      "2     2015-01-03  315.149994  281.082001  314.846008  281.082001    33054400   \n",
      "3     2015-01-04  287.230011  257.612000  281.145996  264.195007    55629100   \n",
      "4     2015-01-05  278.341003  265.084015  265.084015  274.473999    43962800   \n",
      "...          ...         ...         ...         ...         ...         ...   \n",
      "10581 2022-05-08    0.582634    0.562757    0.582399    0.566527  1505054300   \n",
      "10582 2022-05-09    0.575994    0.480722    0.566519    0.492940  3297478002   \n",
      "10583 2022-05-10    0.535299    0.478110    0.492440    0.513626  3455777036   \n",
      "10584 2022-05-11    0.521623    0.382426    0.513543    0.413376  5290247987   \n",
      "10585 2022-05-12    0.426421    0.350592    0.413248    0.389914  5734888448   \n",
      "\n",
      "        Adj Close symbol     name  \n",
      "0      314.248993    BTC  Bitcoin  \n",
      "1      315.032013    BTC  Bitcoin  \n",
      "2      281.082001    BTC  Bitcoin  \n",
      "3      264.195007    BTC  Bitcoin  \n",
      "4      274.473999    BTC  Bitcoin  \n",
      "...           ...    ...      ...  \n",
      "10581    0.566527    XRP      XRP  \n",
      "10582    0.492940    XRP      XRP  \n",
      "10583    0.513626    XRP      XRP  \n",
      "10584    0.413376    XRP      XRP  \n",
      "10585    0.389914    XRP      XRP  \n",
      "\n",
      "[10586 rows x 9 columns]\n"
     ]
    },
    {
     "name": "stderr",
     "output_type": "stream",
     "text": [
      "C:\\Users\\User\\AppData\\Local\\Temp\\ipykernel_11552\\161984556.py:26: FutureWarning: The frame.append method is deprecated and will be removed from pandas in a future version. Use pandas.concat instead.\n",
      "  crypto_df = crypto_df.append(df)\n"
     ]
    },
    {
     "name": "stdout",
     "output_type": "stream",
     "text": [
      "            Date        High         Low        Open       Close      Volume  \\\n",
      "0     2015-01-01  320.434998  314.002991  320.434998  314.248993     8036550   \n",
      "1     2015-01-02  315.838989  313.565002  314.079010  315.032013     7860650   \n",
      "2     2015-01-03  315.149994  281.082001  314.846008  281.082001    33054400   \n",
      "3     2015-01-04  287.230011  257.612000  281.145996  264.195007    55629100   \n",
      "4     2015-01-05  278.341003  265.084015  265.084015  274.473999    43962800   \n",
      "...          ...         ...         ...         ...         ...         ...   \n",
      "11344 2022-05-08   79.283791   74.527184   78.987633   75.220184  1439700868   \n",
      "11345 2022-05-09   76.983093   63.269653   75.234459   63.269653  2773999164   \n",
      "11346 2022-05-10   73.759888   61.026585   63.369312   66.766151  3677013066   \n",
      "11347 2022-05-11   68.117226   44.003826   66.734749   50.210850  4432811558   \n",
      "11348 2022-05-12   53.575172   38.050091   50.637524   46.862148  5305199616   \n",
      "\n",
      "        Adj Close symbol     name  \n",
      "0      314.248993    BTC  Bitcoin  \n",
      "1      315.032013    BTC  Bitcoin  \n",
      "2      281.082001    BTC  Bitcoin  \n",
      "3      264.195007    BTC  Bitcoin  \n",
      "4      274.473999    BTC  Bitcoin  \n",
      "...           ...    ...      ...  \n",
      "11344   75.220184    SOL   Solana  \n",
      "11345   63.269653    SOL   Solana  \n",
      "11346   66.766151    SOL   Solana  \n",
      "11347   50.210850    SOL   Solana  \n",
      "11348   46.862148    SOL   Solana  \n",
      "\n",
      "[11349 rows x 9 columns]\n"
     ]
    },
    {
     "name": "stderr",
     "output_type": "stream",
     "text": [
      "C:\\Users\\User\\AppData\\Local\\Temp\\ipykernel_11552\\161984556.py:26: FutureWarning: The frame.append method is deprecated and will be removed from pandas in a future version. Use pandas.concat instead.\n",
      "  crypto_df = crypto_df.append(df)\n"
     ]
    },
    {
     "name": "stdout",
     "output_type": "stream",
     "text": [
      "            Date        High         Low        Open       Close       Volume  \\\n",
      "0     2015-01-01  320.434998  314.002991  320.434998  314.248993      8036550   \n",
      "1     2015-01-02  315.838989  313.565002  314.079010  315.032013      7860650   \n",
      "2     2015-01-03  315.149994  281.082001  314.846008  281.082001     33054400   \n",
      "3     2015-01-04  287.230011  257.612000  281.145996  264.195007     55629100   \n",
      "4     2015-01-05  278.341003  265.084015  265.084015  274.473999     43962800   \n",
      "...          ...         ...         ...         ...         ...          ...   \n",
      "12366 2022-05-08   68.271729   59.578342   68.252228   64.081123   5108105142   \n",
      "12367 2022-05-09   65.135132   32.002026   64.126053   32.002026   6306976142   \n",
      "12368 2022-05-10   39.473122   14.148025   31.984324   17.520525  10452679386   \n",
      "12369 2022-05-11   19.171314    0.838430   17.448479    1.074977  11564567908   \n",
      "12370 2022-05-12    1.281054    0.012807    1.093104    0.012907   6493368320   \n",
      "\n",
      "        Adj Close symbol     name  \n",
      "0      314.248993    BTC  Bitcoin  \n",
      "1      315.032013    BTC  Bitcoin  \n",
      "2      281.082001    BTC  Bitcoin  \n",
      "3      264.195007    BTC  Bitcoin  \n",
      "4      274.473999    BTC  Bitcoin  \n",
      "...           ...    ...      ...  \n",
      "12366   64.081123  LUNA1    Terra  \n",
      "12367   32.002026  LUNA1    Terra  \n",
      "12368   17.520525  LUNA1    Terra  \n",
      "12369    1.074977  LUNA1    Terra  \n",
      "12370    0.012907  LUNA1    Terra  \n",
      "\n",
      "[12371 rows x 9 columns]\n"
     ]
    },
    {
     "name": "stderr",
     "output_type": "stream",
     "text": [
      "C:\\Users\\User\\AppData\\Local\\Temp\\ipykernel_11552\\161984556.py:26: FutureWarning: The frame.append method is deprecated and will be removed from pandas in a future version. Use pandas.concat instead.\n",
      "  crypto_df = crypto_df.append(df)\n"
     ]
    },
    {
     "name": "stdout",
     "output_type": "stream",
     "text": [
      "            Date        High         Low        Open       Close      Volume  \\\n",
      "0     2015-01-01  320.434998  314.002991  320.434998  314.248993     8036550   \n",
      "1     2015-01-02  315.838989  313.565002  314.079010  315.032013     7860650   \n",
      "2     2015-01-03  315.149994  281.082001  314.846008  281.082001    33054400   \n",
      "3     2015-01-04  287.230011  257.612000  281.145996  264.195007    55629100   \n",
      "4     2015-01-05  278.341003  265.084015  265.084015  274.473999    43962800   \n",
      "...          ...         ...         ...         ...         ...         ...   \n",
      "14012 2022-05-08    0.763869    0.729272    0.762053    0.739563  1085127147   \n",
      "14013 2022-05-09    0.753233    0.610088    0.739509    0.610088  2306123277   \n",
      "14014 2022-05-10    0.698520    0.590688    0.609972    0.628963  2372592084   \n",
      "14015 2022-05-11    0.657571    0.484610    0.628772    0.512800  2692548110   \n",
      "14016 2022-05-12    0.543247    0.406529    0.516257    0.494381  3298573312   \n",
      "\n",
      "        Adj Close symbol     name  \n",
      "0      314.248993    BTC  Bitcoin  \n",
      "1      315.032013    BTC  Bitcoin  \n",
      "2      281.082001    BTC  Bitcoin  \n",
      "3      264.195007    BTC  Bitcoin  \n",
      "4      274.473999    BTC  Bitcoin  \n",
      "...           ...    ...      ...  \n",
      "14012    0.739563    ADA  Cardano  \n",
      "14013    0.610088    ADA  Cardano  \n",
      "14014    0.628963    ADA  Cardano  \n",
      "14015    0.512800    ADA  Cardano  \n",
      "14016    0.494381    ADA  Cardano  \n",
      "\n",
      "[14017 rows x 9 columns]\n"
     ]
    },
    {
     "name": "stderr",
     "output_type": "stream",
     "text": [
      "C:\\Users\\User\\AppData\\Local\\Temp\\ipykernel_11552\\161984556.py:26: FutureWarning: The frame.append method is deprecated and will be removed from pandas in a future version. Use pandas.concat instead.\n",
      "  crypto_df = crypto_df.append(df)\n"
     ]
    },
    {
     "name": "stdout",
     "output_type": "stream",
     "text": [
      "            Date        High         Low        Open       Close  \\\n",
      "0     2015-01-01  320.434998  314.002991  320.434998  314.248993   \n",
      "1     2015-01-02  315.838989  313.565002  314.079010  315.032013   \n",
      "2     2015-01-03  315.149994  281.082001  314.846008  281.082001   \n",
      "3     2015-01-04  287.230011  257.612000  281.145996  264.195007   \n",
      "4     2015-01-05  278.341003  265.084015  265.084015  274.473999   \n",
      "...          ...         ...         ...         ...         ...   \n",
      "14612 2022-05-08   55.275398   50.935349   55.145802   51.521225   \n",
      "14613 2022-05-09   52.924164   41.972042   51.524044   41.972042   \n",
      "14614 2022-05-10   50.088913   40.383198   41.881672   44.560284   \n",
      "14615 2022-05-11   46.037857   27.849419   44.521870   30.962866   \n",
      "14616 2022-05-12   33.248837   23.549391   31.300188   32.082489   \n",
      "\n",
      "             Volume   Adj Close symbol       name  \n",
      "0      8.036550e+06  314.248993    BTC    Bitcoin  \n",
      "1      7.860650e+06  315.032013    BTC    Bitcoin  \n",
      "2      3.305440e+07  281.082001    BTC    Bitcoin  \n",
      "3      5.562910e+07  264.195007    BTC    Bitcoin  \n",
      "4      4.396280e+07  274.473999    BTC    Bitcoin  \n",
      "...             ...         ...    ...        ...  \n",
      "14612  8.378908e+08   51.521225   AVAX  Avalanche  \n",
      "14613  1.228351e+09   41.972042   AVAX  Avalanche  \n",
      "14614  1.624449e+09   44.560284   AVAX  Avalanche  \n",
      "14615  2.428551e+09   30.962866   AVAX  Avalanche  \n",
      "14616  2.227276e+09   32.082489   AVAX  Avalanche  \n",
      "\n",
      "[14617 rows x 9 columns]\n"
     ]
    },
    {
     "name": "stderr",
     "output_type": "stream",
     "text": [
      "C:\\Users\\User\\AppData\\Local\\Temp\\ipykernel_11552\\161984556.py:26: FutureWarning: The frame.append method is deprecated and will be removed from pandas in a future version. Use pandas.concat instead.\n",
      "  crypto_df = crypto_df.append(df)\n"
     ]
    },
    {
     "name": "stdout",
     "output_type": "stream",
     "text": [
      "            Date        High         Low        Open       Close      Volume  \\\n",
      "0     2015-01-01  320.434998  314.002991  320.434998  314.248993   8036550.0   \n",
      "1     2015-01-02  315.838989  313.565002  314.079010  315.032013   7860650.0   \n",
      "2     2015-01-03  315.149994  281.082001  314.846008  281.082001  33054400.0   \n",
      "3     2015-01-04  287.230011  257.612000  281.145996  264.195007  55629100.0   \n",
      "4     2015-01-05  278.341003  265.084015  265.084015  274.473999  43962800.0   \n",
      "...          ...         ...         ...         ...         ...         ...   \n",
      "15490 2022-05-08    0.185865    0.173683    0.184676    0.174394  20309137.0   \n",
      "15491 2022-05-09    0.174772    0.143105    0.174394    0.145942  33507889.0   \n",
      "15492 2022-05-10    0.164788    0.143572    0.145942    0.160441  24528517.0   \n",
      "15493 2022-05-11    0.162452    0.125043    0.160441    0.133913  43832656.0   \n",
      "15494 2022-05-12    0.139648    0.113142    0.134840    0.122154  44679036.0   \n",
      "\n",
      "        Adj Close symbol     name  \n",
      "0      314.248993    BTC  Bitcoin  \n",
      "1      315.032013    BTC  Bitcoin  \n",
      "2      281.082001    BTC  Bitcoin  \n",
      "3      264.195007    BTC  Bitcoin  \n",
      "4      274.473999    BTC  Bitcoin  \n",
      "...           ...    ...      ...  \n",
      "15490    0.174394    HEX      HEX  \n",
      "15491    0.145942    HEX      HEX  \n",
      "15492    0.160441    HEX      HEX  \n",
      "15493    0.133913    HEX      HEX  \n",
      "15494    0.122154    HEX      HEX  \n",
      "\n",
      "[15495 rows x 9 columns]\n"
     ]
    },
    {
     "name": "stderr",
     "output_type": "stream",
     "text": [
      "C:\\Users\\User\\AppData\\Local\\Temp\\ipykernel_11552\\161984556.py:26: FutureWarning: The frame.append method is deprecated and will be removed from pandas in a future version. Use pandas.concat instead.\n",
      "  crypto_df = crypto_df.append(df)\n"
     ]
    },
    {
     "name": "stdout",
     "output_type": "stream",
     "text": [
      "            Date        High         Low        Open       Close  \\\n",
      "0     2015-01-01  320.434998  314.002991  320.434998  314.248993   \n",
      "1     2015-01-02  315.838989  313.565002  314.079010  315.032013   \n",
      "2     2015-01-03  315.149994  281.082001  314.846008  281.082001   \n",
      "3     2015-01-04  287.230011  257.612000  281.145996  264.195007   \n",
      "4     2015-01-05  278.341003  265.084015  265.084015  274.473999   \n",
      "...          ...         ...         ...         ...         ...   \n",
      "17136 2022-05-08    0.128017    0.123974    0.127527    0.124207   \n",
      "17137 2022-05-09    0.125136    0.104824    0.124200    0.104824   \n",
      "17138 2022-05-10    0.117775    0.100881    0.104708    0.108477   \n",
      "17139 2022-05-11    0.110565    0.080036    0.108449    0.084581   \n",
      "17140 2022-05-12    0.088983    0.070037    0.085057    0.082506   \n",
      "\n",
      "             Volume   Adj Close symbol      name  \n",
      "0      8.036550e+06  314.248993    BTC   Bitcoin  \n",
      "1      7.860650e+06  315.032013    BTC   Bitcoin  \n",
      "2      3.305440e+07  281.082001    BTC   Bitcoin  \n",
      "3      5.562910e+07  264.195007    BTC   Bitcoin  \n",
      "4      4.396280e+07  274.473999    BTC   Bitcoin  \n",
      "...             ...         ...    ...       ...  \n",
      "17136  7.289532e+08    0.124207   DOGE  Dogecoin  \n",
      "17137  1.353326e+09    0.104824   DOGE  Dogecoin  \n",
      "17138  1.723066e+09    0.108477   DOGE  Dogecoin  \n",
      "17139  2.556008e+09    0.084581   DOGE  Dogecoin  \n",
      "17140  2.908601e+09    0.082506   DOGE  Dogecoin  \n",
      "\n",
      "[17141 rows x 9 columns]\n"
     ]
    },
    {
     "name": "stderr",
     "output_type": "stream",
     "text": [
      "C:\\Users\\User\\AppData\\Local\\Temp\\ipykernel_11552\\161984556.py:26: FutureWarning: The frame.append method is deprecated and will be removed from pandas in a future version. Use pandas.concat instead.\n",
      "  crypto_df = crypto_df.append(df)\n"
     ]
    },
    {
     "name": "stdout",
     "output_type": "stream",
     "text": [
      "            Date        High         Low        Open       Close  \\\n",
      "0     2015-01-01  320.434998  314.002991  320.434998  314.248993   \n",
      "1     2015-01-02  315.838989  313.565002  314.079010  315.032013   \n",
      "2     2015-01-03  315.149994  281.082001  314.846008  281.082001   \n",
      "3     2015-01-04  287.230011  257.612000  281.145996  264.195007   \n",
      "4     2015-01-05  278.341003  265.084015  265.084015  274.473999   \n",
      "...          ...         ...         ...         ...         ...   \n",
      "17691 2022-05-07   14.352659   13.476185   14.313728   13.775654   \n",
      "17692 2022-05-08   13.825541   13.087564   13.774422   13.254074   \n",
      "17693 2022-05-09   13.464955   10.767036   13.257022   10.767036   \n",
      "17694 2022-05-10   12.333800   10.449965   10.768371   11.358492   \n",
      "17695 2022-05-12    9.428121    7.323471    9.058269    9.068801   \n",
      "\n",
      "             Volume   Adj Close symbol      name  \n",
      "0      8.036550e+06  314.248993    BTC   Bitcoin  \n",
      "1      7.860650e+06  315.032013    BTC   Bitcoin  \n",
      "2      3.305440e+07  281.082001    BTC   Bitcoin  \n",
      "3      5.562910e+07  264.195007    BTC   Bitcoin  \n",
      "4      4.396280e+07  274.473999    BTC   Bitcoin  \n",
      "...             ...         ...    ...       ...  \n",
      "17691  5.939830e+08   13.775654    DOT  Polkadot  \n",
      "17692  7.586109e+08   13.254074    DOT  Polkadot  \n",
      "17693  1.529550e+09   10.767036    DOT  Polkadot  \n",
      "17694  1.771557e+09   11.358492    DOT  Polkadot  \n",
      "17695  2.292329e+09    9.068801    DOT  Polkadot  \n",
      "\n",
      "[17696 rows x 9 columns]\n"
     ]
    },
    {
     "name": "stderr",
     "output_type": "stream",
     "text": [
      "C:\\Users\\User\\AppData\\Local\\Temp\\ipykernel_11552\\161984556.py:26: FutureWarning: The frame.append method is deprecated and will be removed from pandas in a future version. Use pandas.concat instead.\n",
      "  crypto_df = crypto_df.append(df)\n"
     ]
    },
    {
     "name": "stdout",
     "output_type": "stream",
     "text": [
      "            Date        High         Low        Open       Close  \\\n",
      "0     2015-01-01  320.434998  314.002991  320.434998  314.248993   \n",
      "1     2015-01-02  315.838989  313.565002  314.079010  315.032013   \n",
      "2     2015-01-03  315.149994  281.082001  314.846008  281.082001   \n",
      "3     2015-01-04  287.230011  257.612000  281.145996  264.195007   \n",
      "4     2015-01-05  278.341003  265.084015  265.084015  274.473999   \n",
      "...          ...         ...         ...         ...         ...   \n",
      "18225 2022-05-08    0.999651    0.990503    0.996907    0.996401   \n",
      "18226 2022-05-09    0.999014    0.793393    0.995427    0.793393   \n",
      "18227 2022-05-10    0.948554    0.684081    0.805948    0.799919   \n",
      "18228 2022-05-11    0.847420    0.299838    0.799372    0.801137   \n",
      "18229 2022-05-12    0.827783    0.452542    0.801058    0.456105   \n",
      "\n",
      "             Volume   Adj Close symbol      name  \n",
      "0      8.036550e+06  314.248993    BTC   Bitcoin  \n",
      "1      7.860650e+06  315.032013    BTC   Bitcoin  \n",
      "2      3.305440e+07  281.082001    BTC   Bitcoin  \n",
      "3      5.562910e+07  264.195007    BTC   Bitcoin  \n",
      "4      4.396280e+07  274.473999    BTC   Bitcoin  \n",
      "...             ...         ...    ...       ...  \n",
      "18225  2.025913e+09    0.996401    UST  TerraUSD  \n",
      "18226  2.809971e+09    0.793393    UST  TerraUSD  \n",
      "18227  4.905955e+09    0.799919    UST  TerraUSD  \n",
      "18228  7.679819e+09    0.801137    UST  TerraUSD  \n",
      "18229  5.748711e+09    0.456105    UST  TerraUSD  \n",
      "\n",
      "[18230 rows x 9 columns]\n"
     ]
    },
    {
     "name": "stderr",
     "output_type": "stream",
     "text": [
      "C:\\Users\\User\\AppData\\Local\\Temp\\ipykernel_11552\\161984556.py:26: FutureWarning: The frame.append method is deprecated and will be removed from pandas in a future version. Use pandas.concat instead.\n",
      "  crypto_df = crypto_df.append(df)\n"
     ]
    },
    {
     "name": "stdout",
     "output_type": "stream",
     "text": [
      "            Date        High         Low        Open       Close  \\\n",
      "0     2015-01-01  320.434998  314.002991  320.434998  314.248993   \n",
      "1     2015-01-02  315.838989  313.565002  314.079010  315.032013   \n",
      "2     2015-01-03  315.149994  281.082001  314.846008  281.082001   \n",
      "3     2015-01-04  287.230011  257.612000  281.145996  264.195007   \n",
      "4     2015-01-05  278.341003  265.084015  265.084015  274.473999   \n",
      "...          ...         ...         ...         ...         ...   \n",
      "19191 2022-05-08    1.001930    0.997955    0.999736    1.000291   \n",
      "19192 2022-05-09    1.002361    0.997820    1.000246    1.000854   \n",
      "19193 2022-05-10    1.002232    0.998038    1.000819    0.999719   \n",
      "19194 2022-05-11    1.004694    0.998226    0.999599    1.002981   \n",
      "19195 2022-05-12    1.024690    1.000930    1.004014    1.003347   \n",
      "\n",
      "             Volume   Adj Close symbol         name  \n",
      "0      8.036550e+06  314.248993    BTC      Bitcoin  \n",
      "1      7.860650e+06  315.032013    BTC      Bitcoin  \n",
      "2      3.305440e+07  281.082001    BTC      Bitcoin  \n",
      "3      5.562910e+07  264.195007    BTC      Bitcoin  \n",
      "4      4.396280e+07  274.473999    BTC      Bitcoin  \n",
      "...             ...         ...    ...          ...  \n",
      "19191  1.045222e+10    1.000291   BUSD  Binance USD  \n",
      "19192  8.100177e+09    1.000854   BUSD  Binance USD  \n",
      "19193  8.730362e+09    0.999719   BUSD  Binance USD  \n",
      "19194  1.558962e+10    1.002981   BUSD  Binance USD  \n",
      "19195  2.023618e+10    1.003347   BUSD  Binance USD  \n",
      "\n",
      "[19196 rows x 9 columns]\n"
     ]
    },
    {
     "name": "stderr",
     "output_type": "stream",
     "text": [
      "C:\\Users\\User\\AppData\\Local\\Temp\\ipykernel_11552\\161984556.py:26: FutureWarning: The frame.append method is deprecated and will be removed from pandas in a future version. Use pandas.concat instead.\n",
      "  crypto_df = crypto_df.append(df)\n"
     ]
    },
    {
     "name": "stdout",
     "output_type": "stream",
     "text": [
      "            Date        High         Low        Open       Close  \\\n",
      "0     2015-01-01  320.434998  314.002991  320.434998  314.248993   \n",
      "1     2015-01-02  315.838989  313.565002  314.079010  315.032013   \n",
      "2     2015-01-03  315.149994  281.082001  314.846008  281.082001   \n",
      "3     2015-01-04  287.230011  257.612000  281.145996  264.195007   \n",
      "4     2015-01-05  278.341003  265.084015  265.084015  274.473999   \n",
      "...          ...         ...         ...         ...         ...   \n",
      "19841 2022-05-08    0.000019    0.000018    0.000019    0.000018   \n",
      "19842 2022-05-09    0.000019    0.000014    0.000018    0.000014   \n",
      "19843 2022-05-10    0.000018    0.000014    0.000014    0.000016   \n",
      "19844 2022-05-11    0.000017    0.000011    0.000016    0.000012   \n",
      "19845 2022-05-12    0.000013    0.000009    0.000012    0.000012   \n",
      "\n",
      "             Volume   Adj Close symbol       name  \n",
      "0      8.036550e+06  314.248993    BTC    Bitcoin  \n",
      "1      7.860650e+06  315.032013    BTC    Bitcoin  \n",
      "2      3.305440e+07  281.082001    BTC    Bitcoin  \n",
      "3      5.562910e+07  264.195007    BTC    Bitcoin  \n",
      "4      4.396280e+07  274.473999    BTC    Bitcoin  \n",
      "...             ...         ...    ...        ...  \n",
      "19841  5.370736e+08    0.000018   SHIB  SHIBA INU  \n",
      "19842  1.391409e+09    0.000014   SHIB  SHIBA INU  \n",
      "19843  1.923105e+09    0.000016   SHIB  SHIBA INU  \n",
      "19844  1.583801e+09    0.000012   SHIB  SHIBA INU  \n",
      "19845  1.686325e+09    0.000012   SHIB  SHIBA INU  \n",
      "\n",
      "[19846 rows x 9 columns]\n"
     ]
    },
    {
     "name": "stderr",
     "output_type": "stream",
     "text": [
      "C:\\Users\\User\\AppData\\Local\\Temp\\ipykernel_11552\\161984556.py:26: FutureWarning: The frame.append method is deprecated and will be removed from pandas in a future version. Use pandas.concat instead.\n",
      "  crypto_df = crypto_df.append(df)\n"
     ]
    },
    {
     "name": "stdout",
     "output_type": "stream",
     "text": [
      "            Date          High           Low          Open         Close  \\\n",
      "0     2015-01-01    320.434998    314.002991    320.434998    314.248993   \n",
      "1     2015-01-02    315.838989    313.565002    314.079010    315.032013   \n",
      "2     2015-01-03    315.149994    281.082001    314.846008    281.082001   \n",
      "3     2015-01-04    287.230011    257.612000    281.145996    264.195007   \n",
      "4     2015-01-05    278.341003    265.084015    265.084015    274.473999   \n",
      "...          ...           ...           ...           ...           ...   \n",
      "21040 2022-05-08  35479.750000  33919.375000  35472.101562  34066.445312   \n",
      "21041 2022-05-09  34167.175781  30400.675781  34052.562500  30400.675781   \n",
      "21042 2022-05-10  32528.972656  29945.867188  30384.060547  31029.583984   \n",
      "21043 2022-05-11  31930.599609  28066.878906  31030.730469  28874.722656   \n",
      "21044 2022-05-12  29902.755859  25985.402344  28957.730469  29422.316406   \n",
      "\n",
      "             Volume     Adj Close symbol             name  \n",
      "0      8.036550e+06    314.248993    BTC          Bitcoin  \n",
      "1      7.860650e+06    315.032013    BTC          Bitcoin  \n",
      "2      3.305440e+07    281.082001    BTC          Bitcoin  \n",
      "3      5.562910e+07    264.195007    BTC          Bitcoin  \n",
      "4      4.396280e+07    274.473999    BTC          Bitcoin  \n",
      "...             ...           ...    ...              ...  \n",
      "21040  3.540921e+08  34066.445312   WBTC  Wrapped Bitcoin  \n",
      "21041  6.582155e+08  30400.675781   WBTC  Wrapped Bitcoin  \n",
      "21042  4.884863e+08  31029.583984   WBTC  Wrapped Bitcoin  \n",
      "21043  9.481565e+08  28874.722656   WBTC  Wrapped Bitcoin  \n",
      "21044  1.275182e+09  29422.316406   WBTC  Wrapped Bitcoin  \n",
      "\n",
      "[21045 rows x 9 columns]\n"
     ]
    },
    {
     "name": "stderr",
     "output_type": "stream",
     "text": [
      "C:\\Users\\User\\AppData\\Local\\Temp\\ipykernel_11552\\161984556.py:26: FutureWarning: The frame.append method is deprecated and will be removed from pandas in a future version. Use pandas.concat instead.\n",
      "  crypto_df = crypto_df.append(df)\n"
     ]
    },
    {
     "name": "stdout",
     "output_type": "stream",
     "text": [
      "            Date        High         Low        Open       Close  \\\n",
      "0     2015-01-01  320.434998  314.002991  320.434998  314.248993   \n",
      "1     2015-01-02  315.838989  313.565002  314.079010  315.032013   \n",
      "2     2015-01-03  315.149994  281.082001  314.846008  281.082001   \n",
      "3     2015-01-04  287.230011  257.612000  281.145996  264.195007   \n",
      "4     2015-01-05  278.341003  265.084015  265.084015  274.473999   \n",
      "...          ...         ...         ...         ...         ...   \n",
      "21616 2022-05-08   11.207347    9.941610   10.439566   11.173626   \n",
      "21617 2022-05-09   11.580922    9.536600   11.170822    9.536600   \n",
      "21618 2022-05-10   10.858898    8.935426    9.515079    9.604581   \n",
      "21619 2022-05-11    9.870795    5.480900    9.592941    6.381394   \n",
      "21620 2022-05-12    7.023853    5.381924    6.393584    7.023853   \n",
      "\n",
      "             Volume   Adj Close symbol           name  \n",
      "0      8.036550e+06  314.248993    BTC        Bitcoin  \n",
      "1      7.860650e+06  315.032013    BTC        Bitcoin  \n",
      "2      3.305440e+07  281.082001    BTC        Bitcoin  \n",
      "3      5.562910e+07  264.195007    BTC        Bitcoin  \n",
      "4      4.396280e+07  274.473999    BTC        Bitcoin  \n",
      "...             ...         ...    ...            ...  \n",
      "21616  9.316645e+08   11.173626   NEAR  NEAR Protocol  \n",
      "21617  1.603095e+09    9.536600   NEAR  NEAR Protocol  \n",
      "21618  1.605930e+09    9.604581   NEAR  NEAR Protocol  \n",
      "21619  2.322539e+09    6.381394   NEAR  NEAR Protocol  \n",
      "21620  2.058081e+09    7.023853   NEAR  NEAR Protocol  \n",
      "\n",
      "[21621 rows x 9 columns]\n"
     ]
    },
    {
     "name": "stderr",
     "output_type": "stream",
     "text": [
      "C:\\Users\\User\\AppData\\Local\\Temp\\ipykernel_11552\\161984556.py:26: FutureWarning: The frame.append method is deprecated and will be removed from pandas in a future version. Use pandas.concat instead.\n",
      "  crypto_df = crypto_df.append(df)\n"
     ]
    },
    {
     "name": "stdout",
     "output_type": "stream",
     "text": [
      "            Date        High         Low        Open       Close  \\\n",
      "0     2015-01-01  320.434998  314.002991  320.434998  314.248993   \n",
      "1     2015-01-02  315.838989  313.565002  314.079010  315.032013   \n",
      "2     2015-01-03  315.149994  281.082001  314.846008  281.082001   \n",
      "3     2015-01-04  287.230011  257.612000  281.145996  264.195007   \n",
      "4     2015-01-05  278.341003  265.084015  265.084015  274.473999   \n",
      "...          ...         ...         ...         ...         ...   \n",
      "22727 2022-05-08    1.026281    0.965592    1.021219    0.974345   \n",
      "22728 2022-05-09    0.990015    0.799419    0.974406    0.821915   \n",
      "22729 2022-05-10    0.982827    0.799712    0.820769    0.890409   \n",
      "22730 2022-05-11    0.908692    0.613696    0.890196    0.666291   \n",
      "22731 2022-05-12    0.705365    0.508411    0.669783    0.619527   \n",
      "\n",
      "             Volume   Adj Close symbol     name  \n",
      "0      8.036550e+06  314.248993    BTC  Bitcoin  \n",
      "1      7.860650e+06  315.032013    BTC  Bitcoin  \n",
      "2      3.305440e+07  281.082001    BTC  Bitcoin  \n",
      "3      5.562910e+07  264.195007    BTC  Bitcoin  \n",
      "4      4.396280e+07  274.473999    BTC  Bitcoin  \n",
      "...             ...         ...    ...      ...  \n",
      "22727  5.716089e+08    0.974345  MATIC  Polygon  \n",
      "22728  9.927299e+08    0.821915  MATIC  Polygon  \n",
      "22729  1.574312e+09    0.890409  MATIC  Polygon  \n",
      "22730  1.825527e+09    0.666291  MATIC  Polygon  \n",
      "22731  1.553136e+09    0.619527  MATIC  Polygon  \n",
      "\n",
      "[22732 rows x 9 columns]\n"
     ]
    },
    {
     "name": "stderr",
     "output_type": "stream",
     "text": [
      "C:\\Users\\User\\AppData\\Local\\Temp\\ipykernel_11552\\161984556.py:26: FutureWarning: The frame.append method is deprecated and will be removed from pandas in a future version. Use pandas.concat instead.\n",
      "  crypto_df = crypto_df.append(df)\n"
     ]
    },
    {
     "name": "stdout",
     "output_type": "stream",
     "text": [
      "            Date        High         Low        Open       Close       Volume  \\\n",
      "0     2015-01-01  320.434998  314.002991  320.434998  314.248993    8036550.0   \n",
      "1     2015-01-02  315.838989  313.565002  314.079010  315.032013    7860650.0   \n",
      "2     2015-01-03  315.149994  281.082001  314.846008  281.082001   33054400.0   \n",
      "3     2015-01-04  287.230011  257.612000  281.145996  264.195007   55629100.0   \n",
      "4     2015-01-05  278.341003  265.084015  265.084015  274.473999   43962800.0   \n",
      "...          ...         ...         ...         ...         ...          ...   \n",
      "23973 2022-05-08    0.271765    0.255696    0.271765    0.256433   45159282.0   \n",
      "23974 2022-05-09    0.257775    0.209882    0.256373    0.209882   97418948.0   \n",
      "23975 2022-05-10    0.241302    0.205769    0.209508    0.230374  110785498.0   \n",
      "23976 2022-05-11    0.237443    0.189642    0.230364    0.194261  138131110.0   \n",
      "23977 2022-05-12    0.201093    0.169409    0.195102    0.178532  141522480.0   \n",
      "\n",
      "        Adj Close symbol        name  \n",
      "0      314.248993    BTC     Bitcoin  \n",
      "1      315.032013    BTC     Bitcoin  \n",
      "2      281.082001    BTC     Bitcoin  \n",
      "3      264.195007    BTC     Bitcoin  \n",
      "4      274.473999    BTC     Bitcoin  \n",
      "...           ...    ...         ...  \n",
      "23973    0.256433    CRO  Crypto.com  \n",
      "23974    0.209882    CRO  Crypto.com  \n",
      "23975    0.230374    CRO  Crypto.com  \n",
      "23976    0.194261    CRO  Crypto.com  \n",
      "23977    0.178532    CRO  Crypto.com  \n",
      "\n",
      "[23978 rows x 9 columns]\n"
     ]
    }
   ],
   "source": [
    "import yfinance as yf\n",
    "import pandas as pd\n",
    "import datetime as dt\n",
    "import pandas_datareader as web\n",
    "\n",
    "crypto_df = pd.DataFrame()\n",
    "\n",
    "crypto = ['BTC','ETH','USDT','BNB','USDC','XRP','SOL','LUNA1','ADA','AVAX','HEX','DOGE','DOT',\n",
    "          'UST','BUSD','SHIB','WBTC','NEAR','MATIC','CRO']\n",
    "crypto_name = ['Bitcoin','Ethereum','Tether','Binance Coin','USD Coin','XRP','Solana','Terra','Cardano',\n",
    "               'Avalanche','HEX','Dogecoin','Polkadot','TerraUSD','Binance USD','SHIBA INU','Wrapped Bitcoin',\n",
    "               'NEAR Protocol','Polygon','Crypto.com']\n",
    "\n",
    "start = dt.datetime(2015,1,1)\n",
    "end = dt.datetime.now()\n",
    "equivalent_currency = 'USD'\n",
    "\n",
    "\n",
    "for i, coin in enumerate(crypto):\n",
    "    #df = yf.Ticker(f\"{coin}-USD\").history(start='2015-01-01',end='2022-03-31', interval=\"1d\")\n",
    "    df = web.DataReader(f'{coin}-{equivalent_currency}','yahoo', start, end)\n",
    "    df = pd.DataFrame(df)\n",
    "    df['symbol'] = coin\n",
    "    coin_index = crypto_name[i]\n",
    "    df['name'] = coin_index\n",
    "    crypto_df = crypto_df.append(df)\n",
    "\n",
    "    print(crypto_df.reset_index())\n",
    "    #print(df.columns)\n",
    "    crypto_df.to_csv('crypto_historical_data1.csv')"
   ]
  },
  {
   "cell_type": "code",
   "execution_count": null,
   "outputs": [],
   "source": [],
   "metadata": {
    "collapsed": false,
    "pycharm": {
     "name": "#%%\n"
    }
   }
  }
 ],
 "metadata": {
  "kernelspec": {
   "display_name": "Python 3",
   "language": "python",
   "name": "python3"
  },
  "language_info": {
   "codemirror_mode": {
    "name": "ipython",
    "version": 2
   },
   "file_extension": ".py",
   "mimetype": "text/x-python",
   "name": "python",
   "nbconvert_exporter": "python",
   "pygments_lexer": "ipython2",
   "version": "2.7.6"
  }
 },
 "nbformat": 4,
 "nbformat_minor": 0
}