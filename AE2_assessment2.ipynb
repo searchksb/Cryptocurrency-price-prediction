{
 "cells": [
  {
   "cell_type": "code",
   "execution_count": 36,
   "metadata": {
    "pycharm": {
     "name": "#%%\n"
    }
   },
   "outputs": [],
   "source": [
    "import warnings\n",
    "\n",
    "import joblib\n",
    "import pandas as pd\n",
    "import numpy as np\n",
    "from pandas import read_csv\n",
    "from sklearn.preprocessing import OrdinalEncoder\n",
    "import seaborn as sns\n",
    "from matplotlib import pyplot\n",
    "import matplotlib.pyplot as plt\n",
    "import plotly.express as px\n",
    "from sklearn.model_selection import train_test_split\n",
    "from sklearn.ensemble import RandomForestRegressor, RandomForestClassifier\n",
    "from sklearn.feature_selection import f_regression\n",
    "from sklearn.metrics import mean_squared_error,mean_absolute_error, mean_absolute_percentage_error, r2_score\n",
    "from statsmodels.tsa.arima.model import ARIMA\n",
    "import pmdarima as pm\n",
    "%matplotlib inline\n",
    "warnings.filterwarnings('ignore')"
   ]
  },
  {
   "cell_type": "code",
   "execution_count": 37,
   "metadata": {
    "pycharm": {
     "name": "#%%\n"
    }
   },
   "outputs": [],
   "source": [
    "#load your data into the dataframe\n",
    "my_data = read_csv('crypto_historical_data1.csv')"
   ]
  },
  {
   "cell_type": "markdown",
   "metadata": {
    "pycharm": {
     "name": "#%% md\n"
    }
   },
   "source": [
    "2. ETHEREUM"
   ]
  },
  {
   "cell_type": "code",
   "execution_count": 38,
   "metadata": {
    "pycharm": {
     "name": "#%%\n"
    }
   },
   "outputs": [
    {
     "data": {
      "text/plain": "            Date         High          Low         Open        Close  \\\n2689  2017-11-09   329.451996   307.056000   308.644989   320.884003   \n2690  2017-11-10   324.717987   294.541992   320.670990   299.252991   \n2691  2017-11-11   319.453003   298.191986   298.585999   314.681000   \n2692  2017-11-12   319.153015   298.513000   314.690002   307.907990   \n2693  2017-11-13   328.415009   307.024994   307.024994   316.716003   \n...          ...          ...          ...          ...          ...   \n4330  2022-05-08  2638.830566  2498.430176  2636.121826  2517.459961   \n4331  2022-05-09  2528.258057  2238.062744  2518.508301  2245.430420   \n4332  2022-05-10  2450.760254  2206.756836  2242.650391  2343.510986   \n4333  2022-05-11  2441.079346  2018.855591  2342.754150  2072.108643   \n4334  2022-05-12  2164.223389  1748.303101  2084.711182  2010.144409   \n\n            Volume    Adj Close symbol      name  \n2689  8.932500e+08   320.884003    ETH  Ethereum  \n2690  8.859860e+08   299.252991    ETH  Ethereum  \n2691  8.423010e+08   314.681000    ETH  Ethereum  \n2692  1.613480e+09   307.907990    ETH  Ethereum  \n2693  1.041890e+09   316.716003    ETH  Ethereum  \n...            ...          ...    ...       ...  \n4330  2.080227e+10  2517.459961    ETH  Ethereum  \n4331  3.633357e+10  2245.430420    ETH  Ethereum  \n4332  3.820210e+10  2343.510986    ETH  Ethereum  \n4333  4.574340e+10  2072.108643    ETH  Ethereum  \n4334  5.032613e+10  2010.144409    ETH  Ethereum  \n\n[1646 rows x 9 columns]",
      "text/html": "<div>\n<style scoped>\n    .dataframe tbody tr th:only-of-type {\n        vertical-align: middle;\n    }\n\n    .dataframe tbody tr th {\n        vertical-align: top;\n    }\n\n    .dataframe thead th {\n        text-align: right;\n    }\n</style>\n<table border=\"1\" class=\"dataframe\">\n  <thead>\n    <tr style=\"text-align: right;\">\n      <th></th>\n      <th>Date</th>\n      <th>High</th>\n      <th>Low</th>\n      <th>Open</th>\n      <th>Close</th>\n      <th>Volume</th>\n      <th>Adj Close</th>\n      <th>symbol</th>\n      <th>name</th>\n    </tr>\n  </thead>\n  <tbody>\n    <tr>\n      <th>2689</th>\n      <td>2017-11-09</td>\n      <td>329.451996</td>\n      <td>307.056000</td>\n      <td>308.644989</td>\n      <td>320.884003</td>\n      <td>8.932500e+08</td>\n      <td>320.884003</td>\n      <td>ETH</td>\n      <td>Ethereum</td>\n    </tr>\n    <tr>\n      <th>2690</th>\n      <td>2017-11-10</td>\n      <td>324.717987</td>\n      <td>294.541992</td>\n      <td>320.670990</td>\n      <td>299.252991</td>\n      <td>8.859860e+08</td>\n      <td>299.252991</td>\n      <td>ETH</td>\n      <td>Ethereum</td>\n    </tr>\n    <tr>\n      <th>2691</th>\n      <td>2017-11-11</td>\n      <td>319.453003</td>\n      <td>298.191986</td>\n      <td>298.585999</td>\n      <td>314.681000</td>\n      <td>8.423010e+08</td>\n      <td>314.681000</td>\n      <td>ETH</td>\n      <td>Ethereum</td>\n    </tr>\n    <tr>\n      <th>2692</th>\n      <td>2017-11-12</td>\n      <td>319.153015</td>\n      <td>298.513000</td>\n      <td>314.690002</td>\n      <td>307.907990</td>\n      <td>1.613480e+09</td>\n      <td>307.907990</td>\n      <td>ETH</td>\n      <td>Ethereum</td>\n    </tr>\n    <tr>\n      <th>2693</th>\n      <td>2017-11-13</td>\n      <td>328.415009</td>\n      <td>307.024994</td>\n      <td>307.024994</td>\n      <td>316.716003</td>\n      <td>1.041890e+09</td>\n      <td>316.716003</td>\n      <td>ETH</td>\n      <td>Ethereum</td>\n    </tr>\n    <tr>\n      <th>...</th>\n      <td>...</td>\n      <td>...</td>\n      <td>...</td>\n      <td>...</td>\n      <td>...</td>\n      <td>...</td>\n      <td>...</td>\n      <td>...</td>\n      <td>...</td>\n    </tr>\n    <tr>\n      <th>4330</th>\n      <td>2022-05-08</td>\n      <td>2638.830566</td>\n      <td>2498.430176</td>\n      <td>2636.121826</td>\n      <td>2517.459961</td>\n      <td>2.080227e+10</td>\n      <td>2517.459961</td>\n      <td>ETH</td>\n      <td>Ethereum</td>\n    </tr>\n    <tr>\n      <th>4331</th>\n      <td>2022-05-09</td>\n      <td>2528.258057</td>\n      <td>2238.062744</td>\n      <td>2518.508301</td>\n      <td>2245.430420</td>\n      <td>3.633357e+10</td>\n      <td>2245.430420</td>\n      <td>ETH</td>\n      <td>Ethereum</td>\n    </tr>\n    <tr>\n      <th>4332</th>\n      <td>2022-05-10</td>\n      <td>2450.760254</td>\n      <td>2206.756836</td>\n      <td>2242.650391</td>\n      <td>2343.510986</td>\n      <td>3.820210e+10</td>\n      <td>2343.510986</td>\n      <td>ETH</td>\n      <td>Ethereum</td>\n    </tr>\n    <tr>\n      <th>4333</th>\n      <td>2022-05-11</td>\n      <td>2441.079346</td>\n      <td>2018.855591</td>\n      <td>2342.754150</td>\n      <td>2072.108643</td>\n      <td>4.574340e+10</td>\n      <td>2072.108643</td>\n      <td>ETH</td>\n      <td>Ethereum</td>\n    </tr>\n    <tr>\n      <th>4334</th>\n      <td>2022-05-12</td>\n      <td>2164.223389</td>\n      <td>1748.303101</td>\n      <td>2084.711182</td>\n      <td>2010.144409</td>\n      <td>5.032613e+10</td>\n      <td>2010.144409</td>\n      <td>ETH</td>\n      <td>Ethereum</td>\n    </tr>\n  </tbody>\n</table>\n<p>1646 rows × 9 columns</p>\n</div>"
     },
     "execution_count": 38,
     "metadata": {},
     "output_type": "execute_result"
    }
   ],
   "source": [
    "eth=my_data[my_data['symbol']=='ETH']#Extracting the ethereum data from the dataframe\n",
    "eth"
   ]
  },
  {
   "cell_type": "code",
   "execution_count": 39,
   "metadata": {
    "pycharm": {
     "name": "#%%\n"
    }
   },
   "outputs": [],
   "source": [
    "eth = eth.set_index('Date')"
   ]
  },
  {
   "cell_type": "code",
   "execution_count": 40,
   "metadata": {
    "pycharm": {
     "name": "#%%\n"
    }
   },
   "outputs": [
    {
     "name": "stdout",
     "output_type": "stream",
     "text": [
      "Performing stepwise search to minimize aic\n",
      " ARIMA(2,1,2)(0,0,0)[0] intercept   : AIC=19081.448, Time=6.10 sec\n",
      " ARIMA(0,1,0)(0,0,0)[0] intercept   : AIC=19100.762, Time=0.10 sec\n",
      " ARIMA(1,1,0)(0,0,0)[0] intercept   : AIC=19095.100, Time=0.13 sec\n",
      " ARIMA(0,1,1)(0,0,0)[0] intercept   : AIC=19095.273, Time=0.26 sec\n",
      " ARIMA(0,1,0)(0,0,0)[0]             : AIC=19099.032, Time=0.04 sec\n",
      " ARIMA(1,1,2)(0,0,0)[0] intercept   : AIC=19094.998, Time=2.34 sec\n",
      " ARIMA(2,1,1)(0,0,0)[0] intercept   : AIC=19097.554, Time=4.03 sec\n",
      " ARIMA(3,1,2)(0,0,0)[0] intercept   : AIC=19083.341, Time=8.99 sec\n",
      " ARIMA(2,1,3)(0,0,0)[0] intercept   : AIC=19063.592, Time=9.97 sec\n",
      " ARIMA(1,1,3)(0,0,0)[0] intercept   : AIC=19095.663, Time=2.62 sec\n",
      " ARIMA(3,1,3)(0,0,0)[0] intercept   : AIC=19077.395, Time=9.23 sec\n",
      " ARIMA(2,1,4)(0,0,0)[0] intercept   : AIC=19065.645, Time=14.15 sec\n",
      " ARIMA(1,1,4)(0,0,0)[0] intercept   : AIC=19080.243, Time=2.55 sec\n",
      " ARIMA(3,1,4)(0,0,0)[0] intercept   : AIC=19072.710, Time=10.52 sec\n",
      " ARIMA(2,1,3)(0,0,0)[0]             : AIC=19091.521, Time=1.78 sec\n",
      "\n",
      "Best model:  ARIMA(2,1,3)(0,0,0)[0] intercept\n",
      "Total fit time: 73.218 seconds\n"
     ]
    },
    {
     "data": {
      "text/plain": "ARIMA(order=(2, 1, 3), scoring_args={}, suppress_warnings=True)"
     },
     "execution_count": 40,
     "metadata": {},
     "output_type": "execute_result"
    }
   ],
   "source": [
    "# getting the best order with autoarima\n",
    "def arimamodel(series):\n",
    "    auto = pm.auto_arima(series,\n",
    "                              starts_p=1, starts_q=1,\n",
    "                              max_p =10, max_q=10,\n",
    "                              test='adf', seasonal=True,\n",
    "                              trace= True)\n",
    "    return auto\n",
    "\n",
    "arimamodel(eth['Close'])"
   ]
  },
  {
   "cell_type": "code",
   "execution_count": 74,
   "metadata": {
    "pycharm": {
     "name": "#%%\n"
    }
   },
   "outputs": [
    {
     "name": "stdout",
     "output_type": "stream",
     "text": [
      "                               SARIMAX Results                                \n",
      "==============================================================================\n",
      "Dep. Variable:                  Close   No. Observations:                 1646\n",
      "Model:                 ARIMA(2, 1, 3)   Log Likelihood               -9539.760\n",
      "Date:                Thu, 12 May 2022   AIC                          19091.521\n",
      "Time:                        22:44:36   BIC                          19123.954\n",
      "Sample:                    11-09-2017   HQIC                         19103.547\n",
      "                         - 05-12-2022                                         \n",
      "Covariance Type:                  opg                                         \n",
      "==============================================================================\n",
      "                 coef    std err          z      P>|z|      [0.025      0.975]\n",
      "------------------------------------------------------------------------------\n",
      "ar.L1         -1.2302      0.081    -15.274      0.000      -1.388      -1.072\n",
      "ar.L2         -0.6698      0.076     -8.861      0.000      -0.818      -0.522\n",
      "ma.L1          1.1772      0.083     14.252      0.000       1.015       1.339\n",
      "ma.L2          0.5645      0.078      7.205      0.000       0.411       0.718\n",
      "ma.L3         -0.0929      0.012     -7.805      0.000      -0.116      -0.070\n",
      "sigma2      6395.6222     79.723     80.223      0.000    6239.369    6551.876\n",
      "===================================================================================\n",
      "Ljung-Box (L1) (Q):                   0.09   Jarque-Bera (JB):             22694.43\n",
      "Prob(Q):                              0.77   Prob(JB):                         0.00\n",
      "Heteroskedasticity (H):              17.22   Skew:                            -1.02\n",
      "Prob(H) (two-sided):                  0.00   Kurtosis:                        21.08\n",
      "===================================================================================\n",
      "\n",
      "Warnings:\n",
      "[1] Covariance matrix calculated using the outer product of gradients (complex-step).\n"
     ]
    }
   ],
   "source": [
    "# 2,1,3 ARIMA Model\n",
    "model = ARIMA(eth['Close'], order=(2,1,3))\n",
    "result = model.fit()\n",
    "print(result.summary())"
   ]
  },
  {
   "cell_type": "code",
   "execution_count": 75,
   "metadata": {
    "pycharm": {
     "name": "#%%\n"
    }
   },
   "outputs": [
    {
     "name": "stdout",
     "output_type": "stream",
     "text": [
      "1316\n",
      "330\n"
     ]
    }
   ],
   "source": [
    "#train test split\n",
    "n=int(len(eth['Close'])*0.8)\n",
    "train = eth['Close'][:n]\n",
    "test = eth['Close'][n:]\n",
    "print(len(train))\n",
    "print(len(test))"
   ]
  },
  {
   "cell_type": "code",
   "execution_count": 76,
   "metadata": {
    "pycharm": {
     "name": "#%%\n"
    }
   },
   "outputs": [
    {
     "data": {
      "text/plain": "2021-06-17    2381.987018\n2021-06-18    2378.711896\n2021-06-19    2244.456637\n2021-06-20    2178.260270\n2021-06-21    2255.126367\n                 ...     \n2022-05-08    2649.089385\n2022-05-09    2515.212350\n2022-05-10    2273.934395\n2022-05-11    2346.910810\n2022-05-12    2081.129247\nFreq: D, Name: predicted_mean, Length: 330, dtype: float64"
     },
     "execution_count": 76,
     "metadata": {},
     "output_type": "execute_result"
    }
   ],
   "source": [
    "start=len(train)\n",
    "end=len(train)+len(test)-1\n",
    "predictions=result.predict(start=start,end=end, dynamic=False, type='level')\n",
    "predictions\n",
    "# df = pd.DataFrame({'Actual': test, 'Predicted': predictions})\n",
    "# print(df)"
   ]
  },
  {
   "cell_type": "code",
   "execution_count": 77,
   "metadata": {
    "pycharm": {
     "name": "#%%\n"
    }
   },
   "outputs": [
    {
     "name": "stdout",
     "output_type": "stream",
     "text": [
      "Mean absolute error:, 101.99\n",
      "Mean squared error:, 17654.17\n",
      "Root mean squared error:, 132.87\n",
      "r2 score:0.97\n",
      "Mean absolute percentage error:, 0.03\n"
     ]
    }
   ],
   "source": [
    "#evaluate\n",
    "mae = mean_absolute_error(test, predictions)\n",
    "mse = mean_squared_error(test, predictions)\n",
    "rmse = np.sqrt(mse)\n",
    "r2 =  r2_score(test, predictions)\n",
    "#the r2 for the train dataset\n",
    "mape = mean_absolute_percentage_error(test, predictions)\n",
    "\n",
    "#printing the model evaluation values\n",
    "print('Mean absolute error:, {:.2f}'.format(mae))\n",
    "print('Mean squared error:, {:.2f}'.format(mse))\n",
    "print('Root mean squared error:, {:.2f}'.format(rmse))\n",
    "print('r2 score:{:.2f}'.format(r2))\n",
    "print('Mean absolute percentage error:, {:.2f}'.format(mape))"
   ]
  },
  {
   "cell_type": "code",
   "execution_count": 78,
   "metadata": {
    "pycharm": {
     "name": "#%%\n"
    }
   },
   "outputs": [
    {
     "data": {
      "text/plain": "['eth_model.sav']"
     },
     "execution_count": 78,
     "metadata": {},
     "output_type": "execute_result"
    }
   ],
   "source": [
    "#saving model to disk\n",
    "final_model = 'eth_model.sav'\n",
    "joblib.dump(model, final_model)"
   ]
  },
  {
   "cell_type": "code",
   "execution_count": 79,
   "metadata": {
    "pycharm": {
     "name": "#%%\n"
    }
   },
   "outputs": [
    {
     "data": {
      "text/plain": "2022-05-13    2023.020424\n2022-05-14    2034.141335\n2022-05-15    2018.429697\n2022-05-16    2030.308893\n2022-05-17    2026.219107\n2022-05-18    2023.293570\n2022-05-19    2029.631804\nFreq: D, Name: predicted_mean, dtype: float64"
     },
     "execution_count": 79,
     "metadata": {},
     "output_type": "execute_result"
    }
   ],
   "source": [
    "forecast =result.forecast(steps=7,type='level')\n",
    "forecast"
   ]
  },
  {
   "cell_type": "markdown",
   "source": [
    "TETHER"
   ],
   "metadata": {
    "collapsed": false,
    "pycharm": {
     "name": "#%% md\n"
    }
   }
  },
  {
   "cell_type": "code",
   "execution_count": 50,
   "metadata": {
    "pycharm": {
     "name": "#%%\n"
    }
   },
   "outputs": [
    {
     "data": {
      "text/plain": "                High       Low      Open     Close        Volume  Adj Close  \\\nDate                                                                          \n2017-11-09  1.013270  0.996515  1.010870  1.008180  3.581880e+08   1.008180   \n2017-11-10  1.024230  0.995486  1.006500  1.006010  7.564460e+08   1.006010   \n2017-11-11  1.026210  0.995799  1.005980  1.008990  7.462280e+08   1.008990   \n2017-11-12  1.105910  0.967601  1.006020  1.012470  1.466060e+09   1.012470   \n2017-11-13  1.029290  0.975103  1.004480  1.009350  7.678840e+08   1.009350   \n...              ...       ...       ...       ...           ...        ...   \n2022-05-08  1.000063  0.999740  0.999919  0.999854  7.790016e+10   0.999854   \n2022-05-09  1.000134  0.999770  0.999870  0.999909  1.207103e+11   0.999909   \n2022-05-10  1.000134  0.999709  0.999945  0.999791  1.286921e+11   0.999791   \n2022-05-11  0.999996  0.993459  0.999790  0.995872  1.597004e+11   0.995872   \n2022-05-12  0.996873  0.950784  0.995954  0.995099  1.722398e+11   0.995099   \n\n           symbol    name  \nDate                       \n2017-11-09   USDT  Tether  \n2017-11-10   USDT  Tether  \n2017-11-11   USDT  Tether  \n2017-11-12   USDT  Tether  \n2017-11-13   USDT  Tether  \n...           ...     ...  \n2022-05-08   USDT  Tether  \n2022-05-09   USDT  Tether  \n2022-05-10   USDT  Tether  \n2022-05-11   USDT  Tether  \n2022-05-12   USDT  Tether  \n\n[1646 rows x 8 columns]",
      "text/html": "<div>\n<style scoped>\n    .dataframe tbody tr th:only-of-type {\n        vertical-align: middle;\n    }\n\n    .dataframe tbody tr th {\n        vertical-align: top;\n    }\n\n    .dataframe thead th {\n        text-align: right;\n    }\n</style>\n<table border=\"1\" class=\"dataframe\">\n  <thead>\n    <tr style=\"text-align: right;\">\n      <th></th>\n      <th>High</th>\n      <th>Low</th>\n      <th>Open</th>\n      <th>Close</th>\n      <th>Volume</th>\n      <th>Adj Close</th>\n      <th>symbol</th>\n      <th>name</th>\n    </tr>\n    <tr>\n      <th>Date</th>\n      <th></th>\n      <th></th>\n      <th></th>\n      <th></th>\n      <th></th>\n      <th></th>\n      <th></th>\n      <th></th>\n    </tr>\n  </thead>\n  <tbody>\n    <tr>\n      <th>2017-11-09</th>\n      <td>1.013270</td>\n      <td>0.996515</td>\n      <td>1.010870</td>\n      <td>1.008180</td>\n      <td>3.581880e+08</td>\n      <td>1.008180</td>\n      <td>USDT</td>\n      <td>Tether</td>\n    </tr>\n    <tr>\n      <th>2017-11-10</th>\n      <td>1.024230</td>\n      <td>0.995486</td>\n      <td>1.006500</td>\n      <td>1.006010</td>\n      <td>7.564460e+08</td>\n      <td>1.006010</td>\n      <td>USDT</td>\n      <td>Tether</td>\n    </tr>\n    <tr>\n      <th>2017-11-11</th>\n      <td>1.026210</td>\n      <td>0.995799</td>\n      <td>1.005980</td>\n      <td>1.008990</td>\n      <td>7.462280e+08</td>\n      <td>1.008990</td>\n      <td>USDT</td>\n      <td>Tether</td>\n    </tr>\n    <tr>\n      <th>2017-11-12</th>\n      <td>1.105910</td>\n      <td>0.967601</td>\n      <td>1.006020</td>\n      <td>1.012470</td>\n      <td>1.466060e+09</td>\n      <td>1.012470</td>\n      <td>USDT</td>\n      <td>Tether</td>\n    </tr>\n    <tr>\n      <th>2017-11-13</th>\n      <td>1.029290</td>\n      <td>0.975103</td>\n      <td>1.004480</td>\n      <td>1.009350</td>\n      <td>7.678840e+08</td>\n      <td>1.009350</td>\n      <td>USDT</td>\n      <td>Tether</td>\n    </tr>\n    <tr>\n      <th>...</th>\n      <td>...</td>\n      <td>...</td>\n      <td>...</td>\n      <td>...</td>\n      <td>...</td>\n      <td>...</td>\n      <td>...</td>\n      <td>...</td>\n    </tr>\n    <tr>\n      <th>2022-05-08</th>\n      <td>1.000063</td>\n      <td>0.999740</td>\n      <td>0.999919</td>\n      <td>0.999854</td>\n      <td>7.790016e+10</td>\n      <td>0.999854</td>\n      <td>USDT</td>\n      <td>Tether</td>\n    </tr>\n    <tr>\n      <th>2022-05-09</th>\n      <td>1.000134</td>\n      <td>0.999770</td>\n      <td>0.999870</td>\n      <td>0.999909</td>\n      <td>1.207103e+11</td>\n      <td>0.999909</td>\n      <td>USDT</td>\n      <td>Tether</td>\n    </tr>\n    <tr>\n      <th>2022-05-10</th>\n      <td>1.000134</td>\n      <td>0.999709</td>\n      <td>0.999945</td>\n      <td>0.999791</td>\n      <td>1.286921e+11</td>\n      <td>0.999791</td>\n      <td>USDT</td>\n      <td>Tether</td>\n    </tr>\n    <tr>\n      <th>2022-05-11</th>\n      <td>0.999996</td>\n      <td>0.993459</td>\n      <td>0.999790</td>\n      <td>0.995872</td>\n      <td>1.597004e+11</td>\n      <td>0.995872</td>\n      <td>USDT</td>\n      <td>Tether</td>\n    </tr>\n    <tr>\n      <th>2022-05-12</th>\n      <td>0.996873</td>\n      <td>0.950784</td>\n      <td>0.995954</td>\n      <td>0.995099</td>\n      <td>1.722398e+11</td>\n      <td>0.995099</td>\n      <td>USDT</td>\n      <td>Tether</td>\n    </tr>\n  </tbody>\n</table>\n<p>1646 rows × 8 columns</p>\n</div>"
     },
     "execution_count": 50,
     "metadata": {},
     "output_type": "execute_result"
    }
   ],
   "source": [
    "usdt = my_data[my_data['symbol'] == 'USDT']  #Extracting the tether data from the dataframe\n",
    "usdt = usdt.set_index('Date')\n",
    "usdt"
   ]
  },
  {
   "cell_type": "code",
   "metadata": {
    "pycharm": {
     "name": "#%%\n"
    }
   },
   "source": [
    "# getting the best order with autoarima\n",
    "def arimamodel(series):\n",
    "    auto = pm.auto_arima(series,\n",
    "                         starts_p=1, starts_q=1,\n",
    "                         max_p=8, max_q=8,\n",
    "                         test='adf', seasonal=True,\n",
    "                         trace=True)\n",
    "    return auto\n",
    "\n",
    "arimamodel(usdt['Close'])"
   ],
   "outputs": [
    {
     "name": "stdout",
     "output_type": "stream",
     "text": [
      "Performing stepwise search to minimize aic\n",
      " ARIMA(2,0,2)(0,0,0)[0] intercept   : AIC=-13319.705, Time=5.04 sec\n",
      " ARIMA(0,0,0)(0,0,0)[0] intercept   : AIC=-12139.034, Time=0.38 sec\n",
      " ARIMA(1,0,0)(0,0,0)[0] intercept   : AIC=-13151.091, Time=0.26 sec\n",
      " ARIMA(0,0,1)(0,0,0)[0] intercept   : AIC=-12713.769, Time=1.61 sec\n",
      " ARIMA(0,0,0)(0,0,0)[0]             : AIC=4679.246, Time=0.04 sec\n",
      " ARIMA(1,0,2)(0,0,0)[0] intercept   : AIC=-13293.268, Time=2.87 sec\n",
      " ARIMA(2,0,1)(0,0,0)[0] intercept   : AIC=-13308.125, Time=14.68 sec\n",
      " ARIMA(3,0,2)(0,0,0)[0] intercept   : AIC=-13315.303, Time=4.68 sec\n",
      " ARIMA(2,0,3)(0,0,0)[0] intercept   : AIC=-13298.006, Time=3.29 sec\n",
      " ARIMA(1,0,1)(0,0,0)[0] intercept   : AIC=-13277.808, Time=3.55 sec\n",
      " ARIMA(1,0,3)(0,0,0)[0] intercept   : AIC=-13293.754, Time=3.06 sec\n",
      " ARIMA(3,0,1)(0,0,0)[0] intercept   : AIC=-13290.057, Time=6.54 sec\n",
      " ARIMA(3,0,3)(0,0,0)[0] intercept   : AIC=-13328.089, Time=2.35 sec\n",
      " ARIMA(4,0,3)(0,0,0)[0] intercept   : AIC=-13333.224, Time=4.28 sec\n",
      " ARIMA(4,0,2)(0,0,0)[0] intercept   : AIC=-13328.715, Time=6.45 sec\n",
      " ARIMA(5,0,3)(0,0,0)[0] intercept   : AIC=-13226.292, Time=11.59 sec\n",
      " ARIMA(4,0,4)(0,0,0)[0] intercept   : AIC=-13348.274, Time=3.16 sec\n",
      " ARIMA(3,0,4)(0,0,0)[0] intercept   : AIC=-13347.878, Time=2.08 sec\n",
      " ARIMA(5,0,4)(0,0,0)[0] intercept   : AIC=-13028.782, Time=24.07 sec\n",
      " ARIMA(4,0,5)(0,0,0)[0] intercept   : AIC=-12675.245, Time=37.86 sec\n",
      " ARIMA(3,0,5)(0,0,0)[0] intercept   : AIC=-7166.051, Time=19.86 sec\n",
      " ARIMA(5,0,5)(0,0,0)[0] intercept   : AIC=-13290.098, Time=25.04 sec\n",
      " ARIMA(4,0,4)(0,0,0)[0]             : AIC=-13303.947, Time=2.79 sec\n",
      "\n",
      "Best model:  ARIMA(4,0,4)(0,0,0)[0] intercept\n",
      "Total fit time: 185.553 seconds\n"
     ]
    },
    {
     "data": {
      "text/plain": "ARIMA(order=(4, 0, 4), scoring_args={}, suppress_warnings=True)"
     },
     "execution_count": 52,
     "metadata": {},
     "output_type": "execute_result"
    }
   ],
   "execution_count": 52
  },
  {
   "cell_type": "code",
   "execution_count": 80,
   "metadata": {
    "pycharm": {
     "name": "#%%\n"
    }
   },
   "outputs": [
    {
     "name": "stdout",
     "output_type": "stream",
     "text": [
      "                               SARIMAX Results                                \n",
      "==============================================================================\n",
      "Dep. Variable:                  Close   No. Observations:                 1646\n",
      "Model:                 ARIMA(4, 0, 4)   Log Likelihood                6686.478\n",
      "Date:                Thu, 12 May 2022   AIC                         -13352.956\n",
      "Time:                        22:45:22   BIC                         -13298.895\n",
      "Sample:                    11-09-2017   HQIC                        -13332.910\n",
      "                         - 05-12-2022                                         \n",
      "Covariance Type:                  opg                                         \n",
      "==============================================================================\n",
      "                 coef    std err          z      P>|z|      [0.025      0.975]\n",
      "------------------------------------------------------------------------------\n",
      "const          1.0018      0.001   1070.422      0.000       1.000       1.004\n",
      "ar.L1         -0.3749      0.142     -2.648      0.008      -0.652      -0.097\n",
      "ar.L2          0.4718      0.146      3.231      0.001       0.186       0.758\n",
      "ar.L3          0.4805      0.141      3.401      0.001       0.204       0.757\n",
      "ar.L4          0.2649      0.125      2.115      0.034       0.019       0.510\n",
      "ma.L1          0.7906      0.141      5.608      0.000       0.514       1.067\n",
      "ma.L2         -0.0043      0.154     -0.028      0.978      -0.307       0.298\n",
      "ma.L3         -0.3093      0.113     -2.736      0.006      -0.531      -0.088\n",
      "ma.L4         -0.2605      0.066     -3.918      0.000      -0.391      -0.130\n",
      "sigma2      1.733e-05   1.48e-07    117.412      0.000     1.7e-05    1.76e-05\n",
      "===================================================================================\n",
      "Ljung-Box (L1) (Q):                   0.00   Jarque-Bera (JB):            200199.56\n",
      "Prob(Q):                              0.98   Prob(JB):                         0.00\n",
      "Heteroskedasticity (H):               0.02   Skew:                             3.56\n",
      "Prob(H) (two-sided):                  0.00   Kurtosis:                        56.56\n",
      "===================================================================================\n",
      "\n",
      "Warnings:\n",
      "[1] Covariance matrix calculated using the outer product of gradients (complex-step).\n"
     ]
    }
   ],
   "source": [
    "# 4,0,4 ARIMA Model\n",
    "model = ARIMA(usdt['Close'], order=(4, 0, 4))\n",
    "result = model.fit()\n",
    "print(result.summary())"
   ]
  },
  {
   "cell_type": "code",
   "execution_count": 81,
   "metadata": {
    "pycharm": {
     "name": "#%%\n"
    }
   },
   "outputs": [
    {
     "name": "stdout",
     "output_type": "stream",
     "text": [
      "1316\n",
      "330\n"
     ]
    }
   ],
   "source": [
    "#train test split\n",
    "n = int(len(usdt['Close']) * 0.8)\n",
    "train = usdt['Close'][:n]\n",
    "test = usdt['Close'][n:]\n",
    "print(len(train))\n",
    "print(len(test))"
   ]
  },
  {
   "cell_type": "code",
   "execution_count": 83,
   "metadata": {
    "pycharm": {
     "name": "#%%\n"
    }
   },
   "outputs": [
    {
     "data": {
      "text/plain": "2021-06-17    1.000490\n2021-06-18    1.000643\n2021-06-19    1.001256\n2021-06-20    1.001169\n2021-06-21    1.001042\n                ...   \n2022-05-08    1.000221\n2022-05-09    1.000171\n2022-05-10    1.000177\n2022-05-11    1.000128\n2022-05-12    0.998470\nFreq: D, Name: predicted_mean, Length: 330, dtype: float64"
     },
     "execution_count": 83,
     "metadata": {},
     "output_type": "execute_result"
    }
   ],
   "source": [
    "start = len(train)\n",
    "end = len(train) + len(test) - 1\n",
    "predictions = result.predict(start=start, end=end, dynamic=False, type='level')\n",
    "predictions\n",
    "# df = pd.DataFrame({'Actual': test, 'Predicted': predictions})\n",
    "# print(df)\n"
   ]
  },
  {
   "cell_type": "code",
   "execution_count": 84,
   "metadata": {
    "pycharm": {
     "name": "#%%\n"
    }
   },
   "outputs": [
    {
     "name": "stdout",
     "output_type": "stream",
     "text": [
      "Mean absolute error:, 0.00\n",
      "Mean squared error:, 0.00\n",
      "Root mean squared error:, 0.00\n",
      "r2 score:0.09\n",
      "Mean absolute percentage error:, 0.00\n"
     ]
    }
   ],
   "source": [
    "#evaluate\n",
    "mae = mean_absolute_error(test, predictions)\n",
    "mse = mean_squared_error(test, predictions)\n",
    "rmse = np.sqrt(mse)\n",
    "r2 = r2_score(test, predictions)\n",
    "#the r2 for the train dataset\n",
    "mape = mean_absolute_percentage_error(test, predictions)\n",
    "\n",
    "#printing the model evaluation values\n",
    "print('Mean absolute error:, {:.2f}'.format(mae))\n",
    "print('Mean squared error:, {:.2f}'.format(mse))\n",
    "print('Root mean squared error:, {:.2f}'.format(rmse))\n",
    "print('r2 score:{:.2f}'.format(r2))\n",
    "print('Mean absolute percentage error:, {:.2f}'.format(mape))"
   ]
  },
  {
   "cell_type": "code",
   "execution_count": 85,
   "metadata": {
    "pycharm": {
     "name": "#%%\n"
    }
   },
   "outputs": [
    {
     "data": {
      "text/plain": "2022-05-13    0.997596\n2022-05-14    0.998271\n2022-05-15    0.998506\n2022-05-16    0.998459\n2022-05-17    0.998695\n2022-05-18    0.998876\n2022-05-19    0.998959\nFreq: D, Name: predicted_mean, dtype: float64"
     },
     "execution_count": 85,
     "metadata": {},
     "output_type": "execute_result"
    }
   ],
   "source": [
    "#saving model to disk\n",
    "final_model = 'usdt_model.sav'\n",
    "joblib.dump(model, final_model)\n",
    "forecast = result.forecast(steps=7, type='level')\n",
    "forecast"
   ]
  },
  {
   "cell_type": "markdown",
   "metadata": {
    "pycharm": {
     "name": "#%% md\n"
    }
   },
   "source": [
    "BINANCE COIN"
   ]
  },
  {
   "cell_type": "code",
   "execution_count": 58,
   "metadata": {
    "pycharm": {
     "name": "#%%\n"
    }
   },
   "outputs": [
    {
     "data": {
      "text/plain": "                  High         Low        Open       Close        Volume  \\\nDate                                                                       \n2017-11-09    2.174230    1.893940    2.053140    1.990770  1.919220e+07   \n2017-11-10    2.069470    1.644780    2.007730    1.796840  1.115500e+07   \n2017-11-11    1.917750    1.614290    1.786280    1.670470  8.178150e+06   \n2017-11-12    1.672800    1.462560    1.668890    1.519690  1.529870e+07   \n2017-11-13    1.735020    1.517600    1.526010    1.686620  1.223880e+07   \n...                ...         ...         ...         ...           ...   \n2022-05-08  366.509583  351.143768  365.733002  355.398743  1.875846e+09   \n2022-05-09  358.950714  299.348938  355.377411  299.348938  2.943374e+09   \n2022-05-10  332.438843  290.586792  298.820709  319.326965  3.210604e+09   \n2022-05-11  322.766815  262.620453  319.122772  269.962769  3.870619e+09   \n2022-05-12  281.912445  216.361496  271.459320  279.885101  5.235505e+09   \n\n             Adj Close symbol          name  \nDate                                         \n2017-11-09    1.990770    BNB  Binance Coin  \n2017-11-10    1.796840    BNB  Binance Coin  \n2017-11-11    1.670470    BNB  Binance Coin  \n2017-11-12    1.519690    BNB  Binance Coin  \n2017-11-13    1.686620    BNB  Binance Coin  \n...                ...    ...           ...  \n2022-05-08  355.398743    BNB  Binance Coin  \n2022-05-09  299.348938    BNB  Binance Coin  \n2022-05-10  319.326965    BNB  Binance Coin  \n2022-05-11  269.962769    BNB  Binance Coin  \n2022-05-12  279.885101    BNB  Binance Coin  \n\n[1646 rows x 8 columns]",
      "text/html": "<div>\n<style scoped>\n    .dataframe tbody tr th:only-of-type {\n        vertical-align: middle;\n    }\n\n    .dataframe tbody tr th {\n        vertical-align: top;\n    }\n\n    .dataframe thead th {\n        text-align: right;\n    }\n</style>\n<table border=\"1\" class=\"dataframe\">\n  <thead>\n    <tr style=\"text-align: right;\">\n      <th></th>\n      <th>High</th>\n      <th>Low</th>\n      <th>Open</th>\n      <th>Close</th>\n      <th>Volume</th>\n      <th>Adj Close</th>\n      <th>symbol</th>\n      <th>name</th>\n    </tr>\n    <tr>\n      <th>Date</th>\n      <th></th>\n      <th></th>\n      <th></th>\n      <th></th>\n      <th></th>\n      <th></th>\n      <th></th>\n      <th></th>\n    </tr>\n  </thead>\n  <tbody>\n    <tr>\n      <th>2017-11-09</th>\n      <td>2.174230</td>\n      <td>1.893940</td>\n      <td>2.053140</td>\n      <td>1.990770</td>\n      <td>1.919220e+07</td>\n      <td>1.990770</td>\n      <td>BNB</td>\n      <td>Binance Coin</td>\n    </tr>\n    <tr>\n      <th>2017-11-10</th>\n      <td>2.069470</td>\n      <td>1.644780</td>\n      <td>2.007730</td>\n      <td>1.796840</td>\n      <td>1.115500e+07</td>\n      <td>1.796840</td>\n      <td>BNB</td>\n      <td>Binance Coin</td>\n    </tr>\n    <tr>\n      <th>2017-11-11</th>\n      <td>1.917750</td>\n      <td>1.614290</td>\n      <td>1.786280</td>\n      <td>1.670470</td>\n      <td>8.178150e+06</td>\n      <td>1.670470</td>\n      <td>BNB</td>\n      <td>Binance Coin</td>\n    </tr>\n    <tr>\n      <th>2017-11-12</th>\n      <td>1.672800</td>\n      <td>1.462560</td>\n      <td>1.668890</td>\n      <td>1.519690</td>\n      <td>1.529870e+07</td>\n      <td>1.519690</td>\n      <td>BNB</td>\n      <td>Binance Coin</td>\n    </tr>\n    <tr>\n      <th>2017-11-13</th>\n      <td>1.735020</td>\n      <td>1.517600</td>\n      <td>1.526010</td>\n      <td>1.686620</td>\n      <td>1.223880e+07</td>\n      <td>1.686620</td>\n      <td>BNB</td>\n      <td>Binance Coin</td>\n    </tr>\n    <tr>\n      <th>...</th>\n      <td>...</td>\n      <td>...</td>\n      <td>...</td>\n      <td>...</td>\n      <td>...</td>\n      <td>...</td>\n      <td>...</td>\n      <td>...</td>\n    </tr>\n    <tr>\n      <th>2022-05-08</th>\n      <td>366.509583</td>\n      <td>351.143768</td>\n      <td>365.733002</td>\n      <td>355.398743</td>\n      <td>1.875846e+09</td>\n      <td>355.398743</td>\n      <td>BNB</td>\n      <td>Binance Coin</td>\n    </tr>\n    <tr>\n      <th>2022-05-09</th>\n      <td>358.950714</td>\n      <td>299.348938</td>\n      <td>355.377411</td>\n      <td>299.348938</td>\n      <td>2.943374e+09</td>\n      <td>299.348938</td>\n      <td>BNB</td>\n      <td>Binance Coin</td>\n    </tr>\n    <tr>\n      <th>2022-05-10</th>\n      <td>332.438843</td>\n      <td>290.586792</td>\n      <td>298.820709</td>\n      <td>319.326965</td>\n      <td>3.210604e+09</td>\n      <td>319.326965</td>\n      <td>BNB</td>\n      <td>Binance Coin</td>\n    </tr>\n    <tr>\n      <th>2022-05-11</th>\n      <td>322.766815</td>\n      <td>262.620453</td>\n      <td>319.122772</td>\n      <td>269.962769</td>\n      <td>3.870619e+09</td>\n      <td>269.962769</td>\n      <td>BNB</td>\n      <td>Binance Coin</td>\n    </tr>\n    <tr>\n      <th>2022-05-12</th>\n      <td>281.912445</td>\n      <td>216.361496</td>\n      <td>271.459320</td>\n      <td>279.885101</td>\n      <td>5.235505e+09</td>\n      <td>279.885101</td>\n      <td>BNB</td>\n      <td>Binance Coin</td>\n    </tr>\n  </tbody>\n</table>\n<p>1646 rows × 8 columns</p>\n</div>"
     },
     "execution_count": 58,
     "metadata": {},
     "output_type": "execute_result"
    }
   ],
   "source": [
    "bnb = my_data[my_data['symbol'] == 'BNB']  #Extracting the binance coin data from the dataframe\n",
    "bnb = bnb.set_index('Date')\n",
    "bnb"
   ]
  },
  {
   "cell_type": "code",
   "execution_count": 59,
   "metadata": {
    "pycharm": {
     "name": "#%%\n"
    }
   },
   "outputs": [
    {
     "name": "stdout",
     "output_type": "stream",
     "text": [
      "Performing stepwise search to minimize aic\n",
      " ARIMA(2,1,2)(0,0,0)[0] intercept   : AIC=13006.523, Time=5.90 sec\n",
      " ARIMA(0,1,0)(0,0,0)[0] intercept   : AIC=13065.856, Time=0.08 sec\n",
      " ARIMA(1,1,0)(0,0,0)[0] intercept   : AIC=13033.106, Time=0.16 sec\n",
      " ARIMA(0,1,1)(0,0,0)[0] intercept   : AIC=13038.636, Time=0.42 sec\n",
      " ARIMA(0,1,0)(0,0,0)[0]             : AIC=13064.142, Time=0.08 sec\n",
      " ARIMA(1,1,2)(0,0,0)[0] intercept   : AIC=13018.638, Time=1.33 sec\n",
      " ARIMA(2,1,1)(0,0,0)[0] intercept   : AIC=13022.558, Time=2.71 sec\n",
      " ARIMA(3,1,2)(0,0,0)[0] intercept   : AIC=13007.517, Time=7.91 sec\n",
      " ARIMA(2,1,3)(0,0,0)[0] intercept   : AIC=13019.238, Time=7.11 sec\n",
      " ARIMA(1,1,1)(0,0,0)[0] intercept   : AIC=13026.815, Time=2.19 sec\n",
      " ARIMA(1,1,3)(0,0,0)[0] intercept   : AIC=13018.819, Time=3.01 sec\n",
      " ARIMA(3,1,1)(0,0,0)[0] intercept   : AIC=13022.465, Time=1.45 sec\n",
      " ARIMA(3,1,3)(0,0,0)[0] intercept   : AIC=12992.372, Time=10.96 sec\n",
      " ARIMA(4,1,3)(0,0,0)[0] intercept   : AIC=12986.648, Time=9.05 sec\n",
      " ARIMA(4,1,2)(0,0,0)[0] intercept   : AIC=12986.782, Time=10.46 sec\n",
      " ARIMA(5,1,3)(0,0,0)[0] intercept   : AIC=12987.884, Time=12.73 sec\n",
      " ARIMA(4,1,4)(0,0,0)[0] intercept   : AIC=12980.425, Time=15.33 sec\n",
      " ARIMA(3,1,4)(0,0,0)[0] intercept   : AIC=12985.453, Time=14.35 sec\n",
      " ARIMA(5,1,4)(0,0,0)[0] intercept   : AIC=12989.901, Time=12.69 sec\n",
      " ARIMA(4,1,5)(0,0,0)[0] intercept   : AIC=12989.270, Time=17.32 sec\n",
      " ARIMA(3,1,5)(0,0,0)[0] intercept   : AIC=12987.140, Time=19.31 sec\n",
      " ARIMA(5,1,5)(0,0,0)[0] intercept   : AIC=12971.049, Time=18.46 sec\n",
      " ARIMA(6,1,5)(0,0,0)[0] intercept   : AIC=12970.291, Time=18.22 sec\n",
      " ARIMA(6,1,4)(0,0,0)[0] intercept   : AIC=12980.853, Time=17.88 sec\n",
      " ARIMA(7,1,5)(0,0,0)[0] intercept   : AIC=12984.465, Time=16.74 sec\n",
      " ARIMA(6,1,6)(0,0,0)[0] intercept   : AIC=inf, Time=21.72 sec\n",
      " ARIMA(5,1,6)(0,0,0)[0] intercept   : AIC=inf, Time=21.42 sec\n",
      " ARIMA(7,1,4)(0,0,0)[0] intercept   : AIC=12978.662, Time=19.89 sec\n",
      " ARIMA(7,1,6)(0,0,0)[0] intercept   : AIC=inf, Time=19.10 sec\n",
      " ARIMA(6,1,5)(0,0,0)[0]             : AIC=12970.072, Time=12.01 sec\n",
      " ARIMA(5,1,5)(0,0,0)[0]             : AIC=12969.537, Time=11.69 sec\n",
      " ARIMA(4,1,5)(0,0,0)[0]             : AIC=12987.453, Time=7.18 sec\n",
      " ARIMA(5,1,4)(0,0,0)[0]             : AIC=12988.198, Time=7.32 sec\n",
      " ARIMA(5,1,6)(0,0,0)[0]             : AIC=inf, Time=14.21 sec\n",
      " ARIMA(4,1,4)(0,0,0)[0]             : AIC=12978.542, Time=6.13 sec\n",
      " ARIMA(4,1,6)(0,0,0)[0]             : AIC=12977.175, Time=9.23 sec\n",
      " ARIMA(6,1,4)(0,0,0)[0]             : AIC=12979.072, Time=9.25 sec\n",
      " ARIMA(6,1,6)(0,0,0)[0]             : AIC=inf, Time=15.72 sec\n",
      "\n",
      "Best model:  ARIMA(5,1,5)(0,0,0)[0]          \n",
      "Total fit time: 400.864 seconds\n"
     ]
    },
    {
     "data": {
      "text/plain": "ARIMA(order=(5, 1, 5), scoring_args={}, suppress_warnings=True,\n      with_intercept=False)"
     },
     "execution_count": 59,
     "metadata": {},
     "output_type": "execute_result"
    }
   ],
   "source": [
    "# getting the best order with autoarima\n",
    "def arimamodel(series):\n",
    "    auto = pm.auto_arima(series,\n",
    "                              starts_p=1, starts_q=1,\n",
    "                              max_p =10, max_q=10,\n",
    "                              test='adf', seasonal=True,\n",
    "                              trace= True)\n",
    "    return auto\n",
    "\n",
    "arimamodel(bnb['Close'])"
   ]
  },
  {
   "cell_type": "code",
   "execution_count": 86,
   "metadata": {
    "pycharm": {
     "name": "#%%\n"
    }
   },
   "outputs": [
    {
     "name": "stdout",
     "output_type": "stream",
     "text": [
      "                               SARIMAX Results                                \n",
      "==============================================================================\n",
      "Dep. Variable:                  Close   No. Observations:                 1646\n",
      "Model:                 ARIMA(5, 1, 5)   Log Likelihood               -6473.769\n",
      "Date:                Thu, 12 May 2022   AIC                          12969.537\n",
      "Time:                        22:47:01   BIC                          13028.998\n",
      "Sample:                    11-09-2017   HQIC                         12991.586\n",
      "                         - 05-12-2022                                         \n",
      "Covariance Type:                  opg                                         \n",
      "==============================================================================\n",
      "                 coef    std err          z      P>|z|      [0.025      0.975]\n",
      "------------------------------------------------------------------------------\n",
      "ar.L1         -0.2885      0.032     -8.938      0.000      -0.352      -0.225\n",
      "ar.L2         -0.1918      0.020     -9.423      0.000      -0.232      -0.152\n",
      "ar.L3          0.0125      0.028      0.450      0.653      -0.042       0.067\n",
      "ar.L4         -0.5357      0.019    -27.848      0.000      -0.573      -0.498\n",
      "ar.L5         -0.7368      0.032    -23.236      0.000      -0.799      -0.675\n",
      "ma.L1          0.1781      0.036      4.884      0.000       0.107       0.250\n",
      "ma.L2          0.2564      0.025     10.232      0.000       0.207       0.305\n",
      "ma.L3         -0.0266      0.033     -0.793      0.428      -0.092       0.039\n",
      "ma.L4          0.5755      0.023     25.559      0.000       0.531       0.620\n",
      "ma.L5          0.5789      0.038     15.419      0.000       0.505       0.652\n",
      "sigma2       151.9458      1.602     94.869      0.000     148.807     155.085\n",
      "===================================================================================\n",
      "Ljung-Box (L1) (Q):                   0.69   Jarque-Bera (JB):             64373.26\n",
      "Prob(Q):                              0.41   Prob(JB):                         0.00\n",
      "Heteroskedasticity (H):             633.18   Skew:                            -0.46\n",
      "Prob(H) (two-sided):                  0.00   Kurtosis:                        33.63\n",
      "===================================================================================\n",
      "\n",
      "Warnings:\n",
      "[1] Covariance matrix calculated using the outer product of gradients (complex-step).\n"
     ]
    }
   ],
   "source": [
    "# 5,1,5 ARIMA Model\n",
    "model = ARIMA(bnb['Close'], order=(5,1,5))\n",
    "result = model.fit()\n",
    "print(result.summary())"
   ]
  },
  {
   "cell_type": "code",
   "execution_count": 87,
   "metadata": {
    "pycharm": {
     "name": "#%%\n"
    }
   },
   "outputs": [
    {
     "name": "stdout",
     "output_type": "stream",
     "text": [
      "1316\n",
      "330\n"
     ]
    }
   ],
   "source": [
    "#train test split\n",
    "n = int(len(bnb['Close']) * 0.8)\n",
    "train = bnb['Close'][:n]\n",
    "test = bnb['Close'][n:]\n",
    "print(len(train))\n",
    "print(len(test))"
   ]
  },
  {
   "cell_type": "code",
   "execution_count": 88,
   "metadata": {
    "pycharm": {
     "name": "#%%\n"
    }
   },
   "outputs": [
    {
     "data": {
      "text/plain": "2021-06-17    358.363733\n2021-06-18    354.226479\n2021-06-19    340.245502\n2021-06-20    340.857335\n2021-06-21    342.120290\n                 ...    \n2022-05-08    366.791189\n2022-05-09    350.294553\n2022-05-10    309.537442\n2022-05-11    309.440128\n2022-05-12    276.108089\nFreq: D, Name: predicted_mean, Length: 330, dtype: float64"
     },
     "execution_count": 88,
     "metadata": {},
     "output_type": "execute_result"
    }
   ],
   "source": [
    "start = len(train)\n",
    "end = len(train) + len(test) - 1\n",
    "predictions = result.predict(start=start, end=end, dynamic=False, type='level')\n",
    "predictions\n",
    "# df = pd.DataFrame({'Actual': test, 'Predicted': predictions})\n",
    "# print(df)"
   ]
  },
  {
   "cell_type": "code",
   "execution_count": 89,
   "metadata": {
    "pycharm": {
     "name": "#%%\n"
    }
   },
   "outputs": [
    {
     "name": "stdout",
     "output_type": "stream",
     "text": [
      "Mean absolute error:, 13.43\n",
      "Mean squared error:, 328.88\n",
      "Root mean squared error:, 18.14\n",
      "r2 score:0.96\n",
      "Mean absolute percentage error:, 0.03\n"
     ]
    }
   ],
   "source": [
    "#evaluate\n",
    "mae = mean_absolute_error(test, predictions)\n",
    "mse = mean_squared_error(test, predictions)\n",
    "rmse = np.sqrt(mse)\n",
    "r2 = r2_score(test, predictions)\n",
    "#the r2 for the train dataset\n",
    "mape = mean_absolute_percentage_error(test, predictions)\n",
    "\n",
    "#printing the model evaluation values\n",
    "print('Mean absolute error:, {:.2f}'.format(mae))\n",
    "print('Mean squared error:, {:.2f}'.format(mse))\n",
    "print('Root mean squared error:, {:.2f}'.format(rmse))\n",
    "print('r2 score:{:.2f}'.format(r2))\n",
    "print('Mean absolute percentage error:, {:.2f}'.format(mape))\n"
   ]
  },
  {
   "cell_type": "code",
   "execution_count": 90,
   "metadata": {
    "pycharm": {
     "name": "#%%\n"
    }
   },
   "outputs": [
    {
     "data": {
      "text/plain": "2022-05-13    278.719969\n2022-05-14    285.291066\n2022-05-15    278.313237\n2022-05-16    289.429142\n2022-05-17    283.142408\n2022-05-18    280.075486\n2022-05-19    281.201423\nFreq: D, Name: predicted_mean, dtype: float64"
     },
     "execution_count": 90,
     "metadata": {},
     "output_type": "execute_result"
    }
   ],
   "source": [
    "#saving model to disk\n",
    "final_model = 'bnb_model.sav'\n",
    "joblib.dump(model, final_model)\n",
    "forecast = result.forecast(steps=7, type='level')\n",
    "forecast"
   ]
  },
  {
   "cell_type": "markdown",
   "metadata": {
    "pycharm": {
     "name": "#%% md\n"
    }
   },
   "source": [
    "USD COIN"
   ]
  },
  {
   "cell_type": "code",
   "execution_count": 91,
   "metadata": {
    "pycharm": {
     "name": "#%%\n"
    }
   },
   "outputs": [
    {
     "data": {
      "text/plain": "                High       Low      Open     Close        Volume  Adj Close  \\\nDate                                                                          \n2018-10-08  1.007680  1.001900  1.004100  1.002210  3.829000e+05   1.002210   \n2018-10-09  1.008330  1.000030  1.004270  1.006860  1.088030e+05   1.006860   \n2018-10-10  1.019080  1.003970  1.004940  1.009620  7.117830e+05   1.009620   \n2018-10-11  1.031230  1.001730  1.009940  1.009780  4.177290e+06   1.009780   \n2018-10-12  1.018710  1.001140  1.008610  1.012720  1.322240e+06   1.012720   \n...              ...       ...       ...       ...           ...        ...   \n2022-05-08  1.000631  0.999548  0.999918  1.000087  5.432001e+09   1.000087   \n2022-05-09  1.000682  0.999376  0.999994  0.999595  8.493986e+09   0.999595   \n2022-05-10  1.000685  0.999278  0.999576  0.999828  8.611992e+09   0.999828   \n2022-05-11  1.001350  0.999253  0.999785  1.000766  1.514329e+10   1.000766   \n2022-05-12  1.007909  0.999710  1.001386  1.001177  2.200349e+10   1.001177   \n\n           symbol      name  \nDate                         \n2018-10-08   USDC  USD Coin  \n2018-10-09   USDC  USD Coin  \n2018-10-10   USDC  USD Coin  \n2018-10-11   USDC  USD Coin  \n2018-10-12   USDC  USD Coin  \n...           ...       ...  \n2022-05-08   USDC  USD Coin  \n2022-05-09   USDC  USD Coin  \n2022-05-10   USDC  USD Coin  \n2022-05-11   USDC  USD Coin  \n2022-05-12   USDC  USD Coin  \n\n[1313 rows x 8 columns]",
      "text/html": "<div>\n<style scoped>\n    .dataframe tbody tr th:only-of-type {\n        vertical-align: middle;\n    }\n\n    .dataframe tbody tr th {\n        vertical-align: top;\n    }\n\n    .dataframe thead th {\n        text-align: right;\n    }\n</style>\n<table border=\"1\" class=\"dataframe\">\n  <thead>\n    <tr style=\"text-align: right;\">\n      <th></th>\n      <th>High</th>\n      <th>Low</th>\n      <th>Open</th>\n      <th>Close</th>\n      <th>Volume</th>\n      <th>Adj Close</th>\n      <th>symbol</th>\n      <th>name</th>\n    </tr>\n    <tr>\n      <th>Date</th>\n      <th></th>\n      <th></th>\n      <th></th>\n      <th></th>\n      <th></th>\n      <th></th>\n      <th></th>\n      <th></th>\n    </tr>\n  </thead>\n  <tbody>\n    <tr>\n      <th>2018-10-08</th>\n      <td>1.007680</td>\n      <td>1.001900</td>\n      <td>1.004100</td>\n      <td>1.002210</td>\n      <td>3.829000e+05</td>\n      <td>1.002210</td>\n      <td>USDC</td>\n      <td>USD Coin</td>\n    </tr>\n    <tr>\n      <th>2018-10-09</th>\n      <td>1.008330</td>\n      <td>1.000030</td>\n      <td>1.004270</td>\n      <td>1.006860</td>\n      <td>1.088030e+05</td>\n      <td>1.006860</td>\n      <td>USDC</td>\n      <td>USD Coin</td>\n    </tr>\n    <tr>\n      <th>2018-10-10</th>\n      <td>1.019080</td>\n      <td>1.003970</td>\n      <td>1.004940</td>\n      <td>1.009620</td>\n      <td>7.117830e+05</td>\n      <td>1.009620</td>\n      <td>USDC</td>\n      <td>USD Coin</td>\n    </tr>\n    <tr>\n      <th>2018-10-11</th>\n      <td>1.031230</td>\n      <td>1.001730</td>\n      <td>1.009940</td>\n      <td>1.009780</td>\n      <td>4.177290e+06</td>\n      <td>1.009780</td>\n      <td>USDC</td>\n      <td>USD Coin</td>\n    </tr>\n    <tr>\n      <th>2018-10-12</th>\n      <td>1.018710</td>\n      <td>1.001140</td>\n      <td>1.008610</td>\n      <td>1.012720</td>\n      <td>1.322240e+06</td>\n      <td>1.012720</td>\n      <td>USDC</td>\n      <td>USD Coin</td>\n    </tr>\n    <tr>\n      <th>...</th>\n      <td>...</td>\n      <td>...</td>\n      <td>...</td>\n      <td>...</td>\n      <td>...</td>\n      <td>...</td>\n      <td>...</td>\n      <td>...</td>\n    </tr>\n    <tr>\n      <th>2022-05-08</th>\n      <td>1.000631</td>\n      <td>0.999548</td>\n      <td>0.999918</td>\n      <td>1.000087</td>\n      <td>5.432001e+09</td>\n      <td>1.000087</td>\n      <td>USDC</td>\n      <td>USD Coin</td>\n    </tr>\n    <tr>\n      <th>2022-05-09</th>\n      <td>1.000682</td>\n      <td>0.999376</td>\n      <td>0.999994</td>\n      <td>0.999595</td>\n      <td>8.493986e+09</td>\n      <td>0.999595</td>\n      <td>USDC</td>\n      <td>USD Coin</td>\n    </tr>\n    <tr>\n      <th>2022-05-10</th>\n      <td>1.000685</td>\n      <td>0.999278</td>\n      <td>0.999576</td>\n      <td>0.999828</td>\n      <td>8.611992e+09</td>\n      <td>0.999828</td>\n      <td>USDC</td>\n      <td>USD Coin</td>\n    </tr>\n    <tr>\n      <th>2022-05-11</th>\n      <td>1.001350</td>\n      <td>0.999253</td>\n      <td>0.999785</td>\n      <td>1.000766</td>\n      <td>1.514329e+10</td>\n      <td>1.000766</td>\n      <td>USDC</td>\n      <td>USD Coin</td>\n    </tr>\n    <tr>\n      <th>2022-05-12</th>\n      <td>1.007909</td>\n      <td>0.999710</td>\n      <td>1.001386</td>\n      <td>1.001177</td>\n      <td>2.200349e+10</td>\n      <td>1.001177</td>\n      <td>USDC</td>\n      <td>USD Coin</td>\n    </tr>\n  </tbody>\n</table>\n<p>1313 rows × 8 columns</p>\n</div>"
     },
     "execution_count": 91,
     "metadata": {},
     "output_type": "execute_result"
    }
   ],
   "source": [
    "usdc = my_data[my_data['symbol'] == 'USDC']  #Extracting the usd coin data from the dataframe\n",
    "usdc = usdc.set_index('Date')\n",
    "usdc"
   ]
  },
  {
   "cell_type": "code",
   "execution_count": 92,
   "metadata": {
    "pycharm": {
     "name": "#%%\n"
    }
   },
   "outputs": [
    {
     "name": "stdout",
     "output_type": "stream",
     "text": [
      "Performing stepwise search to minimize aic\n",
      " ARIMA(2,0,2)(0,0,0)[0] intercept   : AIC=-11104.705, Time=2.59 sec\n",
      " ARIMA(0,0,0)(0,0,0)[0] intercept   : AIC=-9628.311, Time=0.34 sec\n",
      " ARIMA(1,0,0)(0,0,0)[0] intercept   : AIC=-10883.970, Time=0.19 sec\n",
      " ARIMA(0,0,1)(0,0,0)[0] intercept   : AIC=-10283.474, Time=3.28 sec\n",
      " ARIMA(0,0,0)(0,0,0)[0]             : AIC=3735.754, Time=0.05 sec\n",
      " ARIMA(1,0,2)(0,0,0)[0] intercept   : AIC=-11066.018, Time=5.17 sec\n",
      " ARIMA(2,0,1)(0,0,0)[0] intercept   : AIC=-11065.127, Time=10.02 sec\n",
      " ARIMA(3,0,2)(0,0,0)[0] intercept   : AIC=-11104.391, Time=2.82 sec\n",
      " ARIMA(2,0,3)(0,0,0)[0] intercept   : AIC=-11079.916, Time=29.43 sec\n",
      " ARIMA(1,0,1)(0,0,0)[0] intercept   : AIC=-11062.822, Time=1.44 sec\n",
      " ARIMA(1,0,3)(0,0,0)[0] intercept   : AIC=-11094.578, Time=13.69 sec\n",
      " ARIMA(3,0,1)(0,0,0)[0] intercept   : AIC=-11088.555, Time=1.79 sec\n",
      " ARIMA(3,0,3)(0,0,0)[0] intercept   : AIC=-11102.658, Time=11.79 sec\n",
      " ARIMA(2,0,2)(0,0,0)[0]             : AIC=-11075.204, Time=1.55 sec\n",
      "\n",
      "Best model:  ARIMA(2,0,2)(0,0,0)[0] intercept\n",
      "Total fit time: 84.160 seconds\n"
     ]
    },
    {
     "data": {
      "text/plain": "ARIMA(order=(2, 0, 2), scoring_args={}, suppress_warnings=True)"
     },
     "execution_count": 92,
     "metadata": {},
     "output_type": "execute_result"
    }
   ],
   "source": [
    "# getting the best order with autoarima\n",
    "def arimamodel(series):\n",
    "    auto = pm.auto_arima(series,\n",
    "                         starts_p=1, starts_q=1,\n",
    "                         max_p=8, max_q=8,\n",
    "                         test='adf', seasonal=True,\n",
    "                         trace=True)\n",
    "    return auto\n",
    "\n",
    "arimamodel(usdc['Close'])"
   ]
  },
  {
   "cell_type": "code",
   "execution_count": 93,
   "metadata": {
    "pycharm": {
     "name": "#%%\n"
    }
   },
   "outputs": [
    {
     "name": "stdout",
     "output_type": "stream",
     "text": [
      "                               SARIMAX Results                                \n",
      "==============================================================================\n",
      "Dep. Variable:                  Close   No. Observations:                 1313\n",
      "Model:                 ARIMA(2, 0, 2)   Log Likelihood                5561.603\n",
      "Date:                Thu, 12 May 2022   AIC                         -11111.207\n",
      "Time:                        22:50:14   BIC                         -11080.127\n",
      "Sample:                    10-08-2018   HQIC                        -11099.551\n",
      "                         - 05-12-2022                                         \n",
      "Covariance Type:                  opg                                         \n",
      "==============================================================================\n",
      "                 coef    std err          z      P>|z|      [0.025      0.975]\n",
      "------------------------------------------------------------------------------\n",
      "const          1.0029      0.001    726.356      0.000       1.000       1.006\n",
      "ar.L1          0.4424      0.145      3.043      0.002       0.157       0.727\n",
      "ar.L2          0.5018      0.139      3.609      0.000       0.229       0.774\n",
      "ma.L1         -0.0081      0.142     -0.057      0.955      -0.287       0.271\n",
      "ma.L2         -0.3529      0.072     -4.879      0.000      -0.495      -0.211\n",
      "sigma2      1.222e-05   1.37e-07     89.028      0.000    1.19e-05    1.25e-05\n",
      "===================================================================================\n",
      "Ljung-Box (L1) (Q):                   0.02   Jarque-Bera (JB):             40615.82\n",
      "Prob(Q):                              0.90   Prob(JB):                         0.00\n",
      "Heteroskedasticity (H):               0.03   Skew:                             1.24\n",
      "Prob(H) (two-sided):                  0.00   Kurtosis:                        30.13\n",
      "===================================================================================\n",
      "\n",
      "Warnings:\n",
      "[1] Covariance matrix calculated using the outer product of gradients (complex-step).\n"
     ]
    }
   ],
   "source": [
    "# 2,0,2 ARIMA Model\n",
    "model = ARIMA(usdc['Close'], order=(2,0,2))\n",
    "result = model.fit()\n",
    "print(result.summary())"
   ]
  },
  {
   "cell_type": "code",
   "execution_count": 94,
   "metadata": {
    "pycharm": {
     "name": "#%%\n"
    }
   },
   "outputs": [
    {
     "name": "stdout",
     "output_type": "stream",
     "text": [
      "1050\n",
      "263\n"
     ]
    }
   ],
   "source": [
    "#train test split\n",
    "n = int(len(usdc['Close']) * 0.8)\n",
    "train = usdc['Close'][:n]\n",
    "test = usdc['Close'][n:]\n",
    "print(len(train))\n",
    "print(len(test))"
   ]
  },
  {
   "cell_type": "code",
   "execution_count": 95,
   "metadata": {
    "pycharm": {
     "name": "#%%\n"
    }
   },
   "outputs": [
    {
     "data": {
      "text/plain": "2021-08-23    1.000352\n2021-08-24    1.000464\n2021-08-25    1.000443\n2021-08-26    1.000374\n2021-08-27    1.000398\n                ...   \n2022-05-08    1.000239\n2022-05-09    1.000297\n2022-05-10    1.000085\n2022-05-11    1.000132\n2022-05-12    1.000499\nFreq: D, Name: predicted_mean, Length: 263, dtype: float64"
     },
     "execution_count": 95,
     "metadata": {},
     "output_type": "execute_result"
    }
   ],
   "source": [
    "start = len(train)\n",
    "end = len(train) + len(test) - 1\n",
    "predictions = result.predict(start=start, end=end, dynamic=False, type='level')\n",
    "predictions\n",
    "# df = pd.DataFrame({'Actual': test, 'Predicted': predictions})\n",
    "# print(df)"
   ]
  },
  {
   "cell_type": "code",
   "execution_count": 96,
   "metadata": {
    "pycharm": {
     "name": "#%%\n"
    }
   },
   "outputs": [
    {
     "name": "stdout",
     "output_type": "stream",
     "text": [
      "Mean absolute error:, 0.00\n",
      "Mean squared error:, 0.00\n",
      "Root mean squared error:, 0.00\n",
      "r2 score:-0.49\n",
      "Mean absolute percentage error:, 0.00\n"
     ]
    }
   ],
   "source": [
    "#evaluate\n",
    "mae = mean_absolute_error(test, predictions)\n",
    "mse = mean_squared_error(test, predictions)\n",
    "rmse = np.sqrt(mse)\n",
    "r2 = r2_score(test, predictions)\n",
    "#the r2 for the train dataset\n",
    "mape = mean_absolute_percentage_error(test, predictions)\n",
    "\n",
    "#printing the model evaluation values\n",
    "print('Mean absolute error:, {:.2f}'.format(mae))\n",
    "print('Mean squared error:, {:.2f}'.format(mse))\n",
    "print('Root mean squared error:, {:.2f}'.format(rmse))\n",
    "print('r2 score:{:.2f}'.format(r2))\n",
    "print('Mean absolute percentage error:, {:.2f}'.format(mape))"
   ]
  },
  {
   "cell_type": "code",
   "execution_count": 97,
   "metadata": {
    "pycharm": {
     "name": "#%%\n"
    }
   },
   "outputs": [
    {
     "data": {
      "text/plain": "2022-05-13    1.000837\n2022-05-14    1.000883\n2022-05-15    1.000972\n2022-05-16    1.001034\n2022-05-17    1.001106\n2022-05-18    1.001169\n2022-05-19    1.001233\nFreq: D, Name: predicted_mean, dtype: float64"
     },
     "execution_count": 97,
     "metadata": {},
     "output_type": "execute_result"
    }
   ],
   "source": [
    "#saving model to disk\n",
    "final_model = 'usdc_model.sav'\n",
    "joblib.dump(model, final_model)\n",
    "forecast = result.forecast(steps=7, type='level')\n",
    "forecast"
   ]
  },
  {
   "cell_type": "markdown",
   "metadata": {
    "pycharm": {
     "name": "#%% md\n"
    }
   },
   "source": [
    "XRP"
   ]
  },
  {
   "cell_type": "code",
   "execution_count": 98,
   "outputs": [
    {
     "data": {
      "text/plain": "                High       Low      Open     Close        Volume  Adj Close  \\\nDate                                                                          \n2017-11-09  0.221791  0.214866  0.217911  0.217488  1.479170e+08   0.217488   \n2017-11-10  0.219068  0.205260  0.218256  0.206483  1.410330e+08   0.206483   \n2017-11-11  0.214456  0.205459  0.205948  0.210430  1.345030e+08   0.210430   \n2017-11-12  0.210214  0.195389  0.210214  0.197339  2.511750e+08   0.197339   \n2017-11-13  0.204081  0.197456  0.197472  0.203442  1.325670e+08   0.203442   \n...              ...       ...       ...       ...           ...        ...   \n2022-05-08  0.582634  0.562757  0.582399  0.566527  1.505054e+09   0.566527   \n2022-05-09  0.575994  0.480722  0.566519  0.492940  3.297478e+09   0.492940   \n2022-05-10  0.535299  0.478110  0.492440  0.513626  3.455777e+09   0.513626   \n2022-05-11  0.521623  0.382426  0.513543  0.413376  5.290248e+09   0.413376   \n2022-05-12  0.426421  0.350592  0.413248  0.389914  5.734888e+09   0.389914   \n\n           symbol name  \nDate                    \n2017-11-09    XRP  XRP  \n2017-11-10    XRP  XRP  \n2017-11-11    XRP  XRP  \n2017-11-12    XRP  XRP  \n2017-11-13    XRP  XRP  \n...           ...  ...  \n2022-05-08    XRP  XRP  \n2022-05-09    XRP  XRP  \n2022-05-10    XRP  XRP  \n2022-05-11    XRP  XRP  \n2022-05-12    XRP  XRP  \n\n[1646 rows x 8 columns]",
      "text/html": "<div>\n<style scoped>\n    .dataframe tbody tr th:only-of-type {\n        vertical-align: middle;\n    }\n\n    .dataframe tbody tr th {\n        vertical-align: top;\n    }\n\n    .dataframe thead th {\n        text-align: right;\n    }\n</style>\n<table border=\"1\" class=\"dataframe\">\n  <thead>\n    <tr style=\"text-align: right;\">\n      <th></th>\n      <th>High</th>\n      <th>Low</th>\n      <th>Open</th>\n      <th>Close</th>\n      <th>Volume</th>\n      <th>Adj Close</th>\n      <th>symbol</th>\n      <th>name</th>\n    </tr>\n    <tr>\n      <th>Date</th>\n      <th></th>\n      <th></th>\n      <th></th>\n      <th></th>\n      <th></th>\n      <th></th>\n      <th></th>\n      <th></th>\n    </tr>\n  </thead>\n  <tbody>\n    <tr>\n      <th>2017-11-09</th>\n      <td>0.221791</td>\n      <td>0.214866</td>\n      <td>0.217911</td>\n      <td>0.217488</td>\n      <td>1.479170e+08</td>\n      <td>0.217488</td>\n      <td>XRP</td>\n      <td>XRP</td>\n    </tr>\n    <tr>\n      <th>2017-11-10</th>\n      <td>0.219068</td>\n      <td>0.205260</td>\n      <td>0.218256</td>\n      <td>0.206483</td>\n      <td>1.410330e+08</td>\n      <td>0.206483</td>\n      <td>XRP</td>\n      <td>XRP</td>\n    </tr>\n    <tr>\n      <th>2017-11-11</th>\n      <td>0.214456</td>\n      <td>0.205459</td>\n      <td>0.205948</td>\n      <td>0.210430</td>\n      <td>1.345030e+08</td>\n      <td>0.210430</td>\n      <td>XRP</td>\n      <td>XRP</td>\n    </tr>\n    <tr>\n      <th>2017-11-12</th>\n      <td>0.210214</td>\n      <td>0.195389</td>\n      <td>0.210214</td>\n      <td>0.197339</td>\n      <td>2.511750e+08</td>\n      <td>0.197339</td>\n      <td>XRP</td>\n      <td>XRP</td>\n    </tr>\n    <tr>\n      <th>2017-11-13</th>\n      <td>0.204081</td>\n      <td>0.197456</td>\n      <td>0.197472</td>\n      <td>0.203442</td>\n      <td>1.325670e+08</td>\n      <td>0.203442</td>\n      <td>XRP</td>\n      <td>XRP</td>\n    </tr>\n    <tr>\n      <th>...</th>\n      <td>...</td>\n      <td>...</td>\n      <td>...</td>\n      <td>...</td>\n      <td>...</td>\n      <td>...</td>\n      <td>...</td>\n      <td>...</td>\n    </tr>\n    <tr>\n      <th>2022-05-08</th>\n      <td>0.582634</td>\n      <td>0.562757</td>\n      <td>0.582399</td>\n      <td>0.566527</td>\n      <td>1.505054e+09</td>\n      <td>0.566527</td>\n      <td>XRP</td>\n      <td>XRP</td>\n    </tr>\n    <tr>\n      <th>2022-05-09</th>\n      <td>0.575994</td>\n      <td>0.480722</td>\n      <td>0.566519</td>\n      <td>0.492940</td>\n      <td>3.297478e+09</td>\n      <td>0.492940</td>\n      <td>XRP</td>\n      <td>XRP</td>\n    </tr>\n    <tr>\n      <th>2022-05-10</th>\n      <td>0.535299</td>\n      <td>0.478110</td>\n      <td>0.492440</td>\n      <td>0.513626</td>\n      <td>3.455777e+09</td>\n      <td>0.513626</td>\n      <td>XRP</td>\n      <td>XRP</td>\n    </tr>\n    <tr>\n      <th>2022-05-11</th>\n      <td>0.521623</td>\n      <td>0.382426</td>\n      <td>0.513543</td>\n      <td>0.413376</td>\n      <td>5.290248e+09</td>\n      <td>0.413376</td>\n      <td>XRP</td>\n      <td>XRP</td>\n    </tr>\n    <tr>\n      <th>2022-05-12</th>\n      <td>0.426421</td>\n      <td>0.350592</td>\n      <td>0.413248</td>\n      <td>0.389914</td>\n      <td>5.734888e+09</td>\n      <td>0.389914</td>\n      <td>XRP</td>\n      <td>XRP</td>\n    </tr>\n  </tbody>\n</table>\n<p>1646 rows × 8 columns</p>\n</div>"
     },
     "execution_count": 98,
     "metadata": {},
     "output_type": "execute_result"
    }
   ],
   "source": [
    "xrp = my_data[my_data['symbol'] == 'XRP']  #Extracting the usd coin data from the dataframe\n",
    "xrp = xrp.set_index('Date')\n",
    "xrp"
   ],
   "metadata": {
    "collapsed": false,
    "pycharm": {
     "name": "#%%\n"
    }
   }
  },
  {
   "cell_type": "code",
   "execution_count": 99,
   "outputs": [
    {
     "name": "stdout",
     "output_type": "stream",
     "text": [
      "Performing stepwise search to minimize aic\n",
      " ARIMA(2,0,2)(0,0,0)[0] intercept   : AIC=-4575.788, Time=6.50 sec\n",
      " ARIMA(0,0,0)(0,0,0)[0] intercept   : AIC=1532.187, Time=1.29 sec\n",
      " ARIMA(1,0,0)(0,0,0)[0] intercept   : AIC=-4578.995, Time=1.46 sec\n",
      " ARIMA(0,0,1)(0,0,0)[0] intercept   : AIC=-443.993, Time=1.19 sec\n",
      " ARIMA(0,0,0)(0,0,0)[0]             : AIC=3335.989, Time=0.18 sec\n",
      " ARIMA(2,0,0)(0,0,0)[0] intercept   : AIC=-4578.336, Time=0.75 sec\n",
      " ARIMA(1,0,1)(0,0,0)[0] intercept   : AIC=-4578.223, Time=1.19 sec\n",
      " ARIMA(2,0,1)(0,0,0)[0] intercept   : AIC=-4587.946, Time=7.54 sec\n",
      " ARIMA(3,0,1)(0,0,0)[0] intercept   : AIC=-4576.302, Time=4.41 sec\n",
      " ARIMA(1,0,2)(0,0,0)[0] intercept   : AIC=-4578.797, Time=1.74 sec\n",
      " ARIMA(3,0,0)(0,0,0)[0] intercept   : AIC=-4579.415, Time=2.25 sec\n",
      " ARIMA(3,0,2)(0,0,0)[0] intercept   : AIC=-4576.991, Time=11.55 sec\n",
      " ARIMA(2,0,1)(0,0,0)[0]             : AIC=-4582.205, Time=3.92 sec\n",
      "\n",
      "Best model:  ARIMA(2,0,1)(0,0,0)[0] intercept\n",
      "Total fit time: 43.994 seconds\n"
     ]
    },
    {
     "data": {
      "text/plain": "ARIMA(order=(2, 0, 1), scoring_args={}, suppress_warnings=True)"
     },
     "execution_count": 99,
     "metadata": {},
     "output_type": "execute_result"
    }
   ],
   "source": [
    "# getting the best order with autoarima\n",
    "def arimamodel(series):\n",
    "    auto = pm.auto_arima(series,\n",
    "                         starts_p=1, starts_q=1,\n",
    "                         max_p=8, max_q=8,\n",
    "                         test='adf', seasonal=True,\n",
    "                         trace=True)\n",
    "    return auto\n",
    "\n",
    "arimamodel(xrp['Close'])"
   ],
   "metadata": {
    "collapsed": false,
    "pycharm": {
     "name": "#%%\n"
    }
   }
  },
  {
   "cell_type": "code",
   "execution_count": 100,
   "outputs": [
    {
     "name": "stdout",
     "output_type": "stream",
     "text": [
      "                               SARIMAX Results                                \n",
      "==============================================================================\n",
      "Dep. Variable:                  Close   No. Observations:                 1646\n",
      "Model:                 ARIMA(2, 0, 1)   Log Likelihood                2298.990\n",
      "Date:                Thu, 12 May 2022   AIC                          -4587.979\n",
      "Time:                        22:52:53   BIC                          -4560.949\n",
      "Sample:                    11-09-2017   HQIC                         -4577.956\n",
      "                         - 05-12-2022                                         \n",
      "Covariance Type:                  opg                                         \n",
      "==============================================================================\n",
      "                 coef    std err          z      P>|z|      [0.025      0.975]\n",
      "------------------------------------------------------------------------------\n",
      "const          0.5233      0.183      2.859      0.004       0.165       0.882\n",
      "ar.L1          0.0450      0.018      2.555      0.011       0.010       0.080\n",
      "ar.L2          0.9300      0.018     52.650      0.000       0.895       0.965\n",
      "ma.L1          0.9721      0.017     56.121      0.000       0.938       1.006\n",
      "sigma2         0.0036   3.02e-05    118.250      0.000       0.004       0.004\n",
      "===================================================================================\n",
      "Ljung-Box (L1) (Q):                   0.07   Jarque-Bera (JB):            288052.39\n",
      "Prob(Q):                              0.80   Prob(JB):                         0.00\n",
      "Heteroskedasticity (H):               0.64   Skew:                             0.46\n",
      "Prob(H) (two-sided):                  0.00   Kurtosis:                        67.80\n",
      "===================================================================================\n",
      "\n",
      "Warnings:\n",
      "[1] Covariance matrix calculated using the outer product of gradients (complex-step).\n"
     ]
    }
   ],
   "source": [
    "# 2,0,1 ARIMA Model\n",
    "model = ARIMA(xrp['Close'], order=(2,0,1))\n",
    "result = model.fit()\n",
    "print(result.summary())"
   ],
   "metadata": {
    "collapsed": false,
    "pycharm": {
     "name": "#%%\n"
    }
   }
  },
  {
   "cell_type": "code",
   "execution_count": 101,
   "outputs": [
    {
     "name": "stdout",
     "output_type": "stream",
     "text": [
      "1316\n",
      "330\n"
     ]
    }
   ],
   "source": [
    "#train test split\n",
    "n = int(len(xrp['Close']) * 0.8)\n",
    "train = xrp['Close'][:n]\n",
    "test = xrp['Close'][n:]\n",
    "print(len(train))\n",
    "print(len(test))"
   ],
   "metadata": {
    "collapsed": false,
    "pycharm": {
     "name": "#%%\n"
    }
   }
  },
  {
   "cell_type": "code",
   "execution_count": 102,
   "outputs": [
    {
     "data": {
      "text/plain": "2021-06-17    0.817948\n2021-06-18    0.847474\n2021-06-19    0.783099\n2021-06-20    0.768360\n2021-06-21    0.764184\n                ...   \n2022-05-08    0.580806\n2022-05-09    0.566282\n2022-05-10    0.490844\n2022-05-11    0.516774\n2022-05-12    0.408845\nFreq: D, Name: predicted_mean, Length: 330, dtype: float64"
     },
     "execution_count": 102,
     "metadata": {},
     "output_type": "execute_result"
    }
   ],
   "source": [
    "start = len(train)\n",
    "end = len(train) + len(test) - 1\n",
    "predictions = result.predict(start=start, end=end, dynamic=False, type='level')\n",
    "predictions\n",
    "# df = pd.DataFrame({'Actual': test, 'Predicted': predictions})\n",
    "# print(df)"
   ],
   "metadata": {
    "collapsed": false,
    "pycharm": {
     "name": "#%%\n"
    }
   }
  },
  {
   "cell_type": "code",
   "execution_count": 103,
   "outputs": [
    {
     "name": "stdout",
     "output_type": "stream",
     "text": [
      "Mean absolute error:, 0.03\n",
      "Mean squared error:, 0.00\n",
      "Root mean squared error:, 0.05\n",
      "r2 score:0.95\n",
      "Mean absolute percentage error:, 0.04\n"
     ]
    }
   ],
   "source": [
    "mae = mean_absolute_error(test, predictions)\n",
    "mse = mean_squared_error(test, predictions)\n",
    "rmse = np.sqrt(mse)\n",
    "r2 = r2_score(test, predictions)\n",
    "#the r2 for the train dataset\n",
    "mape = mean_absolute_percentage_error(test, predictions)\n",
    "\n",
    "#printing the model evaluation values\n",
    "print('Mean absolute error:, {:.2f}'.format(mae))\n",
    "print('Mean squared error:, {:.2f}'.format(mse))\n",
    "print('Root mean squared error:, {:.2f}'.format(rmse))\n",
    "print('r2 score:{:.2f}'.format(r2))\n",
    "print('Mean absolute percentage error:, {:.2f}'.format(mape))"
   ],
   "metadata": {
    "collapsed": false,
    "pycharm": {
     "name": "#%%\n"
    }
   }
  },
  {
   "cell_type": "code",
   "execution_count": 104,
   "outputs": [
    {
     "data": {
      "text/plain": "2022-05-13    0.396659\n2022-05-14    0.393544\n2022-05-15    0.399677\n2022-05-16    0.397056\n2022-05-17    0.402642\n2022-05-18    0.400455\n2022-05-19    0.405552\nFreq: D, Name: predicted_mean, dtype: float64"
     },
     "execution_count": 104,
     "metadata": {},
     "output_type": "execute_result"
    }
   ],
   "source": [
    "#saving model to disk\n",
    "final_model = 'xrp_model.sav'\n",
    "joblib.dump(model, final_model)\n",
    "forecast = result.forecast(steps=7, type='level')\n",
    "forecast"
   ],
   "metadata": {
    "collapsed": false,
    "pycharm": {
     "name": "#%%\n"
    }
   }
  },
  {
   "cell_type": "markdown",
   "source": [
    "SOLANA"
   ],
   "metadata": {
    "collapsed": false,
    "pycharm": {
     "name": "#%% md\n"
    }
   }
  },
  {
   "cell_type": "code",
   "execution_count": 106,
   "outputs": [
    {
     "data": {
      "text/plain": "                 High        Low       Open      Close        Volume  \\\nDate                                                                   \n2020-04-10   1.313487   0.694187   0.832005   0.951054  8.736428e+07   \n2020-04-11   1.049073   0.765020   0.951054   0.776819  4.386244e+07   \n2020-04-12   0.956670   0.762426   0.785448   0.882507  3.873690e+07   \n2020-04-13   0.891603   0.773976   0.890760   0.777832  1.821128e+07   \n2020-04-14   0.796472   0.628169   0.777832   0.661925  1.674761e+07   \n...               ...        ...        ...        ...           ...   \n2022-05-08  79.283791  74.527184  78.987633  75.220184  1.439701e+09   \n2022-05-09  76.983093  63.269653  75.234459  63.269653  2.773999e+09   \n2022-05-10  73.759888  61.026585  63.369312  66.766151  3.677013e+09   \n2022-05-11  68.117226  44.003826  66.734749  50.210850  4.432812e+09   \n2022-05-12  53.575172  38.050091  50.637524  46.862148  5.305200e+09   \n\n            Adj Close symbol    name  \nDate                                  \n2020-04-10   0.951054    SOL  Solana  \n2020-04-11   0.776819    SOL  Solana  \n2020-04-12   0.882507    SOL  Solana  \n2020-04-13   0.777832    SOL  Solana  \n2020-04-14   0.661925    SOL  Solana  \n...               ...    ...     ...  \n2022-05-08  75.220184    SOL  Solana  \n2022-05-09  63.269653    SOL  Solana  \n2022-05-10  66.766151    SOL  Solana  \n2022-05-11  50.210850    SOL  Solana  \n2022-05-12  46.862148    SOL  Solana  \n\n[763 rows x 8 columns]",
      "text/html": "<div>\n<style scoped>\n    .dataframe tbody tr th:only-of-type {\n        vertical-align: middle;\n    }\n\n    .dataframe tbody tr th {\n        vertical-align: top;\n    }\n\n    .dataframe thead th {\n        text-align: right;\n    }\n</style>\n<table border=\"1\" class=\"dataframe\">\n  <thead>\n    <tr style=\"text-align: right;\">\n      <th></th>\n      <th>High</th>\n      <th>Low</th>\n      <th>Open</th>\n      <th>Close</th>\n      <th>Volume</th>\n      <th>Adj Close</th>\n      <th>symbol</th>\n      <th>name</th>\n    </tr>\n    <tr>\n      <th>Date</th>\n      <th></th>\n      <th></th>\n      <th></th>\n      <th></th>\n      <th></th>\n      <th></th>\n      <th></th>\n      <th></th>\n    </tr>\n  </thead>\n  <tbody>\n    <tr>\n      <th>2020-04-10</th>\n      <td>1.313487</td>\n      <td>0.694187</td>\n      <td>0.832005</td>\n      <td>0.951054</td>\n      <td>8.736428e+07</td>\n      <td>0.951054</td>\n      <td>SOL</td>\n      <td>Solana</td>\n    </tr>\n    <tr>\n      <th>2020-04-11</th>\n      <td>1.049073</td>\n      <td>0.765020</td>\n      <td>0.951054</td>\n      <td>0.776819</td>\n      <td>4.386244e+07</td>\n      <td>0.776819</td>\n      <td>SOL</td>\n      <td>Solana</td>\n    </tr>\n    <tr>\n      <th>2020-04-12</th>\n      <td>0.956670</td>\n      <td>0.762426</td>\n      <td>0.785448</td>\n      <td>0.882507</td>\n      <td>3.873690e+07</td>\n      <td>0.882507</td>\n      <td>SOL</td>\n      <td>Solana</td>\n    </tr>\n    <tr>\n      <th>2020-04-13</th>\n      <td>0.891603</td>\n      <td>0.773976</td>\n      <td>0.890760</td>\n      <td>0.777832</td>\n      <td>1.821128e+07</td>\n      <td>0.777832</td>\n      <td>SOL</td>\n      <td>Solana</td>\n    </tr>\n    <tr>\n      <th>2020-04-14</th>\n      <td>0.796472</td>\n      <td>0.628169</td>\n      <td>0.777832</td>\n      <td>0.661925</td>\n      <td>1.674761e+07</td>\n      <td>0.661925</td>\n      <td>SOL</td>\n      <td>Solana</td>\n    </tr>\n    <tr>\n      <th>...</th>\n      <td>...</td>\n      <td>...</td>\n      <td>...</td>\n      <td>...</td>\n      <td>...</td>\n      <td>...</td>\n      <td>...</td>\n      <td>...</td>\n    </tr>\n    <tr>\n      <th>2022-05-08</th>\n      <td>79.283791</td>\n      <td>74.527184</td>\n      <td>78.987633</td>\n      <td>75.220184</td>\n      <td>1.439701e+09</td>\n      <td>75.220184</td>\n      <td>SOL</td>\n      <td>Solana</td>\n    </tr>\n    <tr>\n      <th>2022-05-09</th>\n      <td>76.983093</td>\n      <td>63.269653</td>\n      <td>75.234459</td>\n      <td>63.269653</td>\n      <td>2.773999e+09</td>\n      <td>63.269653</td>\n      <td>SOL</td>\n      <td>Solana</td>\n    </tr>\n    <tr>\n      <th>2022-05-10</th>\n      <td>73.759888</td>\n      <td>61.026585</td>\n      <td>63.369312</td>\n      <td>66.766151</td>\n      <td>3.677013e+09</td>\n      <td>66.766151</td>\n      <td>SOL</td>\n      <td>Solana</td>\n    </tr>\n    <tr>\n      <th>2022-05-11</th>\n      <td>68.117226</td>\n      <td>44.003826</td>\n      <td>66.734749</td>\n      <td>50.210850</td>\n      <td>4.432812e+09</td>\n      <td>50.210850</td>\n      <td>SOL</td>\n      <td>Solana</td>\n    </tr>\n    <tr>\n      <th>2022-05-12</th>\n      <td>53.575172</td>\n      <td>38.050091</td>\n      <td>50.637524</td>\n      <td>46.862148</td>\n      <td>5.305200e+09</td>\n      <td>46.862148</td>\n      <td>SOL</td>\n      <td>Solana</td>\n    </tr>\n  </tbody>\n</table>\n<p>763 rows × 8 columns</p>\n</div>"
     },
     "execution_count": 106,
     "metadata": {},
     "output_type": "execute_result"
    }
   ],
   "source": [
    "sol = my_data[my_data['symbol'] == 'SOL']  #Extracting the usd coin data from the dataframe\n",
    "sol = sol.set_index('Date')\n",
    "sol"
   ],
   "metadata": {
    "collapsed": false,
    "pycharm": {
     "name": "#%%\n"
    }
   }
  },
  {
   "cell_type": "code",
   "execution_count": 107,
   "outputs": [
    {
     "name": "stdout",
     "output_type": "stream",
     "text": [
      "Performing stepwise search to minimize aic\n",
      " ARIMA(2,1,2)(0,0,0)[0] intercept   : AIC=4685.353, Time=2.43 sec\n",
      " ARIMA(0,1,0)(0,0,0)[0] intercept   : AIC=4680.147, Time=0.05 sec\n",
      " ARIMA(1,1,0)(0,0,0)[0] intercept   : AIC=4680.761, Time=0.13 sec\n",
      " ARIMA(0,1,1)(0,0,0)[0] intercept   : AIC=4680.754, Time=0.16 sec\n",
      " ARIMA(0,1,0)(0,0,0)[0]             : AIC=4678.250, Time=0.05 sec\n",
      " ARIMA(1,1,1)(0,0,0)[0] intercept   : AIC=4682.743, Time=0.23 sec\n",
      "\n",
      "Best model:  ARIMA(0,1,0)(0,0,0)[0]          \n",
      "Total fit time: 3.061 seconds\n"
     ]
    },
    {
     "data": {
      "text/plain": "ARIMA(order=(0, 1, 0), scoring_args={}, suppress_warnings=True,\n      with_intercept=False)"
     },
     "execution_count": 107,
     "metadata": {},
     "output_type": "execute_result"
    }
   ],
   "source": [
    "# getting the best order with autoarima\n",
    "def arimamodel(series):\n",
    "    auto = pm.auto_arima(series,\n",
    "                         starts_p=1, starts_q=1,\n",
    "                         max_p=8, max_q=8,\n",
    "                         test='adf', seasonal=True,\n",
    "                         trace=True)\n",
    "    return auto\n",
    "\n",
    "arimamodel(sol['Close'])"
   ],
   "metadata": {
    "collapsed": false,
    "pycharm": {
     "name": "#%%\n"
    }
   }
  },
  {
   "cell_type": "code",
   "execution_count": 108,
   "outputs": [
    {
     "name": "stdout",
     "output_type": "stream",
     "text": [
      "                               SARIMAX Results                                \n",
      "==============================================================================\n",
      "Dep. Variable:                  Close   No. Observations:                  763\n",
      "Model:                 ARIMA(0, 1, 0)   Log Likelihood               -2338.125\n",
      "Date:                Thu, 12 May 2022   AIC                           4678.250\n",
      "Time:                        22:54:40   BIC                           4682.886\n",
      "Sample:                    04-10-2020   HQIC                          4680.035\n",
      "                         - 05-12-2022                                         \n",
      "Covariance Type:                  opg                                         \n",
      "==============================================================================\n",
      "                 coef    std err          z      P>|z|      [0.025      0.975]\n",
      "------------------------------------------------------------------------------\n",
      "sigma2        27.0837      0.666     40.673      0.000      25.779      28.389\n",
      "===================================================================================\n",
      "Ljung-Box (L1) (Q):                   1.39   Jarque-Bera (JB):              1428.58\n",
      "Prob(Q):                              0.24   Prob(JB):                         0.00\n",
      "Heteroskedasticity (H):            2026.19   Skew:                             0.36\n",
      "Prob(H) (two-sided):                  0.00   Kurtosis:                         9.67\n",
      "===================================================================================\n",
      "\n",
      "Warnings:\n",
      "[1] Covariance matrix calculated using the outer product of gradients (complex-step).\n"
     ]
    }
   ],
   "source": [
    "# 0,1,0 ARIMA Model\n",
    "model = ARIMA(sol['Close'], order=(0,1,0))\n",
    "result = model.fit()\n",
    "print(result.summary())"
   ],
   "metadata": {
    "collapsed": false,
    "pycharm": {
     "name": "#%%\n"
    }
   }
  },
  {
   "cell_type": "code",
   "execution_count": 109,
   "outputs": [
    {
     "name": "stdout",
     "output_type": "stream",
     "text": [
      "610\n",
      "153\n"
     ]
    }
   ],
   "source": [
    "#train test split\n",
    "n = int(len(sol['Close']) * 0.8)\n",
    "train = sol['Close'][:n]\n",
    "test = sol['Close'][n:]\n",
    "print(len(train))\n",
    "print(len(test))"
   ],
   "metadata": {
    "collapsed": false,
    "pycharm": {
     "name": "#%%\n"
    }
   }
  },
  {
   "cell_type": "code",
   "execution_count": 110,
   "outputs": [
    {
     "data": {
      "text/plain": "2021-12-11    167.954834\n2021-12-12    171.949493\n2021-12-13    173.431671\n2021-12-14    155.213058\n2021-12-15    153.341446\n                 ...    \n2022-05-08     78.983421\n2022-05-09     75.220184\n2022-05-10     63.269653\n2022-05-11     66.766151\n2022-05-12     50.210850\nFreq: D, Name: predicted_mean, Length: 153, dtype: float64"
     },
     "execution_count": 110,
     "metadata": {},
     "output_type": "execute_result"
    }
   ],
   "source": [
    "start = len(train)\n",
    "end = len(train) + len(test) - 1\n",
    "predictions = result.predict(start=start, end=end, dynamic=False, type='level')\n",
    "predictions\n",
    "# df = pd.DataFrame({'Actual': test, 'Predicted': predictions})\n",
    "# print(df)"
   ],
   "metadata": {
    "collapsed": false,
    "pycharm": {
     "name": "#%%\n"
    }
   }
  },
  {
   "cell_type": "code",
   "execution_count": 111,
   "outputs": [
    {
     "name": "stdout",
     "output_type": "stream",
     "text": [
      "Mean absolute error:, 4.82\n",
      "Mean squared error:, 41.58\n",
      "Root mean squared error:, 6.45\n",
      "r2 score:0.96\n",
      "Mean absolute percentage error:, 0.04\n"
     ]
    }
   ],
   "source": [
    "mae = mean_absolute_error(test, predictions)\n",
    "mse = mean_squared_error(test, predictions)\n",
    "rmse = np.sqrt(mse)\n",
    "r2 = r2_score(test, predictions)\n",
    "#the r2 for the train dataset\n",
    "mape = mean_absolute_percentage_error(test, predictions)\n",
    "\n",
    "#printing the model evaluation values\n",
    "print('Mean absolute error:, {:.2f}'.format(mae))\n",
    "print('Mean squared error:, {:.2f}'.format(mse))\n",
    "print('Root mean squared error:, {:.2f}'.format(rmse))\n",
    "print('r2 score:{:.2f}'.format(r2))\n",
    "print('Mean absolute percentage error:, {:.2f}'.format(mape))"
   ],
   "metadata": {
    "collapsed": false,
    "pycharm": {
     "name": "#%%\n"
    }
   }
  },
  {
   "cell_type": "code",
   "execution_count": 112,
   "outputs": [
    {
     "data": {
      "text/plain": "2022-05-13    46.862148\n2022-05-14    46.862148\n2022-05-15    46.862148\n2022-05-16    46.862148\n2022-05-17    46.862148\n2022-05-18    46.862148\n2022-05-19    46.862148\nFreq: D, Name: predicted_mean, dtype: float64"
     },
     "execution_count": 112,
     "metadata": {},
     "output_type": "execute_result"
    }
   ],
   "source": [
    "#saving model to disk\n",
    "final_model = 'sol_model.sav'\n",
    "joblib.dump(model, final_model)\n",
    "forecast = result.forecast(steps=7, type='level')\n",
    "forecast"
   ],
   "metadata": {
    "collapsed": false,
    "pycharm": {
     "name": "#%%\n"
    }
   }
  },
  {
   "cell_type": "markdown",
   "source": [
    "TERRA"
   ],
   "metadata": {
    "collapsed": false,
    "pycharm": {
     "name": "#%% md\n"
    }
   }
  },
  {
   "cell_type": "code",
   "execution_count": 113,
   "outputs": [
    {
     "data": {
      "text/plain": "                 High        Low       Open      Close        Volume  \\\nDate                                                                   \n2019-07-26   1.833167   1.261695   1.704222   1.327436  1.208858e+07   \n2019-07-27   1.402898   1.221938   1.327436   1.310566  6.033446e+06   \n2019-07-28   1.368595   1.236858   1.310566   1.272989  1.643709e+06   \n2019-07-29   1.375941   1.175443   1.262270   1.294661  3.966802e+06   \n2019-07-30   1.374333   1.266484   1.294435   1.294193  1.820705e+06   \n...               ...        ...        ...        ...           ...   \n2022-05-08  68.271729  59.578342  68.252228  64.081123  5.108105e+09   \n2022-05-09  65.135132  32.002026  64.126053  32.002026  6.306976e+09   \n2022-05-10  39.473122  14.148025  31.984324  17.520525  1.045268e+10   \n2022-05-11  19.171314   0.838430  17.448479   1.074977  1.156457e+10   \n2022-05-12   1.281054   0.012807   1.093104   0.012907  6.493368e+09   \n\n            Adj Close symbol   name  \nDate                                 \n2019-07-26   1.327436  LUNA1  Terra  \n2019-07-27   1.310566  LUNA1  Terra  \n2019-07-28   1.272989  LUNA1  Terra  \n2019-07-29   1.294661  LUNA1  Terra  \n2019-07-30   1.294193  LUNA1  Terra  \n...               ...    ...    ...  \n2022-05-08  64.081123  LUNA1  Terra  \n2022-05-09  32.002026  LUNA1  Terra  \n2022-05-10  17.520525  LUNA1  Terra  \n2022-05-11   1.074977  LUNA1  Terra  \n2022-05-12   0.012907  LUNA1  Terra  \n\n[1022 rows x 8 columns]",
      "text/html": "<div>\n<style scoped>\n    .dataframe tbody tr th:only-of-type {\n        vertical-align: middle;\n    }\n\n    .dataframe tbody tr th {\n        vertical-align: top;\n    }\n\n    .dataframe thead th {\n        text-align: right;\n    }\n</style>\n<table border=\"1\" class=\"dataframe\">\n  <thead>\n    <tr style=\"text-align: right;\">\n      <th></th>\n      <th>High</th>\n      <th>Low</th>\n      <th>Open</th>\n      <th>Close</th>\n      <th>Volume</th>\n      <th>Adj Close</th>\n      <th>symbol</th>\n      <th>name</th>\n    </tr>\n    <tr>\n      <th>Date</th>\n      <th></th>\n      <th></th>\n      <th></th>\n      <th></th>\n      <th></th>\n      <th></th>\n      <th></th>\n      <th></th>\n    </tr>\n  </thead>\n  <tbody>\n    <tr>\n      <th>2019-07-26</th>\n      <td>1.833167</td>\n      <td>1.261695</td>\n      <td>1.704222</td>\n      <td>1.327436</td>\n      <td>1.208858e+07</td>\n      <td>1.327436</td>\n      <td>LUNA1</td>\n      <td>Terra</td>\n    </tr>\n    <tr>\n      <th>2019-07-27</th>\n      <td>1.402898</td>\n      <td>1.221938</td>\n      <td>1.327436</td>\n      <td>1.310566</td>\n      <td>6.033446e+06</td>\n      <td>1.310566</td>\n      <td>LUNA1</td>\n      <td>Terra</td>\n    </tr>\n    <tr>\n      <th>2019-07-28</th>\n      <td>1.368595</td>\n      <td>1.236858</td>\n      <td>1.310566</td>\n      <td>1.272989</td>\n      <td>1.643709e+06</td>\n      <td>1.272989</td>\n      <td>LUNA1</td>\n      <td>Terra</td>\n    </tr>\n    <tr>\n      <th>2019-07-29</th>\n      <td>1.375941</td>\n      <td>1.175443</td>\n      <td>1.262270</td>\n      <td>1.294661</td>\n      <td>3.966802e+06</td>\n      <td>1.294661</td>\n      <td>LUNA1</td>\n      <td>Terra</td>\n    </tr>\n    <tr>\n      <th>2019-07-30</th>\n      <td>1.374333</td>\n      <td>1.266484</td>\n      <td>1.294435</td>\n      <td>1.294193</td>\n      <td>1.820705e+06</td>\n      <td>1.294193</td>\n      <td>LUNA1</td>\n      <td>Terra</td>\n    </tr>\n    <tr>\n      <th>...</th>\n      <td>...</td>\n      <td>...</td>\n      <td>...</td>\n      <td>...</td>\n      <td>...</td>\n      <td>...</td>\n      <td>...</td>\n      <td>...</td>\n    </tr>\n    <tr>\n      <th>2022-05-08</th>\n      <td>68.271729</td>\n      <td>59.578342</td>\n      <td>68.252228</td>\n      <td>64.081123</td>\n      <td>5.108105e+09</td>\n      <td>64.081123</td>\n      <td>LUNA1</td>\n      <td>Terra</td>\n    </tr>\n    <tr>\n      <th>2022-05-09</th>\n      <td>65.135132</td>\n      <td>32.002026</td>\n      <td>64.126053</td>\n      <td>32.002026</td>\n      <td>6.306976e+09</td>\n      <td>32.002026</td>\n      <td>LUNA1</td>\n      <td>Terra</td>\n    </tr>\n    <tr>\n      <th>2022-05-10</th>\n      <td>39.473122</td>\n      <td>14.148025</td>\n      <td>31.984324</td>\n      <td>17.520525</td>\n      <td>1.045268e+10</td>\n      <td>17.520525</td>\n      <td>LUNA1</td>\n      <td>Terra</td>\n    </tr>\n    <tr>\n      <th>2022-05-11</th>\n      <td>19.171314</td>\n      <td>0.838430</td>\n      <td>17.448479</td>\n      <td>1.074977</td>\n      <td>1.156457e+10</td>\n      <td>1.074977</td>\n      <td>LUNA1</td>\n      <td>Terra</td>\n    </tr>\n    <tr>\n      <th>2022-05-12</th>\n      <td>1.281054</td>\n      <td>0.012807</td>\n      <td>1.093104</td>\n      <td>0.012907</td>\n      <td>6.493368e+09</td>\n      <td>0.012907</td>\n      <td>LUNA1</td>\n      <td>Terra</td>\n    </tr>\n  </tbody>\n</table>\n<p>1022 rows × 8 columns</p>\n</div>"
     },
     "execution_count": 113,
     "metadata": {},
     "output_type": "execute_result"
    }
   ],
   "source": [
    "luna1 = my_data[my_data['symbol'] == 'LUNA1']  #Extracting the usd coin data from the dataframe\n",
    "luna1 = luna1.set_index('Date')\n",
    "luna1"
   ],
   "metadata": {
    "collapsed": false,
    "pycharm": {
     "name": "#%%\n"
    }
   }
  },
  {
   "cell_type": "code",
   "execution_count": 114,
   "outputs": [
    {
     "name": "stdout",
     "output_type": "stream",
     "text": [
      "Performing stepwise search to minimize aic\n",
      " ARIMA(2,1,2)(0,0,0)[0] intercept   : AIC=4853.577, Time=2.39 sec\n",
      " ARIMA(0,1,0)(0,0,0)[0] intercept   : AIC=4885.011, Time=0.07 sec\n",
      " ARIMA(1,1,0)(0,0,0)[0] intercept   : AIC=4868.918, Time=0.16 sec\n",
      " ARIMA(0,1,1)(0,0,0)[0] intercept   : AIC=4871.656, Time=0.13 sec\n",
      " ARIMA(0,1,0)(0,0,0)[0]             : AIC=4883.011, Time=0.05 sec\n",
      " ARIMA(1,1,2)(0,0,0)[0] intercept   : AIC=4856.313, Time=0.45 sec\n",
      " ARIMA(2,1,1)(0,0,0)[0] intercept   : AIC=4856.607, Time=4.96 sec\n",
      " ARIMA(3,1,2)(0,0,0)[0] intercept   : AIC=4855.683, Time=2.54 sec\n",
      " ARIMA(2,1,3)(0,0,0)[0] intercept   : AIC=4856.093, Time=2.71 sec\n",
      " ARIMA(1,1,1)(0,0,0)[0] intercept   : AIC=4855.850, Time=1.35 sec\n",
      " ARIMA(1,1,3)(0,0,0)[0] intercept   : AIC=4854.901, Time=1.83 sec\n",
      " ARIMA(3,1,1)(0,0,0)[0] intercept   : AIC=4855.973, Time=2.21 sec\n",
      " ARIMA(3,1,3)(0,0,0)[0] intercept   : AIC=inf, Time=7.99 sec\n",
      " ARIMA(2,1,2)(0,0,0)[0]             : AIC=4851.578, Time=1.58 sec\n",
      " ARIMA(1,1,2)(0,0,0)[0]             : AIC=4854.324, Time=0.91 sec\n",
      " ARIMA(2,1,1)(0,0,0)[0]             : AIC=4854.618, Time=2.13 sec\n",
      " ARIMA(3,1,2)(0,0,0)[0]             : AIC=4853.687, Time=2.01 sec\n",
      " ARIMA(2,1,3)(0,0,0)[0]             : AIC=4854.097, Time=1.11 sec\n",
      " ARIMA(1,1,1)(0,0,0)[0]             : AIC=4853.863, Time=0.42 sec\n",
      " ARIMA(1,1,3)(0,0,0)[0]             : AIC=4852.908, Time=0.32 sec\n",
      " ARIMA(3,1,1)(0,0,0)[0]             : AIC=4853.983, Time=0.32 sec\n",
      " ARIMA(3,1,3)(0,0,0)[0]             : AIC=inf, Time=5.15 sec\n",
      "\n",
      "Best model:  ARIMA(2,1,2)(0,0,0)[0]          \n",
      "Total fit time: 40.856 seconds\n"
     ]
    },
    {
     "data": {
      "text/plain": "ARIMA(order=(2, 1, 2), scoring_args={}, suppress_warnings=True,\n      with_intercept=False)"
     },
     "execution_count": 114,
     "metadata": {},
     "output_type": "execute_result"
    }
   ],
   "source": [
    "# getting the best order with autoarima\n",
    "def arimamodel(series):\n",
    "    auto = pm.auto_arima(series,\n",
    "                         starts_p=1, starts_q=1,\n",
    "                         max_p=8, max_q=8,\n",
    "                         test='adf', seasonal=True,\n",
    "                         trace=True)\n",
    "    return auto\n",
    "\n",
    "arimamodel(luna1['Close'])"
   ],
   "metadata": {
    "collapsed": false,
    "pycharm": {
     "name": "#%%\n"
    }
   }
  },
  {
   "cell_type": "code",
   "execution_count": 115,
   "outputs": [
    {
     "name": "stdout",
     "output_type": "stream",
     "text": [
      "                               SARIMAX Results                                \n",
      "==============================================================================\n",
      "Dep. Variable:                  Close   No. Observations:                 1022\n",
      "Model:                 ARIMA(2, 1, 2)   Log Likelihood               -2420.789\n",
      "Date:                Thu, 12 May 2022   AIC                           4851.578\n",
      "Time:                        22:58:34   BIC                           4876.220\n",
      "Sample:                    07-26-2019   HQIC                          4860.934\n",
      "                         - 05-12-2022                                         \n",
      "Covariance Type:                  opg                                         \n",
      "==============================================================================\n",
      "                 coef    std err          z      P>|z|      [0.025      0.975]\n",
      "------------------------------------------------------------------------------\n",
      "ar.L1          1.4871      0.104     14.250      0.000       1.283       1.692\n",
      "ar.L2         -0.6950      0.086     -8.077      0.000      -0.864      -0.526\n",
      "ma.L1         -1.3904      0.101    -13.801      0.000      -1.588      -1.193\n",
      "ma.L2          0.6658      0.073      9.108      0.000       0.523       0.809\n",
      "sigma2         6.7127      0.087     77.162      0.000       6.542       6.883\n",
      "===================================================================================\n",
      "Ljung-Box (L1) (Q):                   0.06   Jarque-Bera (JB):             29345.11\n",
      "Prob(Q):                              0.81   Prob(JB):                         0.00\n",
      "Heteroskedasticity (H):           25036.33   Skew:                            -1.21\n",
      "Prob(H) (two-sided):                  0.00   Kurtosis:                        29.15\n",
      "===================================================================================\n",
      "\n",
      "Warnings:\n",
      "[1] Covariance matrix calculated using the outer product of gradients (complex-step).\n"
     ]
    }
   ],
   "source": [
    "# 2,1,2 ARIMA Model\n",
    "model = ARIMA(luna1['Close'], order=(2,1,2))\n",
    "result = model.fit()\n",
    "print(result.summary())"
   ],
   "metadata": {
    "collapsed": false,
    "pycharm": {
     "name": "#%%\n"
    }
   }
  },
  {
   "cell_type": "code",
   "execution_count": 116,
   "outputs": [
    {
     "name": "stdout",
     "output_type": "stream",
     "text": [
      "817\n",
      "205\n"
     ]
    }
   ],
   "source": [
    "#train test split\n",
    "n = int(len(luna1['Close']) * 0.8)\n",
    "train = luna1['Close'][:n]\n",
    "test = luna1['Close'][n:]\n",
    "print(len(train))\n",
    "print(len(test))"
   ],
   "metadata": {
    "collapsed": false,
    "pycharm": {
     "name": "#%%\n"
    }
   }
  },
  {
   "cell_type": "code",
   "execution_count": 118,
   "outputs": [
    {
     "data": {
      "text/plain": "2021-10-20    37.909721\n2021-10-21    43.178796\n2021-10-22    41.356583\n2021-10-23    44.136073\n2021-10-24    43.491723\n                ...    \n2022-05-08    66.755738\n2022-05-09    62.140569\n2022-05-10    27.315871\n2022-05-11    11.831927\n2022-05-12    -4.882803\nFreq: D, Name: predicted_mean, Length: 205, dtype: float64"
     },
     "execution_count": 118,
     "metadata": {},
     "output_type": "execute_result"
    }
   ],
   "source": [
    "start = len(train)\n",
    "end = len(train) + len(test) - 1\n",
    "predictions = result.predict(start=start, end=end, dynamic=False, type='level')\n",
    "predictions\n",
    "# df = pd.DataFrame({'Actual': test, 'Predicted': predictions})\n",
    "# print(df)"
   ],
   "metadata": {
    "collapsed": false,
    "pycharm": {
     "name": "#%%\n"
    }
   }
  },
  {
   "cell_type": "code",
   "execution_count": 119,
   "outputs": [
    {
     "name": "stdout",
     "output_type": "stream",
     "text": [
      "Mean absolute error:, 4.00\n",
      "Mean squared error:, 29.02\n",
      "Root mean squared error:, 5.39\n",
      "r2 score:0.94\n",
      "Mean absolute percentage error:, 1.96\n"
     ]
    }
   ],
   "source": [
    "#evaluate\n",
    "mae = mean_absolute_error(test, predictions)\n",
    "mse = mean_squared_error(test, predictions)\n",
    "rmse = np.sqrt(mse)\n",
    "r2 = r2_score(test, predictions)\n",
    "#the r2 for the train dataset\n",
    "mape = mean_absolute_percentage_error(test, predictions)\n",
    "\n",
    "#printing the model evaluation values\n",
    "print('Mean absolute error:, {:.2f}'.format(mae))\n",
    "print('Mean squared error:, {:.2f}'.format(mse))\n",
    "print('Root mean squared error:, {:.2f}'.format(rmse))\n",
    "print('r2 score:{:.2f}'.format(r2))\n",
    "print('Mean absolute percentage error:, {:.2f}'.format(mape))"
   ],
   "metadata": {
    "collapsed": false,
    "pycharm": {
     "name": "#%%\n"
    }
   }
  },
  {
   "cell_type": "code",
   "execution_count": 120,
   "outputs": [
    {
     "data": {
      "text/plain": "2022-05-13   -4.105822\n2022-05-14   -6.233007\n2022-05-15   -6.533819\n2022-05-16   -5.502731\n2022-05-17   -3.760293\n2022-05-18   -1.885680\n2022-05-19   -0.308905\nFreq: D, Name: predicted_mean, dtype: float64"
     },
     "execution_count": 120,
     "metadata": {},
     "output_type": "execute_result"
    }
   ],
   "source": [
    "#saving model to disk\n",
    "final_model = 'luna1_model.sav'\n",
    "joblib.dump(model, final_model)\n",
    "forecast = result.forecast(steps=7, type='level')\n",
    "forecast"
   ],
   "metadata": {
    "collapsed": false,
    "pycharm": {
     "name": "#%%\n"
    }
   }
  },
  {
   "cell_type": "markdown",
   "source": [
    "CARDANO"
   ],
   "metadata": {
    "collapsed": false,
    "pycharm": {
     "name": "#%% md\n"
    }
   }
  },
  {
   "cell_type": "code",
   "execution_count": 121,
   "outputs": [
    {
     "data": {
      "text/plain": "                High       Low      Open     Close        Volume  Adj Close  \\\nDate                                                                          \n2017-11-09  0.035060  0.025006  0.025160  0.032053  1.871620e+07   0.032053   \n2017-11-10  0.033348  0.026451  0.032219  0.027119  6.766780e+06   0.027119   \n2017-11-11  0.029659  0.025684  0.026891  0.027437  5.532220e+06   0.027437   \n2017-11-12  0.027952  0.022591  0.027480  0.023977  7.280250e+06   0.023977   \n2017-11-13  0.026300  0.023495  0.024364  0.025808  4.419440e+06   0.025808   \n...              ...       ...       ...       ...           ...        ...   \n2022-05-08  0.763869  0.729272  0.762053  0.739563  1.085127e+09   0.739563   \n2022-05-09  0.753233  0.610088  0.739509  0.610088  2.306123e+09   0.610088   \n2022-05-10  0.698520  0.590688  0.609972  0.628963  2.372592e+09   0.628963   \n2022-05-11  0.657571  0.484610  0.628772  0.512800  2.692548e+09   0.512800   \n2022-05-12  0.543247  0.406529  0.516257  0.494381  3.298573e+09   0.494381   \n\n           symbol     name  \nDate                        \n2017-11-09    ADA  Cardano  \n2017-11-10    ADA  Cardano  \n2017-11-11    ADA  Cardano  \n2017-11-12    ADA  Cardano  \n2017-11-13    ADA  Cardano  \n...           ...      ...  \n2022-05-08    ADA  Cardano  \n2022-05-09    ADA  Cardano  \n2022-05-10    ADA  Cardano  \n2022-05-11    ADA  Cardano  \n2022-05-12    ADA  Cardano  \n\n[1646 rows x 8 columns]",
      "text/html": "<div>\n<style scoped>\n    .dataframe tbody tr th:only-of-type {\n        vertical-align: middle;\n    }\n\n    .dataframe tbody tr th {\n        vertical-align: top;\n    }\n\n    .dataframe thead th {\n        text-align: right;\n    }\n</style>\n<table border=\"1\" class=\"dataframe\">\n  <thead>\n    <tr style=\"text-align: right;\">\n      <th></th>\n      <th>High</th>\n      <th>Low</th>\n      <th>Open</th>\n      <th>Close</th>\n      <th>Volume</th>\n      <th>Adj Close</th>\n      <th>symbol</th>\n      <th>name</th>\n    </tr>\n    <tr>\n      <th>Date</th>\n      <th></th>\n      <th></th>\n      <th></th>\n      <th></th>\n      <th></th>\n      <th></th>\n      <th></th>\n      <th></th>\n    </tr>\n  </thead>\n  <tbody>\n    <tr>\n      <th>2017-11-09</th>\n      <td>0.035060</td>\n      <td>0.025006</td>\n      <td>0.025160</td>\n      <td>0.032053</td>\n      <td>1.871620e+07</td>\n      <td>0.032053</td>\n      <td>ADA</td>\n      <td>Cardano</td>\n    </tr>\n    <tr>\n      <th>2017-11-10</th>\n      <td>0.033348</td>\n      <td>0.026451</td>\n      <td>0.032219</td>\n      <td>0.027119</td>\n      <td>6.766780e+06</td>\n      <td>0.027119</td>\n      <td>ADA</td>\n      <td>Cardano</td>\n    </tr>\n    <tr>\n      <th>2017-11-11</th>\n      <td>0.029659</td>\n      <td>0.025684</td>\n      <td>0.026891</td>\n      <td>0.027437</td>\n      <td>5.532220e+06</td>\n      <td>0.027437</td>\n      <td>ADA</td>\n      <td>Cardano</td>\n    </tr>\n    <tr>\n      <th>2017-11-12</th>\n      <td>0.027952</td>\n      <td>0.022591</td>\n      <td>0.027480</td>\n      <td>0.023977</td>\n      <td>7.280250e+06</td>\n      <td>0.023977</td>\n      <td>ADA</td>\n      <td>Cardano</td>\n    </tr>\n    <tr>\n      <th>2017-11-13</th>\n      <td>0.026300</td>\n      <td>0.023495</td>\n      <td>0.024364</td>\n      <td>0.025808</td>\n      <td>4.419440e+06</td>\n      <td>0.025808</td>\n      <td>ADA</td>\n      <td>Cardano</td>\n    </tr>\n    <tr>\n      <th>...</th>\n      <td>...</td>\n      <td>...</td>\n      <td>...</td>\n      <td>...</td>\n      <td>...</td>\n      <td>...</td>\n      <td>...</td>\n      <td>...</td>\n    </tr>\n    <tr>\n      <th>2022-05-08</th>\n      <td>0.763869</td>\n      <td>0.729272</td>\n      <td>0.762053</td>\n      <td>0.739563</td>\n      <td>1.085127e+09</td>\n      <td>0.739563</td>\n      <td>ADA</td>\n      <td>Cardano</td>\n    </tr>\n    <tr>\n      <th>2022-05-09</th>\n      <td>0.753233</td>\n      <td>0.610088</td>\n      <td>0.739509</td>\n      <td>0.610088</td>\n      <td>2.306123e+09</td>\n      <td>0.610088</td>\n      <td>ADA</td>\n      <td>Cardano</td>\n    </tr>\n    <tr>\n      <th>2022-05-10</th>\n      <td>0.698520</td>\n      <td>0.590688</td>\n      <td>0.609972</td>\n      <td>0.628963</td>\n      <td>2.372592e+09</td>\n      <td>0.628963</td>\n      <td>ADA</td>\n      <td>Cardano</td>\n    </tr>\n    <tr>\n      <th>2022-05-11</th>\n      <td>0.657571</td>\n      <td>0.484610</td>\n      <td>0.628772</td>\n      <td>0.512800</td>\n      <td>2.692548e+09</td>\n      <td>0.512800</td>\n      <td>ADA</td>\n      <td>Cardano</td>\n    </tr>\n    <tr>\n      <th>2022-05-12</th>\n      <td>0.543247</td>\n      <td>0.406529</td>\n      <td>0.516257</td>\n      <td>0.494381</td>\n      <td>3.298573e+09</td>\n      <td>0.494381</td>\n      <td>ADA</td>\n      <td>Cardano</td>\n    </tr>\n  </tbody>\n</table>\n<p>1646 rows × 8 columns</p>\n</div>"
     },
     "execution_count": 121,
     "metadata": {},
     "output_type": "execute_result"
    }
   ],
   "source": [
    "ada = my_data[my_data['symbol'] == 'ADA']  #Extracting the usd coin data from the dataframe\n",
    "ada = ada.set_index('Date')\n",
    "ada"
   ],
   "metadata": {
    "collapsed": false,
    "pycharm": {
     "name": "#%%\n"
    }
   }
  },
  {
   "cell_type": "code",
   "execution_count": 122,
   "outputs": [
    {
     "name": "stdout",
     "output_type": "stream",
     "text": [
      "Performing stepwise search to minimize aic\n",
      " ARIMA(2,1,2)(0,0,0)[0] intercept   : AIC=-5091.115, Time=5.23 sec\n",
      " ARIMA(0,1,0)(0,0,0)[0] intercept   : AIC=-5094.816, Time=0.23 sec\n",
      " ARIMA(1,1,0)(0,0,0)[0] intercept   : AIC=-5101.178, Time=0.40 sec\n",
      " ARIMA(0,1,1)(0,0,0)[0] intercept   : AIC=-5100.849, Time=0.24 sec\n",
      " ARIMA(0,1,0)(0,0,0)[0]             : AIC=-5096.767, Time=0.12 sec\n",
      " ARIMA(2,1,0)(0,0,0)[0] intercept   : AIC=-5099.978, Time=2.91 sec\n",
      " ARIMA(1,1,1)(0,0,0)[0] intercept   : AIC=-5105.912, Time=2.60 sec\n",
      " ARIMA(2,1,1)(0,0,0)[0] intercept   : AIC=-5103.918, Time=2.22 sec\n",
      " ARIMA(1,1,2)(0,0,0)[0] intercept   : AIC=-5098.276, Time=3.01 sec\n",
      " ARIMA(0,1,2)(0,0,0)[0] intercept   : AIC=-5099.404, Time=1.60 sec\n",
      " ARIMA(1,1,1)(0,0,0)[0]             : AIC=-5107.859, Time=1.22 sec\n",
      " ARIMA(0,1,1)(0,0,0)[0]             : AIC=-5102.791, Time=0.50 sec\n",
      " ARIMA(1,1,0)(0,0,0)[0]             : AIC=-5103.121, Time=0.54 sec\n",
      " ARIMA(2,1,1)(0,0,0)[0]             : AIC=-5099.783, Time=1.17 sec\n",
      " ARIMA(1,1,2)(0,0,0)[0]             : AIC=-5100.216, Time=1.82 sec\n",
      " ARIMA(0,1,2)(0,0,0)[0]             : AIC=-5101.350, Time=0.97 sec\n",
      " ARIMA(2,1,0)(0,0,0)[0]             : AIC=-5101.924, Time=1.52 sec\n",
      " ARIMA(2,1,2)(0,0,0)[0]             : AIC=-5109.782, Time=5.21 sec\n",
      " ARIMA(3,1,2)(0,0,0)[0]             : AIC=-5110.184, Time=4.37 sec\n",
      " ARIMA(3,1,1)(0,0,0)[0]             : AIC=-5103.553, Time=0.70 sec\n",
      " ARIMA(4,1,2)(0,0,0)[0]             : AIC=-5104.533, Time=6.22 sec\n",
      " ARIMA(3,1,3)(0,0,0)[0]             : AIC=-5103.279, Time=4.90 sec\n",
      " ARIMA(2,1,3)(0,0,0)[0]             : AIC=-5114.078, Time=4.24 sec\n",
      " ARIMA(1,1,3)(0,0,0)[0]             : AIC=-5108.544, Time=2.88 sec\n",
      " ARIMA(2,1,4)(0,0,0)[0]             : AIC=-5104.935, Time=6.26 sec\n",
      " ARIMA(1,1,4)(0,0,0)[0]             : AIC=-5107.793, Time=4.54 sec\n",
      " ARIMA(3,1,4)(0,0,0)[0]             : AIC=-5107.682, Time=6.59 sec\n",
      " ARIMA(2,1,3)(0,0,0)[0] intercept   : AIC=-5112.210, Time=9.34 sec\n",
      "\n",
      "Best model:  ARIMA(2,1,3)(0,0,0)[0]          \n",
      "Total fit time: 81.616 seconds\n"
     ]
    },
    {
     "data": {
      "text/plain": "ARIMA(order=(2, 1, 3), scoring_args={}, suppress_warnings=True,\n      with_intercept=False)"
     },
     "execution_count": 122,
     "metadata": {},
     "output_type": "execute_result"
    }
   ],
   "source": [
    "# getting the best order with autoarima\n",
    "def arimamodel(series):\n",
    "    auto = pm.auto_arima(series,\n",
    "                         starts_p=1, starts_q=1,\n",
    "                         max_p=8, max_q=8,\n",
    "                         test='adf', seasonal=True,\n",
    "                         trace=True)\n",
    "    return auto\n",
    "\n",
    "arimamodel(ada['Close'])"
   ],
   "metadata": {
    "collapsed": false,
    "pycharm": {
     "name": "#%%\n"
    }
   }
  },
  {
   "cell_type": "code",
   "execution_count": 123,
   "outputs": [
    {
     "name": "stdout",
     "output_type": "stream",
     "text": [
      "                               SARIMAX Results                                \n",
      "==============================================================================\n",
      "Dep. Variable:                  Close   No. Observations:                 1646\n",
      "Model:                 ARIMA(2, 1, 3)   Log Likelihood                2563.039\n",
      "Date:                Thu, 12 May 2022   AIC                          -5114.078\n",
      "Time:                        23:03:57   BIC                          -5081.645\n",
      "Sample:                    11-09-2017   HQIC                         -5102.052\n",
      "                         - 05-12-2022                                         \n",
      "Covariance Type:                  opg                                         \n",
      "==============================================================================\n",
      "                 coef    std err          z      P>|z|      [0.025      0.975]\n",
      "------------------------------------------------------------------------------\n",
      "ar.L1         -1.2895      0.056    -22.965      0.000      -1.400      -1.179\n",
      "ar.L2         -0.7310      0.051    -14.418      0.000      -0.830      -0.632\n",
      "ma.L1          1.2298      0.056     21.906      0.000       1.120       1.340\n",
      "ma.L2          0.6503      0.049     13.288      0.000       0.554       0.746\n",
      "ma.L3         -0.0979      0.012     -7.865      0.000      -0.122      -0.074\n",
      "sigma2         0.0026    3.1e-05     83.684      0.000       0.003       0.003\n",
      "===================================================================================\n",
      "Ljung-Box (L1) (Q):                   0.00   Jarque-Bera (JB):             24403.77\n",
      "Prob(Q):                              0.98   Prob(JB):                         0.00\n",
      "Heteroskedasticity (H):               8.71   Skew:                             0.45\n",
      "Prob(H) (two-sided):                  0.00   Kurtosis:                        21.85\n",
      "===================================================================================\n",
      "\n",
      "Warnings:\n",
      "[1] Covariance matrix calculated using the outer product of gradients (complex-step).\n"
     ]
    }
   ],
   "source": [
    "# 2,1,3 ARIMA Model\n",
    "model = ARIMA(ada['Close'], order=(2,1,3))\n",
    "result = model.fit()\n",
    "print(result.summary())"
   ],
   "metadata": {
    "collapsed": false,
    "pycharm": {
     "name": "#%%\n"
    }
   }
  },
  {
   "cell_type": "code",
   "execution_count": 124,
   "outputs": [
    {
     "name": "stdout",
     "output_type": "stream",
     "text": [
      "1316\n",
      "330\n"
     ]
    }
   ],
   "source": [
    "#train test split\n",
    "n = int(len(ada['Close']) * 0.8)\n",
    "train = ada['Close'][:n]\n",
    "test = ada['Close'][n:]\n",
    "print(len(train))\n",
    "print(len(test))"
   ],
   "metadata": {
    "collapsed": false,
    "pycharm": {
     "name": "#%%\n"
    }
   }
  },
  {
   "cell_type": "code",
   "execution_count": 126,
   "outputs": [
    {
     "data": {
      "text/plain": "2021-06-17    1.496667\n2021-06-18    1.479059\n2021-06-19    1.424348\n2021-06-20    1.389890\n2021-06-21    1.430137\n                ...   \n2022-05-08    0.775041\n2022-05-09    0.729198\n2022-05-10    0.625645\n2022-05-11    0.629370\n2022-05-12    0.519248\nFreq: D, Name: predicted_mean, Length: 330, dtype: float64"
     },
     "execution_count": 126,
     "metadata": {},
     "output_type": "execute_result"
    }
   ],
   "source": [
    "start = len(train)\n",
    "end = len(train) + len(test) - 1\n",
    "predictions = result.predict(start=start, end=end, dynamic=False, type='level')\n",
    "predictions\n",
    "# df = pd.DataFrame({'Actual': test, 'Predicted': predictions})\n",
    "# print(df)"
   ],
   "metadata": {
    "collapsed": false,
    "pycharm": {
     "name": "#%%\n"
    }
   }
  },
  {
   "cell_type": "code",
   "execution_count": 127,
   "outputs": [
    {
     "name": "stdout",
     "output_type": "stream",
     "text": [
      "Mean absolute error:, 0.06\n",
      "Mean squared error:, 0.01\n",
      "Root mean squared error:, 0.08\n",
      "r2 score:0.98\n",
      "Mean absolute percentage error:, 0.04\n"
     ]
    }
   ],
   "source": [
    "#evaluate\n",
    "mae = mean_absolute_error(test, predictions)\n",
    "mse = mean_squared_error(test, predictions)\n",
    "rmse = np.sqrt(mse)\n",
    "r2 = r2_score(test, predictions)\n",
    "#the r2 for the train dataset\n",
    "mape = mean_absolute_percentage_error(test, predictions)\n",
    "\n",
    "#printing the model evaluation values\n",
    "print('Mean absolute error:, {:.2f}'.format(mae))\n",
    "print('Mean squared error:, {:.2f}'.format(mse))\n",
    "print('Root mean squared error:, {:.2f}'.format(rmse))\n",
    "print('r2 score:{:.2f}'.format(r2))\n",
    "print('Mean absolute percentage error:, {:.2f}'.format(mape))\n"
   ],
   "metadata": {
    "collapsed": false,
    "pycharm": {
     "name": "#%%\n"
    }
   }
  },
  {
   "cell_type": "code",
   "execution_count": 128,
   "outputs": [
    {
     "data": {
      "text/plain": "2022-05-13    0.496337\n2022-05-14    0.502521\n2022-05-15    0.495552\n2022-05-16    0.500018\n2022-05-17    0.499353\n2022-05-18    0.496945\n2022-05-19    0.500536\nFreq: D, Name: predicted_mean, dtype: float64"
     },
     "execution_count": 128,
     "metadata": {},
     "output_type": "execute_result"
    }
   ],
   "source": [
    "#saving model to disk\n",
    "final_model = 'ada_model.sav'\n",
    "joblib.dump(model, final_model)\n",
    "forecast = result.forecast(steps=7, type='level')\n",
    "forecast"
   ],
   "metadata": {
    "collapsed": false,
    "pycharm": {
     "name": "#%%\n"
    }
   }
  },
  {
   "cell_type": "markdown",
   "source": [
    "AVALANCHE"
   ],
   "metadata": {
    "collapsed": false,
    "pycharm": {
     "name": "#%% md\n"
    }
   }
  },
  {
   "cell_type": "code",
   "execution_count": 129,
   "outputs": [
    {
     "data": {
      "text/plain": "                 High        Low       Open      Close        Volume  \\\nDate                                                                   \n2020-07-13   4.915115   4.481499   4.613968   4.896294  2.834000e+04   \n2020-07-14   5.229564   4.762068   4.909865   4.986754  3.957000e+03   \n2020-09-22  11.463443   4.125380   4.986754   5.234632  2.880988e+08   \n2020-09-23   5.329310   3.982604   5.321654   4.118469  1.730912e+08   \n2020-09-24   4.751878   3.539887   3.817925   4.566561  9.611096e+07   \n...               ...        ...        ...        ...           ...   \n2022-05-08  55.275398  50.935349  55.145802  51.521225  8.378908e+08   \n2022-05-09  52.924164  41.972042  51.524044  41.972042  1.228351e+09   \n2022-05-10  50.088913  40.383198  41.881672  44.560284  1.624449e+09   \n2022-05-11  46.037857  27.849419  44.521870  30.962866  2.428551e+09   \n2022-05-12  33.248837  23.549391  31.300188  32.082489  2.227276e+09   \n\n            Adj Close symbol       name  \nDate                                     \n2020-07-13   4.896294   AVAX  Avalanche  \n2020-07-14   4.986754   AVAX  Avalanche  \n2020-09-22   5.234632   AVAX  Avalanche  \n2020-09-23   4.118469   AVAX  Avalanche  \n2020-09-24   4.566561   AVAX  Avalanche  \n...               ...    ...        ...  \n2022-05-08  51.521225   AVAX  Avalanche  \n2022-05-09  41.972042   AVAX  Avalanche  \n2022-05-10  44.560284   AVAX  Avalanche  \n2022-05-11  30.962866   AVAX  Avalanche  \n2022-05-12  32.082489   AVAX  Avalanche  \n\n[600 rows x 8 columns]",
      "text/html": "<div>\n<style scoped>\n    .dataframe tbody tr th:only-of-type {\n        vertical-align: middle;\n    }\n\n    .dataframe tbody tr th {\n        vertical-align: top;\n    }\n\n    .dataframe thead th {\n        text-align: right;\n    }\n</style>\n<table border=\"1\" class=\"dataframe\">\n  <thead>\n    <tr style=\"text-align: right;\">\n      <th></th>\n      <th>High</th>\n      <th>Low</th>\n      <th>Open</th>\n      <th>Close</th>\n      <th>Volume</th>\n      <th>Adj Close</th>\n      <th>symbol</th>\n      <th>name</th>\n    </tr>\n    <tr>\n      <th>Date</th>\n      <th></th>\n      <th></th>\n      <th></th>\n      <th></th>\n      <th></th>\n      <th></th>\n      <th></th>\n      <th></th>\n    </tr>\n  </thead>\n  <tbody>\n    <tr>\n      <th>2020-07-13</th>\n      <td>4.915115</td>\n      <td>4.481499</td>\n      <td>4.613968</td>\n      <td>4.896294</td>\n      <td>2.834000e+04</td>\n      <td>4.896294</td>\n      <td>AVAX</td>\n      <td>Avalanche</td>\n    </tr>\n    <tr>\n      <th>2020-07-14</th>\n      <td>5.229564</td>\n      <td>4.762068</td>\n      <td>4.909865</td>\n      <td>4.986754</td>\n      <td>3.957000e+03</td>\n      <td>4.986754</td>\n      <td>AVAX</td>\n      <td>Avalanche</td>\n    </tr>\n    <tr>\n      <th>2020-09-22</th>\n      <td>11.463443</td>\n      <td>4.125380</td>\n      <td>4.986754</td>\n      <td>5.234632</td>\n      <td>2.880988e+08</td>\n      <td>5.234632</td>\n      <td>AVAX</td>\n      <td>Avalanche</td>\n    </tr>\n    <tr>\n      <th>2020-09-23</th>\n      <td>5.329310</td>\n      <td>3.982604</td>\n      <td>5.321654</td>\n      <td>4.118469</td>\n      <td>1.730912e+08</td>\n      <td>4.118469</td>\n      <td>AVAX</td>\n      <td>Avalanche</td>\n    </tr>\n    <tr>\n      <th>2020-09-24</th>\n      <td>4.751878</td>\n      <td>3.539887</td>\n      <td>3.817925</td>\n      <td>4.566561</td>\n      <td>9.611096e+07</td>\n      <td>4.566561</td>\n      <td>AVAX</td>\n      <td>Avalanche</td>\n    </tr>\n    <tr>\n      <th>...</th>\n      <td>...</td>\n      <td>...</td>\n      <td>...</td>\n      <td>...</td>\n      <td>...</td>\n      <td>...</td>\n      <td>...</td>\n      <td>...</td>\n    </tr>\n    <tr>\n      <th>2022-05-08</th>\n      <td>55.275398</td>\n      <td>50.935349</td>\n      <td>55.145802</td>\n      <td>51.521225</td>\n      <td>8.378908e+08</td>\n      <td>51.521225</td>\n      <td>AVAX</td>\n      <td>Avalanche</td>\n    </tr>\n    <tr>\n      <th>2022-05-09</th>\n      <td>52.924164</td>\n      <td>41.972042</td>\n      <td>51.524044</td>\n      <td>41.972042</td>\n      <td>1.228351e+09</td>\n      <td>41.972042</td>\n      <td>AVAX</td>\n      <td>Avalanche</td>\n    </tr>\n    <tr>\n      <th>2022-05-10</th>\n      <td>50.088913</td>\n      <td>40.383198</td>\n      <td>41.881672</td>\n      <td>44.560284</td>\n      <td>1.624449e+09</td>\n      <td>44.560284</td>\n      <td>AVAX</td>\n      <td>Avalanche</td>\n    </tr>\n    <tr>\n      <th>2022-05-11</th>\n      <td>46.037857</td>\n      <td>27.849419</td>\n      <td>44.521870</td>\n      <td>30.962866</td>\n      <td>2.428551e+09</td>\n      <td>30.962866</td>\n      <td>AVAX</td>\n      <td>Avalanche</td>\n    </tr>\n    <tr>\n      <th>2022-05-12</th>\n      <td>33.248837</td>\n      <td>23.549391</td>\n      <td>31.300188</td>\n      <td>32.082489</td>\n      <td>2.227276e+09</td>\n      <td>32.082489</td>\n      <td>AVAX</td>\n      <td>Avalanche</td>\n    </tr>\n  </tbody>\n</table>\n<p>600 rows × 8 columns</p>\n</div>"
     },
     "execution_count": 129,
     "metadata": {},
     "output_type": "execute_result"
    }
   ],
   "source": [
    "avax = my_data[my_data['symbol'] == 'AVAX']  #Extracting avalanche coin data from the dataframe\n",
    "avax = avax.set_index('Date')\n",
    "avax"
   ],
   "metadata": {
    "collapsed": false,
    "pycharm": {
     "name": "#%%\n"
    }
   }
  },
  {
   "cell_type": "code",
   "execution_count": 130,
   "outputs": [
    {
     "name": "stdout",
     "output_type": "stream",
     "text": [
      "Performing stepwise search to minimize aic\n",
      " ARIMA(2,1,2)(0,0,0)[0] intercept   : AIC=3335.607, Time=5.12 sec\n",
      " ARIMA(0,1,0)(0,0,0)[0] intercept   : AIC=3338.830, Time=0.05 sec\n",
      " ARIMA(1,1,0)(0,0,0)[0] intercept   : AIC=3340.583, Time=0.11 sec\n",
      " ARIMA(0,1,1)(0,0,0)[0] intercept   : AIC=3340.583, Time=0.14 sec\n",
      " ARIMA(0,1,0)(0,0,0)[0]             : AIC=3336.910, Time=0.02 sec\n",
      " ARIMA(1,1,2)(0,0,0)[0] intercept   : AIC=3343.574, Time=0.49 sec\n",
      " ARIMA(2,1,1)(0,0,0)[0] intercept   : AIC=3343.303, Time=0.53 sec\n",
      " ARIMA(3,1,2)(0,0,0)[0] intercept   : AIC=3328.304, Time=4.30 sec\n",
      " ARIMA(3,1,1)(0,0,0)[0] intercept   : AIC=3340.530, Time=0.78 sec\n",
      " ARIMA(4,1,2)(0,0,0)[0] intercept   : AIC=3328.394, Time=4.43 sec\n",
      " ARIMA(3,1,3)(0,0,0)[0] intercept   : AIC=3330.078, Time=2.97 sec\n",
      " ARIMA(2,1,3)(0,0,0)[0] intercept   : AIC=3328.305, Time=4.17 sec\n",
      " ARIMA(4,1,1)(0,0,0)[0] intercept   : AIC=3339.316, Time=1.14 sec\n",
      " ARIMA(4,1,3)(0,0,0)[0] intercept   : AIC=3332.269, Time=4.65 sec\n",
      " ARIMA(3,1,2)(0,0,0)[0]             : AIC=3326.392, Time=1.79 sec\n",
      " ARIMA(2,1,2)(0,0,0)[0]             : AIC=inf, Time=2.14 sec\n",
      " ARIMA(3,1,1)(0,0,0)[0]             : AIC=3338.599, Time=0.54 sec\n",
      " ARIMA(4,1,2)(0,0,0)[0]             : AIC=3326.468, Time=4.09 sec\n",
      " ARIMA(3,1,3)(0,0,0)[0]             : AIC=3328.092, Time=2.55 sec\n",
      " ARIMA(2,1,1)(0,0,0)[0]             : AIC=3341.394, Time=0.76 sec\n",
      " ARIMA(2,1,3)(0,0,0)[0]             : AIC=3326.393, Time=1.92 sec\n",
      " ARIMA(4,1,1)(0,0,0)[0]             : AIC=3337.413, Time=0.55 sec\n",
      " ARIMA(4,1,3)(0,0,0)[0]             : AIC=3330.381, Time=3.16 sec\n",
      "\n",
      "Best model:  ARIMA(3,1,2)(0,0,0)[0]          \n",
      "Total fit time: 46.414 seconds\n"
     ]
    },
    {
     "data": {
      "text/plain": "ARIMA(order=(3, 1, 2), scoring_args={}, suppress_warnings=True,\n      with_intercept=False)"
     },
     "execution_count": 130,
     "metadata": {},
     "output_type": "execute_result"
    }
   ],
   "source": [
    "# getting the best order with autoarima\n",
    "def arimamodel(series):\n",
    "    auto = pm.auto_arima(series,\n",
    "                         starts_p=1, starts_q=1,\n",
    "                         max_p=8, max_q=8,\n",
    "                         test='adf', seasonal=True,\n",
    "                         trace=True)\n",
    "    return auto\n",
    "\n",
    "arimamodel(avax['Close'])"
   ],
   "metadata": {
    "collapsed": false,
    "pycharm": {
     "name": "#%%\n"
    }
   }
  },
  {
   "cell_type": "code",
   "execution_count": 131,
   "outputs": [
    {
     "name": "stdout",
     "output_type": "stream",
     "text": [
      "                               SARIMAX Results                                \n",
      "==============================================================================\n",
      "Dep. Variable:                  Close   No. Observations:                  600\n",
      "Model:                 ARIMA(3, 1, 2)   Log Likelihood               -1657.196\n",
      "Date:                Thu, 12 May 2022   AIC                           3326.392\n",
      "Time:                        23:06:11   BIC                           3352.763\n",
      "Sample:                             0   HQIC                          3336.658\n",
      "                                - 600                                         \n",
      "Covariance Type:                  opg                                         \n",
      "==============================================================================\n",
      "                 coef    std err          z      P>|z|      [0.025      0.975]\n",
      "------------------------------------------------------------------------------\n",
      "ar.L1         -1.2036      0.050    -24.063      0.000      -1.302      -1.106\n",
      "ar.L2         -0.9473      0.051    -18.537      0.000      -1.047      -0.847\n",
      "ar.L3          0.0057      0.036      0.160      0.873      -0.064       0.076\n",
      "ma.L1          1.2050      0.037     32.338      0.000       1.132       1.278\n",
      "ma.L2          0.9075      0.033     27.388      0.000       0.843       0.972\n",
      "sigma2        14.8011      0.454     32.581      0.000      13.911      15.691\n",
      "===================================================================================\n",
      "Ljung-Box (L1) (Q):                   0.00   Jarque-Bera (JB):               699.56\n",
      "Prob(Q):                              0.99   Prob(JB):                         0.00\n",
      "Heteroskedasticity (H):               4.74   Skew:                             0.23\n",
      "Prob(H) (two-sided):                  0.00   Kurtosis:                         8.27\n",
      "===================================================================================\n",
      "\n",
      "Warnings:\n",
      "[1] Covariance matrix calculated using the outer product of gradients (complex-step).\n"
     ]
    }
   ],
   "source": [
    "# 3,1,2 ARIMA Model\n",
    "model = ARIMA(avax['Close'], order=(3,1,2))\n",
    "result = model.fit()\n",
    "print(result.summary())"
   ],
   "metadata": {
    "collapsed": false,
    "pycharm": {
     "name": "#%%\n"
    }
   }
  },
  {
   "cell_type": "code",
   "execution_count": 132,
   "outputs": [
    {
     "name": "stdout",
     "output_type": "stream",
     "text": [
      "480\n",
      "120\n"
     ]
    }
   ],
   "source": [
    "#train test split\n",
    "n = int(len(avax['Close']) * 0.8)\n",
    "train = avax['Close'][:n]\n",
    "test = avax['Close'][n:]\n",
    "print(len(train))\n",
    "print(len(test))"
   ],
   "metadata": {
    "collapsed": false,
    "pycharm": {
     "name": "#%%\n"
    }
   }
  },
  {
   "cell_type": "code",
   "execution_count": 133,
   "outputs": [
    {
     "data": {
      "text/plain": "Date\n2022-01-13    93.657635\n2022-01-14    90.367307\n2022-01-15    91.442866\n2022-01-16    91.047232\n2022-01-17    93.858501\n                ...    \n2022-05-08    54.881283\n2022-05-09    51.292720\n2022-05-10    42.617475\n2022-05-11    44.352954\n2022-05-12    30.449578\nName: predicted_mean, Length: 120, dtype: float64"
     },
     "execution_count": 133,
     "metadata": {},
     "output_type": "execute_result"
    }
   ],
   "source": [
    "start = len(train)\n",
    "end = len(train) + len(test) - 1\n",
    "predictions = result.predict(start=start, end=end, dynamic=False, type='level')\n",
    "predictions\n",
    "# df = pd.DataFrame({'Actual': test, 'Predicted': predictions})\n",
    "# print(df)"
   ],
   "metadata": {
    "collapsed": false,
    "pycharm": {
     "name": "#%%\n"
    }
   }
  },
  {
   "cell_type": "code",
   "execution_count": 134,
   "outputs": [
    {
     "name": "stdout",
     "output_type": "stream",
     "text": [
      "Mean absolute error:, 3.39\n",
      "Mean squared error:, 18.71\n",
      "Root mean squared error:, 4.33\n",
      "r2 score:0.88\n",
      "Mean absolute percentage error:, 0.05\n"
     ]
    }
   ],
   "source": [
    "#evaluate\n",
    "mae = mean_absolute_error(test, predictions)\n",
    "mse = mean_squared_error(test, predictions)\n",
    "rmse = np.sqrt(mse)\n",
    "r2 = r2_score(test, predictions)\n",
    "#the r2 for the train dataset\n",
    "mape = mean_absolute_percentage_error(test, predictions)\n",
    "\n",
    "#printing the model evaluation values\n",
    "print('Mean absolute error:, {:.2f}'.format(mae))\n",
    "print('Mean squared error:, {:.2f}'.format(mse))\n",
    "print('Root mean squared error:, {:.2f}'.format(rmse))\n",
    "print('r2 score:{:.2f}'.format(r2))\n",
    "print('Mean absolute percentage error:, {:.2f}'.format(mape))\n"
   ],
   "metadata": {
    "collapsed": false,
    "pycharm": {
     "name": "#%%\n"
    }
   }
  },
  {
   "cell_type": "code",
   "execution_count": 135,
   "outputs": [
    {
     "data": {
      "text/plain": "600    33.446898\n601    32.148118\n602    32.425200\n603    33.329874\n604    31.971096\n605    32.751084\n606    33.104669\nName: predicted_mean, dtype: float64"
     },
     "execution_count": 135,
     "metadata": {},
     "output_type": "execute_result"
    }
   ],
   "source": [
    "#saving model to disk\n",
    "final_model = 'avax_model.sav'\n",
    "joblib.dump(model, final_model)\n",
    "forecast = result.forecast(steps=7, type='level')\n",
    "forecast"
   ],
   "metadata": {
    "collapsed": false,
    "pycharm": {
     "name": "#%%\n"
    }
   }
  },
  {
   "cell_type": "markdown",
   "source": [
    "HEX"
   ],
   "metadata": {
    "collapsed": false,
    "pycharm": {
     "name": "#%% md\n"
    }
   }
  },
  {
   "cell_type": "code",
   "execution_count": 136,
   "outputs": [
    {
     "data": {
      "text/plain": "                High       Low      Open     Close      Volume  Adj Close  \\\nDate                                                                        \n2019-12-17  0.000398  0.000123  0.000200  0.000171      9433.0   0.000171   \n2019-12-18  0.000266  0.000168  0.000172  0.000265        50.0   0.000265   \n2019-12-19  0.000267  0.000180  0.000265  0.000256        32.0   0.000256   \n2019-12-20  0.000257  0.000115  0.000256  0.000129        59.0   0.000129   \n2019-12-21  0.000218  0.000128  0.000129  0.000218       258.0   0.000218   \n...              ...       ...       ...       ...         ...        ...   \n2022-05-08  0.185865  0.173683  0.184676  0.174394  20309137.0   0.174394   \n2022-05-09  0.174772  0.143105  0.174394  0.145942  33507889.0   0.145942   \n2022-05-10  0.164788  0.143572  0.145942  0.160441  24528517.0   0.160441   \n2022-05-11  0.162452  0.125043  0.160441  0.133913  43832656.0   0.133913   \n2022-05-12  0.139648  0.113142  0.134840  0.122154  44679036.0   0.122154   \n\n           symbol name  \nDate                    \n2019-12-17    HEX  HEX  \n2019-12-18    HEX  HEX  \n2019-12-19    HEX  HEX  \n2019-12-20    HEX  HEX  \n2019-12-21    HEX  HEX  \n...           ...  ...  \n2022-05-08    HEX  HEX  \n2022-05-09    HEX  HEX  \n2022-05-10    HEX  HEX  \n2022-05-11    HEX  HEX  \n2022-05-12    HEX  HEX  \n\n[878 rows x 8 columns]",
      "text/html": "<div>\n<style scoped>\n    .dataframe tbody tr th:only-of-type {\n        vertical-align: middle;\n    }\n\n    .dataframe tbody tr th {\n        vertical-align: top;\n    }\n\n    .dataframe thead th {\n        text-align: right;\n    }\n</style>\n<table border=\"1\" class=\"dataframe\">\n  <thead>\n    <tr style=\"text-align: right;\">\n      <th></th>\n      <th>High</th>\n      <th>Low</th>\n      <th>Open</th>\n      <th>Close</th>\n      <th>Volume</th>\n      <th>Adj Close</th>\n      <th>symbol</th>\n      <th>name</th>\n    </tr>\n    <tr>\n      <th>Date</th>\n      <th></th>\n      <th></th>\n      <th></th>\n      <th></th>\n      <th></th>\n      <th></th>\n      <th></th>\n      <th></th>\n    </tr>\n  </thead>\n  <tbody>\n    <tr>\n      <th>2019-12-17</th>\n      <td>0.000398</td>\n      <td>0.000123</td>\n      <td>0.000200</td>\n      <td>0.000171</td>\n      <td>9433.0</td>\n      <td>0.000171</td>\n      <td>HEX</td>\n      <td>HEX</td>\n    </tr>\n    <tr>\n      <th>2019-12-18</th>\n      <td>0.000266</td>\n      <td>0.000168</td>\n      <td>0.000172</td>\n      <td>0.000265</td>\n      <td>50.0</td>\n      <td>0.000265</td>\n      <td>HEX</td>\n      <td>HEX</td>\n    </tr>\n    <tr>\n      <th>2019-12-19</th>\n      <td>0.000267</td>\n      <td>0.000180</td>\n      <td>0.000265</td>\n      <td>0.000256</td>\n      <td>32.0</td>\n      <td>0.000256</td>\n      <td>HEX</td>\n      <td>HEX</td>\n    </tr>\n    <tr>\n      <th>2019-12-20</th>\n      <td>0.000257</td>\n      <td>0.000115</td>\n      <td>0.000256</td>\n      <td>0.000129</td>\n      <td>59.0</td>\n      <td>0.000129</td>\n      <td>HEX</td>\n      <td>HEX</td>\n    </tr>\n    <tr>\n      <th>2019-12-21</th>\n      <td>0.000218</td>\n      <td>0.000128</td>\n      <td>0.000129</td>\n      <td>0.000218</td>\n      <td>258.0</td>\n      <td>0.000218</td>\n      <td>HEX</td>\n      <td>HEX</td>\n    </tr>\n    <tr>\n      <th>...</th>\n      <td>...</td>\n      <td>...</td>\n      <td>...</td>\n      <td>...</td>\n      <td>...</td>\n      <td>...</td>\n      <td>...</td>\n      <td>...</td>\n    </tr>\n    <tr>\n      <th>2022-05-08</th>\n      <td>0.185865</td>\n      <td>0.173683</td>\n      <td>0.184676</td>\n      <td>0.174394</td>\n      <td>20309137.0</td>\n      <td>0.174394</td>\n      <td>HEX</td>\n      <td>HEX</td>\n    </tr>\n    <tr>\n      <th>2022-05-09</th>\n      <td>0.174772</td>\n      <td>0.143105</td>\n      <td>0.174394</td>\n      <td>0.145942</td>\n      <td>33507889.0</td>\n      <td>0.145942</td>\n      <td>HEX</td>\n      <td>HEX</td>\n    </tr>\n    <tr>\n      <th>2022-05-10</th>\n      <td>0.164788</td>\n      <td>0.143572</td>\n      <td>0.145942</td>\n      <td>0.160441</td>\n      <td>24528517.0</td>\n      <td>0.160441</td>\n      <td>HEX</td>\n      <td>HEX</td>\n    </tr>\n    <tr>\n      <th>2022-05-11</th>\n      <td>0.162452</td>\n      <td>0.125043</td>\n      <td>0.160441</td>\n      <td>0.133913</td>\n      <td>43832656.0</td>\n      <td>0.133913</td>\n      <td>HEX</td>\n      <td>HEX</td>\n    </tr>\n    <tr>\n      <th>2022-05-12</th>\n      <td>0.139648</td>\n      <td>0.113142</td>\n      <td>0.134840</td>\n      <td>0.122154</td>\n      <td>44679036.0</td>\n      <td>0.122154</td>\n      <td>HEX</td>\n      <td>HEX</td>\n    </tr>\n  </tbody>\n</table>\n<p>878 rows × 8 columns</p>\n</div>"
     },
     "execution_count": 136,
     "metadata": {},
     "output_type": "execute_result"
    }
   ],
   "source": [
    "hex = my_data[my_data['symbol'] == 'HEX']  #Extracting the hex coin data from the dataframe\n",
    "hex = hex.set_index('Date')\n",
    "hex"
   ],
   "metadata": {
    "collapsed": false,
    "pycharm": {
     "name": "#%%\n"
    }
   }
  },
  {
   "cell_type": "code",
   "execution_count": 137,
   "outputs": [
    {
     "name": "stdout",
     "output_type": "stream",
     "text": [
      "Performing stepwise search to minimize aic\n",
      " ARIMA(2,1,2)(0,0,0)[0] intercept   : AIC=-5537.109, Time=6.01 sec\n",
      " ARIMA(0,1,0)(0,0,0)[0] intercept   : AIC=-5524.464, Time=0.17 sec\n",
      " ARIMA(1,1,0)(0,0,0)[0] intercept   : AIC=-5528.072, Time=0.11 sec\n",
      " ARIMA(0,1,1)(0,0,0)[0] intercept   : AIC=-5527.502, Time=0.17 sec\n",
      " ARIMA(0,1,0)(0,0,0)[0]             : AIC=-5526.305, Time=0.05 sec\n",
      " ARIMA(1,1,2)(0,0,0)[0] intercept   : AIC=-5528.152, Time=1.13 sec\n",
      " ARIMA(2,1,1)(0,0,0)[0] intercept   : AIC=-5527.455, Time=4.09 sec\n",
      " ARIMA(3,1,2)(0,0,0)[0] intercept   : AIC=-5539.343, Time=4.35 sec\n",
      " ARIMA(3,1,1)(0,0,0)[0] intercept   : AIC=-5527.627, Time=2.27 sec\n",
      " ARIMA(4,1,2)(0,0,0)[0] intercept   : AIC=-5523.894, Time=7.17 sec\n",
      " ARIMA(3,1,3)(0,0,0)[0] intercept   : AIC=-5523.817, Time=2.59 sec\n",
      " ARIMA(2,1,3)(0,0,0)[0] intercept   : AIC=-5538.857, Time=3.85 sec\n",
      " ARIMA(4,1,1)(0,0,0)[0] intercept   : AIC=-5525.736, Time=1.40 sec\n",
      " ARIMA(4,1,3)(0,0,0)[0] intercept   : AIC=-5522.080, Time=4.10 sec\n",
      " ARIMA(3,1,2)(0,0,0)[0]             : AIC=-5536.062, Time=1.86 sec\n",
      "\n",
      "Best model:  ARIMA(3,1,2)(0,0,0)[0] intercept\n",
      "Total fit time: 39.551 seconds\n"
     ]
    },
    {
     "data": {
      "text/plain": "ARIMA(order=(3, 1, 2), scoring_args={}, suppress_warnings=True)"
     },
     "execution_count": 137,
     "metadata": {},
     "output_type": "execute_result"
    }
   ],
   "source": [
    "# getting the best order with autoarima\n",
    "def arimamodel(series):\n",
    "    auto = pm.auto_arima(series,\n",
    "                         starts_p=1, starts_q=1,\n",
    "                         max_p=8, max_q=8,\n",
    "                         test='adf', seasonal=True,\n",
    "                         trace=True)\n",
    "    return auto\n",
    "\n",
    "arimamodel(hex['Close'])"
   ],
   "metadata": {
    "collapsed": false,
    "pycharm": {
     "name": "#%%\n"
    }
   }
  },
  {
   "cell_type": "code",
   "execution_count": 138,
   "outputs": [
    {
     "name": "stdout",
     "output_type": "stream",
     "text": [
      "                               SARIMAX Results                                \n",
      "==============================================================================\n",
      "Dep. Variable:                  Close   No. Observations:                  878\n",
      "Model:                 ARIMA(3, 1, 2)   Log Likelihood                2774.031\n",
      "Date:                Thu, 12 May 2022   AIC                          -5536.062\n",
      "Time:                        23:10:15   BIC                          -5507.403\n",
      "Sample:                    12-17-2019   HQIC                         -5525.100\n",
      "                         - 05-12-2022                                         \n",
      "Covariance Type:                  opg                                         \n",
      "==============================================================================\n",
      "                 coef    std err          z      P>|z|      [0.025      0.975]\n",
      "------------------------------------------------------------------------------\n",
      "ar.L1         -0.1968      0.118     -1.664      0.096      -0.429       0.035\n",
      "ar.L2         -0.5050      0.100     -5.052      0.000      -0.701      -0.309\n",
      "ar.L3         -0.0326      0.027     -1.209      0.227      -0.085       0.020\n",
      "ma.L1          0.2786      0.118      2.359      0.018       0.047       0.510\n",
      "ma.L2          0.5991      0.101      5.917      0.000       0.401       0.798\n",
      "sigma2         0.0001   2.13e-06     49.128      0.000       0.000       0.000\n",
      "===================================================================================\n",
      "Ljung-Box (L1) (Q):                   0.00   Jarque-Bera (JB):              4038.02\n",
      "Prob(Q):                              0.99   Prob(JB):                         0.00\n",
      "Heteroskedasticity (H):            4022.44   Skew:                             0.94\n",
      "Prob(H) (two-sided):                  0.00   Kurtosis:                        13.34\n",
      "===================================================================================\n",
      "\n",
      "Warnings:\n",
      "[1] Covariance matrix calculated using the outer product of gradients (complex-step).\n"
     ]
    }
   ],
   "source": [
    "# 3,1,2 ARIMA Model\n",
    "model = ARIMA(hex['Close'], order=(3,1,2))\n",
    "result = model.fit()\n",
    "print(result.summary())"
   ],
   "metadata": {
    "collapsed": false,
    "pycharm": {
     "name": "#%%\n"
    }
   }
  },
  {
   "cell_type": "code",
   "execution_count": 139,
   "outputs": [
    {
     "name": "stdout",
     "output_type": "stream",
     "text": [
      "702\n",
      "176\n"
     ]
    }
   ],
   "source": [
    "#train test split\n",
    "n = int(len(hex['Close']) * 0.8)\n",
    "train = hex['Close'][:n]\n",
    "test = hex['Close'][n:]\n",
    "print(len(train))\n",
    "print(len(test))"
   ],
   "metadata": {
    "collapsed": false,
    "pycharm": {
     "name": "#%%\n"
    }
   }
  },
  {
   "cell_type": "code",
   "execution_count": 140,
   "outputs": [
    {
     "data": {
      "text/plain": "2021-11-18    0.200581\n2021-11-19    0.219494\n2021-11-20    0.205034\n2021-11-21    0.209053\n2021-11-22    0.192268\n                ...   \n2022-05-08    0.187638\n2022-05-09    0.173487\n2022-05-10    0.141156\n2022-05-11    0.161159\n2022-05-12    0.136703\nFreq: D, Name: predicted_mean, Length: 176, dtype: float64"
     },
     "execution_count": 140,
     "metadata": {},
     "output_type": "execute_result"
    }
   ],
   "source": [
    "start = len(train)\n",
    "end = len(train) + len(test) - 1\n",
    "predictions = result.predict(start=start, end=end, dynamic=False, type='level')\n",
    "predictions\n",
    "# df = pd.DataFrame({'Actual': test, 'Predicted': predictions})\n",
    "# print(df)"
   ],
   "metadata": {
    "collapsed": false,
    "pycharm": {
     "name": "#%%\n"
    }
   }
  },
  {
   "cell_type": "code",
   "execution_count": 141,
   "outputs": [
    {
     "name": "stdout",
     "output_type": "stream",
     "text": [
      "Mean absolute error:, 0.01\n",
      "Mean squared error:, 0.00\n",
      "Root mean squared error:, 0.01\n",
      "r2 score:0.93\n",
      "Mean absolute percentage error:, 0.05\n"
     ]
    }
   ],
   "source": [
    "#evaluate\n",
    "mae = mean_absolute_error(test, predictions)\n",
    "mse = mean_squared_error(test, predictions)\n",
    "rmse = np.sqrt(mse)\n",
    "r2 = r2_score(test, predictions)\n",
    "#the r2 for the train dataset\n",
    "mape = mean_absolute_percentage_error(test, predictions)\n",
    "\n",
    "#printing the model evaluation values\n",
    "print('Mean absolute error:, {:.2f}'.format(mae))\n",
    "print('Mean squared error:, {:.2f}'.format(mse))\n",
    "print('Root mean squared error:, {:.2f}'.format(rmse))\n",
    "print('r2 score:{:.2f}'.format(r2))\n",
    "print('Mean absolute percentage error:, {:.2f}'.format(mape))"
   ],
   "metadata": {
    "collapsed": false,
    "pycharm": {
     "name": "#%%\n"
    }
   }
  },
  {
   "cell_type": "code",
   "execution_count": 142,
   "outputs": [
    {
     "data": {
      "text/plain": "2022-05-13    0.117016\n2022-05-14    0.116113\n2022-05-15    0.119268\n2022-05-16    0.119271\n2022-05-17    0.117706\n2022-05-18    0.117910\n2022-05-19    0.118660\nFreq: D, Name: predicted_mean, dtype: float64"
     },
     "execution_count": 142,
     "metadata": {},
     "output_type": "execute_result"
    }
   ],
   "source": [
    "#saving model to disk\n",
    "final_model = 'hex_model.sav'\n",
    "joblib.dump(model, final_model)\n",
    "forecast = result.forecast(steps=7, type='level')\n",
    "forecast"
   ],
   "metadata": {
    "collapsed": false,
    "pycharm": {
     "name": "#%%\n"
    }
   }
  },
  {
   "cell_type": "markdown",
   "source": [
    "DOGECOIN"
   ],
   "metadata": {
    "collapsed": false,
    "pycharm": {
     "name": "#%% md\n"
    }
   }
  },
  {
   "cell_type": "code",
   "execution_count": 143,
   "outputs": [
    {
     "data": {
      "text/plain": "                High       Low      Open     Close        Volume  Adj Close  \\\nDate                                                                          \n2017-11-09  0.001415  0.001181  0.001207  0.001415  6.259550e+06   0.001415   \n2017-11-10  0.001431  0.001125  0.001421  0.001163  4.246520e+06   0.001163   \n2017-11-11  0.001257  0.001141  0.001146  0.001201  2.231080e+06   0.001201   \n2017-11-12  0.001210  0.001002  0.001189  0.001038  3.288960e+06   0.001038   \n2017-11-13  0.001212  0.001019  0.001046  0.001211  2.481270e+06   0.001211   \n...              ...       ...       ...       ...           ...        ...   \n2022-05-08  0.128017  0.123974  0.127527  0.124207  7.289532e+08   0.124207   \n2022-05-09  0.125136  0.104824  0.124200  0.104824  1.353326e+09   0.104824   \n2022-05-10  0.117775  0.100881  0.104708  0.108477  1.723066e+09   0.108477   \n2022-05-11  0.110565  0.080036  0.108449  0.084581  2.556008e+09   0.084581   \n2022-05-12  0.088983  0.070037  0.085057  0.082506  2.908601e+09   0.082506   \n\n           symbol      name  \nDate                         \n2017-11-09   DOGE  Dogecoin  \n2017-11-10   DOGE  Dogecoin  \n2017-11-11   DOGE  Dogecoin  \n2017-11-12   DOGE  Dogecoin  \n2017-11-13   DOGE  Dogecoin  \n...           ...       ...  \n2022-05-08   DOGE  Dogecoin  \n2022-05-09   DOGE  Dogecoin  \n2022-05-10   DOGE  Dogecoin  \n2022-05-11   DOGE  Dogecoin  \n2022-05-12   DOGE  Dogecoin  \n\n[1646 rows x 8 columns]",
      "text/html": "<div>\n<style scoped>\n    .dataframe tbody tr th:only-of-type {\n        vertical-align: middle;\n    }\n\n    .dataframe tbody tr th {\n        vertical-align: top;\n    }\n\n    .dataframe thead th {\n        text-align: right;\n    }\n</style>\n<table border=\"1\" class=\"dataframe\">\n  <thead>\n    <tr style=\"text-align: right;\">\n      <th></th>\n      <th>High</th>\n      <th>Low</th>\n      <th>Open</th>\n      <th>Close</th>\n      <th>Volume</th>\n      <th>Adj Close</th>\n      <th>symbol</th>\n      <th>name</th>\n    </tr>\n    <tr>\n      <th>Date</th>\n      <th></th>\n      <th></th>\n      <th></th>\n      <th></th>\n      <th></th>\n      <th></th>\n      <th></th>\n      <th></th>\n    </tr>\n  </thead>\n  <tbody>\n    <tr>\n      <th>2017-11-09</th>\n      <td>0.001415</td>\n      <td>0.001181</td>\n      <td>0.001207</td>\n      <td>0.001415</td>\n      <td>6.259550e+06</td>\n      <td>0.001415</td>\n      <td>DOGE</td>\n      <td>Dogecoin</td>\n    </tr>\n    <tr>\n      <th>2017-11-10</th>\n      <td>0.001431</td>\n      <td>0.001125</td>\n      <td>0.001421</td>\n      <td>0.001163</td>\n      <td>4.246520e+06</td>\n      <td>0.001163</td>\n      <td>DOGE</td>\n      <td>Dogecoin</td>\n    </tr>\n    <tr>\n      <th>2017-11-11</th>\n      <td>0.001257</td>\n      <td>0.001141</td>\n      <td>0.001146</td>\n      <td>0.001201</td>\n      <td>2.231080e+06</td>\n      <td>0.001201</td>\n      <td>DOGE</td>\n      <td>Dogecoin</td>\n    </tr>\n    <tr>\n      <th>2017-11-12</th>\n      <td>0.001210</td>\n      <td>0.001002</td>\n      <td>0.001189</td>\n      <td>0.001038</td>\n      <td>3.288960e+06</td>\n      <td>0.001038</td>\n      <td>DOGE</td>\n      <td>Dogecoin</td>\n    </tr>\n    <tr>\n      <th>2017-11-13</th>\n      <td>0.001212</td>\n      <td>0.001019</td>\n      <td>0.001046</td>\n      <td>0.001211</td>\n      <td>2.481270e+06</td>\n      <td>0.001211</td>\n      <td>DOGE</td>\n      <td>Dogecoin</td>\n    </tr>\n    <tr>\n      <th>...</th>\n      <td>...</td>\n      <td>...</td>\n      <td>...</td>\n      <td>...</td>\n      <td>...</td>\n      <td>...</td>\n      <td>...</td>\n      <td>...</td>\n    </tr>\n    <tr>\n      <th>2022-05-08</th>\n      <td>0.128017</td>\n      <td>0.123974</td>\n      <td>0.127527</td>\n      <td>0.124207</td>\n      <td>7.289532e+08</td>\n      <td>0.124207</td>\n      <td>DOGE</td>\n      <td>Dogecoin</td>\n    </tr>\n    <tr>\n      <th>2022-05-09</th>\n      <td>0.125136</td>\n      <td>0.104824</td>\n      <td>0.124200</td>\n      <td>0.104824</td>\n      <td>1.353326e+09</td>\n      <td>0.104824</td>\n      <td>DOGE</td>\n      <td>Dogecoin</td>\n    </tr>\n    <tr>\n      <th>2022-05-10</th>\n      <td>0.117775</td>\n      <td>0.100881</td>\n      <td>0.104708</td>\n      <td>0.108477</td>\n      <td>1.723066e+09</td>\n      <td>0.108477</td>\n      <td>DOGE</td>\n      <td>Dogecoin</td>\n    </tr>\n    <tr>\n      <th>2022-05-11</th>\n      <td>0.110565</td>\n      <td>0.080036</td>\n      <td>0.108449</td>\n      <td>0.084581</td>\n      <td>2.556008e+09</td>\n      <td>0.084581</td>\n      <td>DOGE</td>\n      <td>Dogecoin</td>\n    </tr>\n    <tr>\n      <th>2022-05-12</th>\n      <td>0.088983</td>\n      <td>0.070037</td>\n      <td>0.085057</td>\n      <td>0.082506</td>\n      <td>2.908601e+09</td>\n      <td>0.082506</td>\n      <td>DOGE</td>\n      <td>Dogecoin</td>\n    </tr>\n  </tbody>\n</table>\n<p>1646 rows × 8 columns</p>\n</div>"
     },
     "execution_count": 143,
     "metadata": {},
     "output_type": "execute_result"
    }
   ],
   "source": [
    "doge = my_data[my_data['symbol'] == 'DOGE']  #Extracting the doge coin data from the dataframe\n",
    "doge = doge.set_index('Date')\n",
    "doge"
   ],
   "metadata": {
    "collapsed": false,
    "pycharm": {
     "name": "#%%\n"
    }
   }
  },
  {
   "cell_type": "code",
   "execution_count": 144,
   "outputs": [
    {
     "name": "stdout",
     "output_type": "stream",
     "text": [
      "Performing stepwise search to minimize aic\n",
      " ARIMA(2,1,2)(0,0,0)[0] intercept   : AIC=-9718.318, Time=3.70 sec\n",
      " ARIMA(0,1,0)(0,0,0)[0] intercept   : AIC=-9667.211, Time=0.77 sec\n",
      " ARIMA(1,1,0)(0,0,0)[0] intercept   : AIC=-9693.272, Time=1.15 sec\n",
      " ARIMA(0,1,1)(0,0,0)[0] intercept   : AIC=-9688.413, Time=0.47 sec\n",
      " ARIMA(0,1,0)(0,0,0)[0]             : AIC=-9669.186, Time=0.20 sec\n",
      " ARIMA(1,1,2)(0,0,0)[0] intercept   : AIC=-9718.153, Time=4.64 sec\n",
      " ARIMA(2,1,1)(0,0,0)[0] intercept   : AIC=-9699.455, Time=3.41 sec\n",
      " ARIMA(3,1,2)(0,0,0)[0] intercept   : AIC=-9756.027, Time=9.98 sec\n",
      " ARIMA(3,1,1)(0,0,0)[0] intercept   : AIC=-9708.768, Time=1.75 sec\n",
      " ARIMA(4,1,2)(0,0,0)[0] intercept   : AIC=-9750.930, Time=10.51 sec\n",
      " ARIMA(3,1,3)(0,0,0)[0] intercept   : AIC=-9780.245, Time=11.30 sec\n",
      " ARIMA(2,1,3)(0,0,0)[0] intercept   : AIC=-9763.789, Time=10.18 sec\n",
      " ARIMA(4,1,3)(0,0,0)[0] intercept   : AIC=-9778.453, Time=11.82 sec\n",
      " ARIMA(3,1,4)(0,0,0)[0] intercept   : AIC=-9780.789, Time=12.87 sec\n",
      " ARIMA(2,1,4)(0,0,0)[0] intercept   : AIC=-9770.258, Time=10.97 sec\n",
      " ARIMA(4,1,4)(0,0,0)[0] intercept   : AIC=-9786.839, Time=13.54 sec\n",
      " ARIMA(5,1,4)(0,0,0)[0] intercept   : AIC=-9880.482, Time=13.93 sec\n",
      " ARIMA(5,1,3)(0,0,0)[0] intercept   : AIC=-9820.681, Time=4.17 sec\n",
      " ARIMA(6,1,4)(0,0,0)[0] intercept   : AIC=-9837.637, Time=18.49 sec\n",
      " ARIMA(5,1,5)(0,0,0)[0] intercept   : AIC=-9856.670, Time=17.90 sec\n",
      " ARIMA(4,1,5)(0,0,0)[0] intercept   : AIC=-9830.230, Time=15.23 sec\n",
      " ARIMA(6,1,3)(0,0,0)[0] intercept   : AIC=-9821.248, Time=15.39 sec\n",
      " ARIMA(6,1,5)(0,0,0)[0] intercept   : AIC=-9834.870, Time=18.05 sec\n",
      " ARIMA(5,1,4)(0,0,0)[0]             : AIC=-9885.765, Time=8.09 sec\n",
      " ARIMA(4,1,4)(0,0,0)[0]             : AIC=-9791.713, Time=6.42 sec\n",
      " ARIMA(5,1,3)(0,0,0)[0]             : AIC=-9822.635, Time=1.69 sec\n",
      " ARIMA(6,1,4)(0,0,0)[0]             : AIC=-9842.675, Time=9.74 sec\n",
      " ARIMA(5,1,5)(0,0,0)[0]             : AIC=-9858.572, Time=9.72 sec\n",
      " ARIMA(4,1,3)(0,0,0)[0]             : AIC=-9781.344, Time=6.42 sec\n",
      " ARIMA(4,1,5)(0,0,0)[0]             : AIC=-9841.762, Time=7.64 sec\n",
      " ARIMA(6,1,3)(0,0,0)[0]             : AIC=-9824.104, Time=5.89 sec\n",
      " ARIMA(6,1,5)(0,0,0)[0]             : AIC=-9835.869, Time=13.80 sec\n",
      "\n",
      "Best model:  ARIMA(5,1,4)(0,0,0)[0]          \n",
      "Total fit time: 279.915 seconds\n"
     ]
    },
    {
     "data": {
      "text/plain": "ARIMA(order=(5, 1, 4), scoring_args={}, suppress_warnings=True,\n      with_intercept=False)"
     },
     "execution_count": 144,
     "metadata": {},
     "output_type": "execute_result"
    }
   ],
   "source": [
    "# getting the best order with autoarima\n",
    "def arimamodel(series):\n",
    "    auto = pm.auto_arima(series,\n",
    "                         starts_p=1, starts_q=1,\n",
    "                         max_p=8, max_q=8,\n",
    "                         test='adf', seasonal=True,\n",
    "                         trace=True)\n",
    "    return auto\n",
    "\n",
    "arimamodel(doge['Close'])"
   ],
   "metadata": {
    "collapsed": false,
    "pycharm": {
     "name": "#%%\n"
    }
   }
  },
  {
   "cell_type": "code",
   "execution_count": 145,
   "outputs": [
    {
     "name": "stdout",
     "output_type": "stream",
     "text": [
      "                               SARIMAX Results                                \n",
      "==============================================================================\n",
      "Dep. Variable:                  Close   No. Observations:                 1646\n",
      "Model:                 ARIMA(5, 1, 4)   Log Likelihood                4952.882\n",
      "Date:                Thu, 12 May 2022   AIC                          -9885.765\n",
      "Time:                        23:18:57   BIC                          -9831.710\n",
      "Sample:                    11-09-2017   HQIC                         -9865.720\n",
      "                         - 05-12-2022                                         \n",
      "Covariance Type:                  opg                                         \n",
      "==============================================================================\n",
      "                 coef    std err          z      P>|z|      [0.025      0.975]\n",
      "------------------------------------------------------------------------------\n",
      "ar.L1          0.1751      0.019      9.009      0.000       0.137       0.213\n",
      "ar.L2         -0.2747      0.022    -12.676      0.000      -0.317      -0.232\n",
      "ar.L3          0.2569      0.018     14.385      0.000       0.222       0.292\n",
      "ar.L4         -0.4527      0.014    -32.719      0.000      -0.480      -0.426\n",
      "ar.L5         -0.3145      0.006    -50.625      0.000      -0.327      -0.302\n",
      "ma.L1         -0.3339      0.021    -16.053      0.000      -0.375      -0.293\n",
      "ma.L2          0.4452      0.024     18.256      0.000       0.397       0.493\n",
      "ma.L3         -0.2474      0.021    -11.912      0.000      -0.288      -0.207\n",
      "ma.L4          0.5651      0.016     34.673      0.000       0.533       0.597\n",
      "sigma2         0.0001   1.03e-06    137.895      0.000       0.000       0.000\n",
      "===================================================================================\n",
      "Ljung-Box (L1) (Q):                   0.28   Jarque-Bera (JB):            309553.48\n",
      "Prob(Q):                              0.60   Prob(JB):                         0.00\n",
      "Heteroskedasticity (H):            1668.40   Skew:                             2.89\n",
      "Prob(H) (two-sided):                  0.00   Kurtosis:                        69.95\n",
      "===================================================================================\n",
      "\n",
      "Warnings:\n",
      "[1] Covariance matrix calculated using the outer product of gradients (complex-step).\n"
     ]
    }
   ],
   "source": [
    "# 5,1,4 ARIMA Model\n",
    "model = ARIMA(doge['Close'], order=(5,1,4))\n",
    "result = model.fit()\n",
    "print(result.summary())"
   ],
   "metadata": {
    "collapsed": false,
    "pycharm": {
     "name": "#%%\n"
    }
   }
  },
  {
   "cell_type": "code",
   "execution_count": 147,
   "outputs": [
    {
     "name": "stdout",
     "output_type": "stream",
     "text": [
      "1316\n",
      "330\n"
     ]
    }
   ],
   "source": [
    "#train test split\n",
    "n = int(len(doge['Close']) * 0.8)\n",
    "train = doge['Close'][:n]\n",
    "test = doge['Close'][n:]\n",
    "print(len(train))\n",
    "print(len(test))"
   ],
   "metadata": {
    "collapsed": false,
    "pycharm": {
     "name": "#%%\n"
    }
   }
  },
  {
   "cell_type": "code",
   "execution_count": 148,
   "outputs": [
    {
     "data": {
      "text/plain": "2021-06-17    0.314051\n2021-06-18    0.309464\n2021-06-19    0.292885\n2021-06-20    0.284609\n2021-06-21    0.283624\n                ...   \n2022-05-08    0.127455\n2022-05-09    0.120334\n2022-05-10    0.108697\n2022-05-11    0.107967\n2022-05-12    0.085747\nFreq: D, Name: predicted_mean, Length: 330, dtype: float64"
     },
     "execution_count": 148,
     "metadata": {},
     "output_type": "execute_result"
    }
   ],
   "source": [
    "start = len(train)\n",
    "end = len(train) + len(test) - 1\n",
    "predictions = result.predict(start=start, end=end, dynamic=False, type='level')\n",
    "predictions\n",
    "# df = pd.DataFrame({'Actual': test, 'Predicted': predictions})\n",
    "# print(df)"
   ],
   "metadata": {
    "collapsed": false,
    "pycharm": {
     "name": "#%%\n"
    }
   }
  },
  {
   "cell_type": "code",
   "execution_count": 149,
   "outputs": [
    {
     "name": "stdout",
     "output_type": "stream",
     "text": [
      "Mean absolute error:, 0.01\n",
      "Mean squared error:, 0.00\n",
      "Root mean squared error:, 0.01\n",
      "r2 score:0.94\n",
      "Mean absolute percentage error:, 0.04\n"
     ]
    }
   ],
   "source": [
    "#evaluate\n",
    "mae = mean_absolute_error(test, predictions)\n",
    "mse = mean_squared_error(test, predictions)\n",
    "rmse = np.sqrt(mse)\n",
    "r2 = r2_score(test, predictions)\n",
    "#the r2 for the train dataset\n",
    "mape = mean_absolute_percentage_error(test, predictions)\n",
    "\n",
    "#printing the model evaluation values\n",
    "print('Mean absolute error:, {:.2f}'.format(mae))\n",
    "print('Mean squared error:, {:.2f}'.format(mse))\n",
    "print('Root mean squared error:, {:.2f}'.format(rmse))\n",
    "print('r2 score:{:.2f}'.format(r2))\n",
    "print('Mean absolute percentage error:, {:.2f}'.format(mape))"
   ],
   "metadata": {
    "collapsed": false,
    "pycharm": {
     "name": "#%%\n"
    }
   }
  },
  {
   "cell_type": "code",
   "execution_count": 150,
   "outputs": [
    {
     "data": {
      "text/plain": "2022-05-13    0.081427\n2022-05-14    0.084329\n2022-05-15    0.081856\n2022-05-16    0.086972\n2022-05-17    0.090433\n2022-05-18    0.088024\n2022-05-19    0.088173\nFreq: D, Name: predicted_mean, dtype: float64"
     },
     "execution_count": 150,
     "metadata": {},
     "output_type": "execute_result"
    }
   ],
   "source": [
    "#saving model to disk\n",
    "final_model = 'doge_model.sav'\n",
    "joblib.dump(model, final_model)\n",
    "forecast = result.forecast(steps=7, type='level')\n",
    "forecast"
   ],
   "metadata": {
    "collapsed": false,
    "pycharm": {
     "name": "#%%\n"
    }
   }
  },
  {
   "cell_type": "markdown",
   "source": [
    "POLKADOT"
   ],
   "metadata": {
    "collapsed": false,
    "pycharm": {
     "name": "#%% md\n"
    }
   }
  },
  {
   "cell_type": "code",
   "execution_count": 151,
   "outputs": [
    {
     "data": {
      "text/plain": "                 High        Low       Open      Close        Volume  \\\nDate                                                                   \n2020-08-20   3.077784   2.692896   2.787857   2.900080  4.881987e+07   \n2020-08-21   3.090093   2.730919   2.896923   2.875028  4.931314e+07   \n2020-08-22   4.510613   2.816762   2.878570   4.484690  4.858011e+08   \n2020-08-23   4.487058   3.716271   4.487058   3.967066  3.207495e+08   \n2020-08-24   4.783158   3.812670   3.987413   4.602614  4.076902e+08   \n...               ...        ...        ...        ...           ...   \n2022-05-07  14.352659  13.476185  14.313728  13.775654  5.939830e+08   \n2022-05-08  13.825541  13.087564  13.774422  13.254074  7.586109e+08   \n2022-05-09  13.464955  10.767036  13.257022  10.767036  1.529550e+09   \n2022-05-10  12.333800  10.449965  10.768371  11.358492  1.771557e+09   \n2022-05-12   9.428121   7.323471   9.058269   9.068801  2.292329e+09   \n\n            Adj Close symbol      name  \nDate                                    \n2020-08-20   2.900080    DOT  Polkadot  \n2020-08-21   2.875028    DOT  Polkadot  \n2020-08-22   4.484690    DOT  Polkadot  \n2020-08-23   3.967066    DOT  Polkadot  \n2020-08-24   4.602614    DOT  Polkadot  \n...               ...    ...       ...  \n2022-05-07  13.775654    DOT  Polkadot  \n2022-05-08  13.254074    DOT  Polkadot  \n2022-05-09  10.767036    DOT  Polkadot  \n2022-05-10  11.358492    DOT  Polkadot  \n2022-05-12   9.068801    DOT  Polkadot  \n\n[555 rows x 8 columns]",
      "text/html": "<div>\n<style scoped>\n    .dataframe tbody tr th:only-of-type {\n        vertical-align: middle;\n    }\n\n    .dataframe tbody tr th {\n        vertical-align: top;\n    }\n\n    .dataframe thead th {\n        text-align: right;\n    }\n</style>\n<table border=\"1\" class=\"dataframe\">\n  <thead>\n    <tr style=\"text-align: right;\">\n      <th></th>\n      <th>High</th>\n      <th>Low</th>\n      <th>Open</th>\n      <th>Close</th>\n      <th>Volume</th>\n      <th>Adj Close</th>\n      <th>symbol</th>\n      <th>name</th>\n    </tr>\n    <tr>\n      <th>Date</th>\n      <th></th>\n      <th></th>\n      <th></th>\n      <th></th>\n      <th></th>\n      <th></th>\n      <th></th>\n      <th></th>\n    </tr>\n  </thead>\n  <tbody>\n    <tr>\n      <th>2020-08-20</th>\n      <td>3.077784</td>\n      <td>2.692896</td>\n      <td>2.787857</td>\n      <td>2.900080</td>\n      <td>4.881987e+07</td>\n      <td>2.900080</td>\n      <td>DOT</td>\n      <td>Polkadot</td>\n    </tr>\n    <tr>\n      <th>2020-08-21</th>\n      <td>3.090093</td>\n      <td>2.730919</td>\n      <td>2.896923</td>\n      <td>2.875028</td>\n      <td>4.931314e+07</td>\n      <td>2.875028</td>\n      <td>DOT</td>\n      <td>Polkadot</td>\n    </tr>\n    <tr>\n      <th>2020-08-22</th>\n      <td>4.510613</td>\n      <td>2.816762</td>\n      <td>2.878570</td>\n      <td>4.484690</td>\n      <td>4.858011e+08</td>\n      <td>4.484690</td>\n      <td>DOT</td>\n      <td>Polkadot</td>\n    </tr>\n    <tr>\n      <th>2020-08-23</th>\n      <td>4.487058</td>\n      <td>3.716271</td>\n      <td>4.487058</td>\n      <td>3.967066</td>\n      <td>3.207495e+08</td>\n      <td>3.967066</td>\n      <td>DOT</td>\n      <td>Polkadot</td>\n    </tr>\n    <tr>\n      <th>2020-08-24</th>\n      <td>4.783158</td>\n      <td>3.812670</td>\n      <td>3.987413</td>\n      <td>4.602614</td>\n      <td>4.076902e+08</td>\n      <td>4.602614</td>\n      <td>DOT</td>\n      <td>Polkadot</td>\n    </tr>\n    <tr>\n      <th>...</th>\n      <td>...</td>\n      <td>...</td>\n      <td>...</td>\n      <td>...</td>\n      <td>...</td>\n      <td>...</td>\n      <td>...</td>\n      <td>...</td>\n    </tr>\n    <tr>\n      <th>2022-05-07</th>\n      <td>14.352659</td>\n      <td>13.476185</td>\n      <td>14.313728</td>\n      <td>13.775654</td>\n      <td>5.939830e+08</td>\n      <td>13.775654</td>\n      <td>DOT</td>\n      <td>Polkadot</td>\n    </tr>\n    <tr>\n      <th>2022-05-08</th>\n      <td>13.825541</td>\n      <td>13.087564</td>\n      <td>13.774422</td>\n      <td>13.254074</td>\n      <td>7.586109e+08</td>\n      <td>13.254074</td>\n      <td>DOT</td>\n      <td>Polkadot</td>\n    </tr>\n    <tr>\n      <th>2022-05-09</th>\n      <td>13.464955</td>\n      <td>10.767036</td>\n      <td>13.257022</td>\n      <td>10.767036</td>\n      <td>1.529550e+09</td>\n      <td>10.767036</td>\n      <td>DOT</td>\n      <td>Polkadot</td>\n    </tr>\n    <tr>\n      <th>2022-05-10</th>\n      <td>12.333800</td>\n      <td>10.449965</td>\n      <td>10.768371</td>\n      <td>11.358492</td>\n      <td>1.771557e+09</td>\n      <td>11.358492</td>\n      <td>DOT</td>\n      <td>Polkadot</td>\n    </tr>\n    <tr>\n      <th>2022-05-12</th>\n      <td>9.428121</td>\n      <td>7.323471</td>\n      <td>9.058269</td>\n      <td>9.068801</td>\n      <td>2.292329e+09</td>\n      <td>9.068801</td>\n      <td>DOT</td>\n      <td>Polkadot</td>\n    </tr>\n  </tbody>\n</table>\n<p>555 rows × 8 columns</p>\n</div>"
     },
     "execution_count": 151,
     "metadata": {},
     "output_type": "execute_result"
    }
   ],
   "source": [
    "dot = my_data[my_data['symbol'] == 'DOT']  #Extracting the dot coin data from the dataframe\n",
    "dot = dot.set_index('Date')\n",
    "dot"
   ],
   "metadata": {
    "collapsed": false,
    "pycharm": {
     "name": "#%%\n"
    }
   }
  },
  {
   "cell_type": "code",
   "execution_count": 152,
   "outputs": [
    {
     "name": "stdout",
     "output_type": "stream",
     "text": [
      "Performing stepwise search to minimize aic\n",
      " ARIMA(2,1,2)(0,0,0)[0] intercept   : AIC=2240.237, Time=1.67 sec\n",
      " ARIMA(0,1,0)(0,0,0)[0] intercept   : AIC=2239.427, Time=0.15 sec\n",
      " ARIMA(1,1,0)(0,0,0)[0] intercept   : AIC=2238.762, Time=0.32 sec\n",
      " ARIMA(0,1,1)(0,0,0)[0] intercept   : AIC=2238.912, Time=0.27 sec\n",
      " ARIMA(0,1,0)(0,0,0)[0]             : AIC=2237.448, Time=0.05 sec\n",
      " ARIMA(1,1,1)(0,0,0)[0] intercept   : AIC=2236.318, Time=0.42 sec\n",
      " ARIMA(2,1,1)(0,0,0)[0] intercept   : AIC=2238.291, Time=0.53 sec\n",
      " ARIMA(1,1,2)(0,0,0)[0] intercept   : AIC=2242.288, Time=1.19 sec\n",
      " ARIMA(0,1,2)(0,0,0)[0] intercept   : AIC=2240.386, Time=0.20 sec\n",
      " ARIMA(2,1,0)(0,0,0)[0] intercept   : AIC=2240.340, Time=0.12 sec\n",
      " ARIMA(1,1,1)(0,0,0)[0]             : AIC=2234.342, Time=0.14 sec\n",
      " ARIMA(0,1,1)(0,0,0)[0]             : AIC=2236.937, Time=0.05 sec\n",
      " ARIMA(1,1,0)(0,0,0)[0]             : AIC=2236.787, Time=0.04 sec\n",
      " ARIMA(2,1,1)(0,0,0)[0]             : AIC=2236.315, Time=0.26 sec\n",
      " ARIMA(1,1,2)(0,0,0)[0]             : AIC=2240.311, Time=0.49 sec\n",
      " ARIMA(0,1,2)(0,0,0)[0]             : AIC=2238.410, Time=0.27 sec\n",
      " ARIMA(2,1,0)(0,0,0)[0]             : AIC=2238.363, Time=0.17 sec\n",
      " ARIMA(2,1,2)(0,0,0)[0]             : AIC=2238.263, Time=1.81 sec\n",
      "\n",
      "Best model:  ARIMA(1,1,1)(0,0,0)[0]          \n",
      "Total fit time: 8.315 seconds\n"
     ]
    },
    {
     "data": {
      "text/plain": "ARIMA(order=(1, 1, 1), scoring_args={}, suppress_warnings=True,\n      with_intercept=False)"
     },
     "execution_count": 152,
     "metadata": {},
     "output_type": "execute_result"
    }
   ],
   "source": [
    "# getting the best order with autoarima\n",
    "def arimamodel(series):\n",
    "    auto = pm.auto_arima(series,\n",
    "                         starts_p=1, starts_q=1,\n",
    "                         max_p=8, max_q=8,\n",
    "                         test='adf', seasonal=True,\n",
    "                         trace=True)\n",
    "    return auto\n",
    "\n",
    "arimamodel(dot['Close'])"
   ],
   "metadata": {
    "collapsed": false,
    "pycharm": {
     "name": "#%%\n"
    }
   }
  },
  {
   "cell_type": "code",
   "execution_count": 153,
   "outputs": [
    {
     "name": "stdout",
     "output_type": "stream",
     "text": [
      "                               SARIMAX Results                                \n",
      "==============================================================================\n",
      "Dep. Variable:                  Close   No. Observations:                  555\n",
      "Model:                 ARIMA(1, 1, 1)   Log Likelihood               -1114.171\n",
      "Date:                Thu, 12 May 2022   AIC                           2234.342\n",
      "Time:                        23:21:53   BIC                           2247.294\n",
      "Sample:                             0   HQIC                          2239.402\n",
      "                                - 555                                         \n",
      "Covariance Type:                  opg                                         \n",
      "==============================================================================\n",
      "                 coef    std err          z      P>|z|      [0.025      0.975]\n",
      "------------------------------------------------------------------------------\n",
      "ar.L1         -0.8247      0.111     -7.442      0.000      -1.042      -0.607\n",
      "ma.L1          0.7602      0.124      6.127      0.000       0.517       1.003\n",
      "sigma2         3.2685      0.084     38.809      0.000       3.103       3.434\n",
      "===================================================================================\n",
      "Ljung-Box (L1) (Q):                   0.01   Jarque-Bera (JB):              2664.08\n",
      "Prob(Q):                              0.90   Prob(JB):                         0.00\n",
      "Heteroskedasticity (H):               4.13   Skew:                            -0.79\n",
      "Prob(H) (two-sided):                  0.00   Kurtosis:                        13.63\n",
      "===================================================================================\n",
      "\n",
      "Warnings:\n",
      "[1] Covariance matrix calculated using the outer product of gradients (complex-step).\n"
     ]
    }
   ],
   "source": [
    "# 1,1,1 ARIMA Model\n",
    "model = ARIMA(dot['Close'], order=(1,1,1))\n",
    "result = model.fit()\n",
    "print(result.summary())"
   ],
   "metadata": {
    "collapsed": false,
    "pycharm": {
     "name": "#%%\n"
    }
   }
  },
  {
   "cell_type": "code",
   "execution_count": 154,
   "outputs": [
    {
     "name": "stdout",
     "output_type": "stream",
     "text": [
      "444\n",
      "111\n"
     ]
    }
   ],
   "source": [
    "#train test split\n",
    "n = int(len(dot['Close']) * 0.8)\n",
    "train = dot['Close'][:n]\n",
    "test = dot['Close'][n:]\n",
    "print(len(train))\n",
    "print(len(test))"
   ],
   "metadata": {
    "collapsed": false,
    "pycharm": {
     "name": "#%%\n"
    }
   }
  },
  {
   "cell_type": "code",
   "execution_count": 155,
   "outputs": [
    {
     "data": {
      "text/plain": "Date\n2021-11-07    52.014420\n2021-11-08    52.256699\n2021-11-09    53.295628\n2021-11-10    50.985140\n2021-11-11    46.966823\n                ...    \n2022-05-07    14.192937\n2022-05-08    13.901652\n2022-05-09    13.191911\n2022-05-10    10.974621\n2022-05-12    11.162553\nName: predicted_mean, Length: 111, dtype: float64"
     },
     "execution_count": 155,
     "metadata": {},
     "output_type": "execute_result"
    }
   ],
   "source": [
    "start = len(train)\n",
    "end = len(train) + len(test) - 1\n",
    "predictions = result.predict(start=start, end=end, dynamic=False, type='level')\n",
    "predictions\n",
    "# df = pd.DataFrame({'Actual': test, 'Predicted': predictions})\n",
    "# print(df)"
   ],
   "metadata": {
    "collapsed": false,
    "pycharm": {
     "name": "#%%\n"
    }
   }
  },
  {
   "cell_type": "code",
   "execution_count": 156,
   "outputs": [
    {
     "name": "stdout",
     "output_type": "stream",
     "text": [
      "Mean absolute error:, 1.27\n",
      "Mean squared error:, 2.70\n",
      "Root mean squared error:, 1.64\n",
      "r2 score:0.97\n",
      "Mean absolute percentage error:, 0.05\n"
     ]
    }
   ],
   "source": [
    "mae = mean_absolute_error(test, predictions)\n",
    "mse = mean_squared_error(test, predictions)\n",
    "rmse = np.sqrt(mse)\n",
    "r2 = r2_score(test, predictions)\n",
    "#the r2 for the train dataset\n",
    "mape = mean_absolute_percentage_error(test, predictions)\n",
    "\n",
    "#printing the model evaluation values\n",
    "print('Mean absolute error:, {:.2f}'.format(mae))\n",
    "print('Mean squared error:, {:.2f}'.format(mse))\n",
    "print('Root mean squared error:, {:.2f}'.format(rmse))\n",
    "print('r2 score:{:.2f}'.format(r2))\n",
    "print('Mean absolute percentage error:, {:.2f}'.format(mape))"
   ],
   "metadata": {
    "collapsed": false,
    "pycharm": {
     "name": "#%%\n"
    }
   }
  },
  {
   "cell_type": "code",
   "execution_count": 157,
   "outputs": [
    {
     "data": {
      "text/plain": "555    9.365362\n556    9.120791\n557    9.322486\n558    9.156151\n559    9.293326\n560    9.180199\n561    9.273494\nName: predicted_mean, dtype: float64"
     },
     "execution_count": 157,
     "metadata": {},
     "output_type": "execute_result"
    }
   ],
   "source": [
    "#saving model to disk\n",
    "final_model = 'dot_model.sav'\n",
    "joblib.dump(model, final_model)\n",
    "forecast = result.forecast(steps=7, type='level')\n",
    "forecast"
   ],
   "metadata": {
    "collapsed": false,
    "pycharm": {
     "name": "#%%\n"
    }
   }
  },
  {
   "cell_type": "markdown",
   "source": [
    "TERRAUSD"
   ],
   "metadata": {
    "collapsed": false,
    "pycharm": {
     "name": "#%% md\n"
    }
   }
  },
  {
   "cell_type": "code",
   "execution_count": 159,
   "outputs": [
    {
     "data": {
      "text/plain": "                High       Low      Open     Close        Volume  Adj Close  \\\nDate                                                                          \n2020-11-25  1.010752  0.993542  1.010488  0.999572  3.758727e+06   0.999572   \n2020-11-26  1.022774  0.982691  0.999360  1.000441  1.621037e+07   1.000441   \n2020-11-27  1.003605  0.994698  1.000106  0.999515  4.086973e+06   0.999515   \n2020-11-28  1.004033  0.995601  0.999476  0.999325  3.721757e+06   0.999325   \n2020-11-29  1.001828  0.997059  0.999246  0.999641  8.569530e+05   0.999641   \n...              ...       ...       ...       ...           ...        ...   \n2022-05-08  0.999651  0.990503  0.996907  0.996401  2.025913e+09   0.996401   \n2022-05-09  0.999014  0.793393  0.995427  0.793393  2.809971e+09   0.793393   \n2022-05-10  0.948554  0.684081  0.805948  0.799919  4.905955e+09   0.799919   \n2022-05-11  0.847420  0.299838  0.799372  0.801137  7.679819e+09   0.801137   \n2022-05-12  0.827783  0.452542  0.801058  0.456105  5.748711e+09   0.456105   \n\n           symbol      name  \nDate                         \n2020-11-25    UST  TerraUSD  \n2020-11-26    UST  TerraUSD  \n2020-11-27    UST  TerraUSD  \n2020-11-28    UST  TerraUSD  \n2020-11-29    UST  TerraUSD  \n...           ...       ...  \n2022-05-08    UST  TerraUSD  \n2022-05-09    UST  TerraUSD  \n2022-05-10    UST  TerraUSD  \n2022-05-11    UST  TerraUSD  \n2022-05-12    UST  TerraUSD  \n\n[534 rows x 8 columns]",
      "text/html": "<div>\n<style scoped>\n    .dataframe tbody tr th:only-of-type {\n        vertical-align: middle;\n    }\n\n    .dataframe tbody tr th {\n        vertical-align: top;\n    }\n\n    .dataframe thead th {\n        text-align: right;\n    }\n</style>\n<table border=\"1\" class=\"dataframe\">\n  <thead>\n    <tr style=\"text-align: right;\">\n      <th></th>\n      <th>High</th>\n      <th>Low</th>\n      <th>Open</th>\n      <th>Close</th>\n      <th>Volume</th>\n      <th>Adj Close</th>\n      <th>symbol</th>\n      <th>name</th>\n    </tr>\n    <tr>\n      <th>Date</th>\n      <th></th>\n      <th></th>\n      <th></th>\n      <th></th>\n      <th></th>\n      <th></th>\n      <th></th>\n      <th></th>\n    </tr>\n  </thead>\n  <tbody>\n    <tr>\n      <th>2020-11-25</th>\n      <td>1.010752</td>\n      <td>0.993542</td>\n      <td>1.010488</td>\n      <td>0.999572</td>\n      <td>3.758727e+06</td>\n      <td>0.999572</td>\n      <td>UST</td>\n      <td>TerraUSD</td>\n    </tr>\n    <tr>\n      <th>2020-11-26</th>\n      <td>1.022774</td>\n      <td>0.982691</td>\n      <td>0.999360</td>\n      <td>1.000441</td>\n      <td>1.621037e+07</td>\n      <td>1.000441</td>\n      <td>UST</td>\n      <td>TerraUSD</td>\n    </tr>\n    <tr>\n      <th>2020-11-27</th>\n      <td>1.003605</td>\n      <td>0.994698</td>\n      <td>1.000106</td>\n      <td>0.999515</td>\n      <td>4.086973e+06</td>\n      <td>0.999515</td>\n      <td>UST</td>\n      <td>TerraUSD</td>\n    </tr>\n    <tr>\n      <th>2020-11-28</th>\n      <td>1.004033</td>\n      <td>0.995601</td>\n      <td>0.999476</td>\n      <td>0.999325</td>\n      <td>3.721757e+06</td>\n      <td>0.999325</td>\n      <td>UST</td>\n      <td>TerraUSD</td>\n    </tr>\n    <tr>\n      <th>2020-11-29</th>\n      <td>1.001828</td>\n      <td>0.997059</td>\n      <td>0.999246</td>\n      <td>0.999641</td>\n      <td>8.569530e+05</td>\n      <td>0.999641</td>\n      <td>UST</td>\n      <td>TerraUSD</td>\n    </tr>\n    <tr>\n      <th>...</th>\n      <td>...</td>\n      <td>...</td>\n      <td>...</td>\n      <td>...</td>\n      <td>...</td>\n      <td>...</td>\n      <td>...</td>\n      <td>...</td>\n    </tr>\n    <tr>\n      <th>2022-05-08</th>\n      <td>0.999651</td>\n      <td>0.990503</td>\n      <td>0.996907</td>\n      <td>0.996401</td>\n      <td>2.025913e+09</td>\n      <td>0.996401</td>\n      <td>UST</td>\n      <td>TerraUSD</td>\n    </tr>\n    <tr>\n      <th>2022-05-09</th>\n      <td>0.999014</td>\n      <td>0.793393</td>\n      <td>0.995427</td>\n      <td>0.793393</td>\n      <td>2.809971e+09</td>\n      <td>0.793393</td>\n      <td>UST</td>\n      <td>TerraUSD</td>\n    </tr>\n    <tr>\n      <th>2022-05-10</th>\n      <td>0.948554</td>\n      <td>0.684081</td>\n      <td>0.805948</td>\n      <td>0.799919</td>\n      <td>4.905955e+09</td>\n      <td>0.799919</td>\n      <td>UST</td>\n      <td>TerraUSD</td>\n    </tr>\n    <tr>\n      <th>2022-05-11</th>\n      <td>0.847420</td>\n      <td>0.299838</td>\n      <td>0.799372</td>\n      <td>0.801137</td>\n      <td>7.679819e+09</td>\n      <td>0.801137</td>\n      <td>UST</td>\n      <td>TerraUSD</td>\n    </tr>\n    <tr>\n      <th>2022-05-12</th>\n      <td>0.827783</td>\n      <td>0.452542</td>\n      <td>0.801058</td>\n      <td>0.456105</td>\n      <td>5.748711e+09</td>\n      <td>0.456105</td>\n      <td>UST</td>\n      <td>TerraUSD</td>\n    </tr>\n  </tbody>\n</table>\n<p>534 rows × 8 columns</p>\n</div>"
     },
     "execution_count": 159,
     "metadata": {},
     "output_type": "execute_result"
    }
   ],
   "source": [
    "ust = my_data[my_data['symbol'] == 'UST']  #Extracting the terrausd coin data from the dataframe\n",
    "ust = ust.set_index('Date')\n",
    "ust"
   ],
   "metadata": {
    "collapsed": false,
    "pycharm": {
     "name": "#%%\n"
    }
   }
  },
  {
   "cell_type": "code",
   "execution_count": 160,
   "outputs": [
    {
     "name": "stdout",
     "output_type": "stream",
     "text": [
      "Performing stepwise search to minimize aic\n",
      " ARIMA(2,2,2)(0,0,0)[0]             : AIC=-2859.012, Time=2.31 sec\n",
      " ARIMA(0,2,0)(0,0,0)[0]             : AIC=-2383.161, Time=0.12 sec\n",
      " ARIMA(1,2,0)(0,0,0)[0]             : AIC=-2524.380, Time=0.21 sec\n",
      " ARIMA(0,2,1)(0,0,0)[0]             : AIC=-2665.463, Time=0.33 sec\n",
      " ARIMA(1,2,2)(0,0,0)[0]             : AIC=-2800.792, Time=2.29 sec\n",
      " ARIMA(2,2,1)(0,0,0)[0]             : AIC=-2857.835, Time=0.53 sec\n",
      " ARIMA(3,2,2)(0,0,0)[0]             : AIC=-2856.856, Time=3.34 sec\n",
      " ARIMA(2,2,3)(0,0,0)[0]             : AIC=-2857.646, Time=1.22 sec\n",
      " ARIMA(1,2,1)(0,0,0)[0]             : AIC=-2718.917, Time=0.49 sec\n",
      " ARIMA(1,2,3)(0,0,0)[0]             : AIC=-2813.841, Time=1.47 sec\n",
      " ARIMA(3,2,1)(0,0,0)[0]             : AIC=-2857.955, Time=1.16 sec\n",
      " ARIMA(3,2,3)(0,0,0)[0]             : AIC=-2854.947, Time=0.31 sec\n",
      " ARIMA(2,2,2)(0,0,0)[0] intercept   : AIC=-2858.196, Time=0.70 sec\n",
      "\n",
      "Best model:  ARIMA(2,2,2)(0,0,0)[0]          \n",
      "Total fit time: 14.526 seconds\n"
     ]
    },
    {
     "data": {
      "text/plain": "ARIMA(order=(2, 2, 2), scoring_args={}, suppress_warnings=True,\n      with_intercept=False)"
     },
     "execution_count": 160,
     "metadata": {},
     "output_type": "execute_result"
    }
   ],
   "source": [
    "# getting the best order with autoarima\n",
    "def arimamodel(series):\n",
    "    auto = pm.auto_arima(series,\n",
    "                         starts_p=1, starts_q=1,\n",
    "                         max_p=8, max_q=8,\n",
    "                         test='adf', seasonal=True,\n",
    "                         trace=True)\n",
    "    return auto\n",
    "\n",
    "arimamodel(ust['Close'])"
   ],
   "metadata": {
    "collapsed": false,
    "pycharm": {
     "name": "#%%\n"
    }
   }
  },
  {
   "cell_type": "code",
   "execution_count": 178,
   "outputs": [
    {
     "name": "stdout",
     "output_type": "stream",
     "text": [
      "                               SARIMAX Results                                \n",
      "==============================================================================\n",
      "Dep. Variable:                  Close   No. Observations:                  555\n",
      "Model:                 ARIMA(3, 1, 2)   Log Likelihood               -1114.034\n",
      "Date:                Thu, 12 May 2022   AIC                           2240.069\n",
      "Time:                        23:30:17   BIC                           2265.972\n",
      "Sample:                             0   HQIC                          2250.188\n",
      "                                - 555                                         \n",
      "Covariance Type:                  opg                                         \n",
      "==============================================================================\n",
      "                 coef    std err          z      P>|z|      [0.025      0.975]\n",
      "------------------------------------------------------------------------------\n",
      "ar.L1         -0.0626      0.793     -0.079      0.937      -1.617       1.492\n",
      "ar.L2          0.5925      0.724      0.819      0.413      -0.826       2.011\n",
      "ar.L3         -0.0211      0.047     -0.451      0.652      -0.113       0.071\n",
      "ma.L1          0.0030      0.790      0.004      0.997      -1.546       1.552\n",
      "ma.L2         -0.5513      0.674     -0.818      0.413      -1.872       0.770\n",
      "sigma2         3.2669      0.090     36.355      0.000       3.091       3.443\n",
      "===================================================================================\n",
      "Ljung-Box (L1) (Q):                   0.00   Jarque-Bera (JB):              2672.39\n",
      "Prob(Q):                              0.99   Prob(JB):                         0.00\n",
      "Heteroskedasticity (H):               4.07   Skew:                            -0.80\n",
      "Prob(H) (two-sided):                  0.00   Kurtosis:                        13.64\n",
      "===================================================================================\n",
      "\n",
      "Warnings:\n",
      "[1] Covariance matrix calculated using the outer product of gradients (complex-step).\n"
     ]
    }
   ],
   "source": [
    "# 1,2,2 ARIMA Model\n",
    "model = ARIMA(dot['Close'], order=(3,1,2))\n",
    "result = model.fit()\n",
    "print(result.summary())"
   ],
   "metadata": {
    "collapsed": false,
    "pycharm": {
     "name": "#%%\n"
    }
   }
  },
  {
   "cell_type": "code",
   "execution_count": 179,
   "outputs": [
    {
     "name": "stdout",
     "output_type": "stream",
     "text": [
      "427\n",
      "107\n"
     ]
    }
   ],
   "source": [
    "#train test split\n",
    "n = int(len(ust['Close']) * 0.8)\n",
    "train = ust['Close'][:n]\n",
    "test = ust['Close'][n:]\n",
    "print(len(train))\n",
    "print(len(test))"
   ],
   "metadata": {
    "collapsed": false,
    "pycharm": {
     "name": "#%%\n"
    }
   }
  },
  {
   "cell_type": "code",
   "execution_count": 180,
   "outputs": [
    {
     "data": {
      "text/plain": "Date\n2021-10-21    44.378212\n2021-10-22    42.883942\n2021-10-23    43.305177\n2021-10-24    44.091837\n2021-10-25    42.417122\n                ...    \n2022-03-08    16.277360\n2022-03-09    17.084297\n2022-03-14    17.760007\n2022-03-15    17.805020\n2022-03-16    17.735620\nName: predicted_mean, Length: 107, dtype: float64"
     },
     "execution_count": 180,
     "metadata": {},
     "output_type": "execute_result"
    }
   ],
   "source": [
    "start = len(train)\n",
    "end = len(train) + len(test) - 1\n",
    "predictions = result.predict(start=start, end=end, dynamic=False, type='level')\n",
    "predictions\n",
    "# df = pd.DataFrame({'Actual': test, 'Predicted': predictions})\n",
    "# print(df)"
   ],
   "metadata": {
    "collapsed": false,
    "pycharm": {
     "name": "#%%\n"
    }
   }
  },
  {
   "cell_type": "code",
   "execution_count": 165,
   "outputs": [
    {
     "name": "stdout",
     "output_type": "stream",
     "text": [
      "Mean absolute error:, 31.43\n",
      "Mean squared error:, 1104.23\n",
      "Root mean squared error:, 33.23\n",
      "r2 score:-288548.72\n",
      "Mean absolute percentage error:, 31.69\n"
     ]
    }
   ],
   "source": [
    "#evaluate\n",
    "mae = mean_absolute_error(test, predictions)\n",
    "mse = mean_squared_error(test, predictions)\n",
    "rmse = np.sqrt(mse)\n",
    "r2 = r2_score(test, predictions)\n",
    "#the r2 for the train dataset\n",
    "mape = mean_absolute_percentage_error(test, predictions)\n",
    "\n",
    "#printing the model evaluation values\n",
    "print('Mean absolute error:, {:.2f}'.format(mae))\n",
    "print('Mean squared error:, {:.2f}'.format(mse))\n",
    "print('Root mean squared error:, {:.2f}'.format(rmse))\n",
    "print('r2 score:{:.2f}'.format(r2))\n",
    "print('Mean absolute percentage error:, {:.2f}'.format(mape))"
   ],
   "metadata": {
    "collapsed": false,
    "pycharm": {
     "name": "#%%\n"
    }
   }
  },
  {
   "cell_type": "code",
   "execution_count": 181,
   "outputs": [
    {
     "data": {
      "text/plain": "555    9.405157\n556    9.191180\n557    9.452221\n558    9.302008\n559    9.470584\n560    9.365526\n561    9.475147\nName: predicted_mean, dtype: float64"
     },
     "execution_count": 181,
     "metadata": {},
     "output_type": "execute_result"
    }
   ],
   "source": [
    "#saving model to disk\n",
    "final_model = 'ust_model.sav'\n",
    "joblib.dump(model, final_model)\n",
    "forecast = result.forecast(steps=7, type='level')\n",
    "forecast"
   ],
   "metadata": {
    "collapsed": false,
    "pycharm": {
     "name": "#%%\n"
    }
   }
  },
  {
   "cell_type": "markdown",
   "source": [
    "BINANCEUSD"
   ],
   "metadata": {
    "collapsed": false,
    "pycharm": {
     "name": "#%% md\n"
    }
   }
  },
  {
   "cell_type": "code",
   "execution_count": 182,
   "outputs": [
    {
     "data": {
      "text/plain": "                High       Low      Open     Close        Volume  Adj Close  \\\nDate                                                                          \n2019-09-20  1.006965  0.998945  1.001393  1.001464  2.559360e+05   1.001464   \n2019-09-21  1.007052  1.000069  1.001320  1.001984  1.728540e+05   1.001984   \n2019-09-22  1.007011  0.998558  1.002346  1.003114  1.505900e+05   1.003114   \n2019-09-23  1.012758  0.999545  1.003591  1.002431  1.532224e+06   1.002431   \n2019-09-24  1.059820  0.994858  1.002344  1.007416  4.110761e+06   1.007416   \n...              ...       ...       ...       ...           ...        ...   \n2022-05-08  1.001930  0.997955  0.999736  1.000291  1.045222e+10   1.000291   \n2022-05-09  1.002361  0.997820  1.000246  1.000854  8.100177e+09   1.000854   \n2022-05-10  1.002232  0.998038  1.000819  0.999719  8.730362e+09   0.999719   \n2022-05-11  1.004694  0.998226  0.999599  1.002981  1.558962e+10   1.002981   \n2022-05-12  1.024690  1.000930  1.004014  1.003347  2.023618e+10   1.003347   \n\n           symbol         name  \nDate                            \n2019-09-20   BUSD  Binance USD  \n2019-09-21   BUSD  Binance USD  \n2019-09-22   BUSD  Binance USD  \n2019-09-23   BUSD  Binance USD  \n2019-09-24   BUSD  Binance USD  \n...           ...          ...  \n2022-05-08   BUSD  Binance USD  \n2022-05-09   BUSD  Binance USD  \n2022-05-10   BUSD  Binance USD  \n2022-05-11   BUSD  Binance USD  \n2022-05-12   BUSD  Binance USD  \n\n[966 rows x 8 columns]",
      "text/html": "<div>\n<style scoped>\n    .dataframe tbody tr th:only-of-type {\n        vertical-align: middle;\n    }\n\n    .dataframe tbody tr th {\n        vertical-align: top;\n    }\n\n    .dataframe thead th {\n        text-align: right;\n    }\n</style>\n<table border=\"1\" class=\"dataframe\">\n  <thead>\n    <tr style=\"text-align: right;\">\n      <th></th>\n      <th>High</th>\n      <th>Low</th>\n      <th>Open</th>\n      <th>Close</th>\n      <th>Volume</th>\n      <th>Adj Close</th>\n      <th>symbol</th>\n      <th>name</th>\n    </tr>\n    <tr>\n      <th>Date</th>\n      <th></th>\n      <th></th>\n      <th></th>\n      <th></th>\n      <th></th>\n      <th></th>\n      <th></th>\n      <th></th>\n    </tr>\n  </thead>\n  <tbody>\n    <tr>\n      <th>2019-09-20</th>\n      <td>1.006965</td>\n      <td>0.998945</td>\n      <td>1.001393</td>\n      <td>1.001464</td>\n      <td>2.559360e+05</td>\n      <td>1.001464</td>\n      <td>BUSD</td>\n      <td>Binance USD</td>\n    </tr>\n    <tr>\n      <th>2019-09-21</th>\n      <td>1.007052</td>\n      <td>1.000069</td>\n      <td>1.001320</td>\n      <td>1.001984</td>\n      <td>1.728540e+05</td>\n      <td>1.001984</td>\n      <td>BUSD</td>\n      <td>Binance USD</td>\n    </tr>\n    <tr>\n      <th>2019-09-22</th>\n      <td>1.007011</td>\n      <td>0.998558</td>\n      <td>1.002346</td>\n      <td>1.003114</td>\n      <td>1.505900e+05</td>\n      <td>1.003114</td>\n      <td>BUSD</td>\n      <td>Binance USD</td>\n    </tr>\n    <tr>\n      <th>2019-09-23</th>\n      <td>1.012758</td>\n      <td>0.999545</td>\n      <td>1.003591</td>\n      <td>1.002431</td>\n      <td>1.532224e+06</td>\n      <td>1.002431</td>\n      <td>BUSD</td>\n      <td>Binance USD</td>\n    </tr>\n    <tr>\n      <th>2019-09-24</th>\n      <td>1.059820</td>\n      <td>0.994858</td>\n      <td>1.002344</td>\n      <td>1.007416</td>\n      <td>4.110761e+06</td>\n      <td>1.007416</td>\n      <td>BUSD</td>\n      <td>Binance USD</td>\n    </tr>\n    <tr>\n      <th>...</th>\n      <td>...</td>\n      <td>...</td>\n      <td>...</td>\n      <td>...</td>\n      <td>...</td>\n      <td>...</td>\n      <td>...</td>\n      <td>...</td>\n    </tr>\n    <tr>\n      <th>2022-05-08</th>\n      <td>1.001930</td>\n      <td>0.997955</td>\n      <td>0.999736</td>\n      <td>1.000291</td>\n      <td>1.045222e+10</td>\n      <td>1.000291</td>\n      <td>BUSD</td>\n      <td>Binance USD</td>\n    </tr>\n    <tr>\n      <th>2022-05-09</th>\n      <td>1.002361</td>\n      <td>0.997820</td>\n      <td>1.000246</td>\n      <td>1.000854</td>\n      <td>8.100177e+09</td>\n      <td>1.000854</td>\n      <td>BUSD</td>\n      <td>Binance USD</td>\n    </tr>\n    <tr>\n      <th>2022-05-10</th>\n      <td>1.002232</td>\n      <td>0.998038</td>\n      <td>1.000819</td>\n      <td>0.999719</td>\n      <td>8.730362e+09</td>\n      <td>0.999719</td>\n      <td>BUSD</td>\n      <td>Binance USD</td>\n    </tr>\n    <tr>\n      <th>2022-05-11</th>\n      <td>1.004694</td>\n      <td>0.998226</td>\n      <td>0.999599</td>\n      <td>1.002981</td>\n      <td>1.558962e+10</td>\n      <td>1.002981</td>\n      <td>BUSD</td>\n      <td>Binance USD</td>\n    </tr>\n    <tr>\n      <th>2022-05-12</th>\n      <td>1.024690</td>\n      <td>1.000930</td>\n      <td>1.004014</td>\n      <td>1.003347</td>\n      <td>2.023618e+10</td>\n      <td>1.003347</td>\n      <td>BUSD</td>\n      <td>Binance USD</td>\n    </tr>\n  </tbody>\n</table>\n<p>966 rows × 8 columns</p>\n</div>"
     },
     "execution_count": 182,
     "metadata": {},
     "output_type": "execute_result"
    }
   ],
   "source": [
    "busd = my_data[my_data['symbol'] == 'BUSD']  #Extracting the binanceusd coin data from the dataframe\n",
    "busd = busd.set_index('Date')\n",
    "busd"
   ],
   "metadata": {
    "collapsed": false,
    "pycharm": {
     "name": "#%%\n"
    }
   }
  },
  {
   "cell_type": "code",
   "execution_count": 183,
   "outputs": [
    {
     "name": "stdout",
     "output_type": "stream",
     "text": [
      "Performing stepwise search to minimize aic\n",
      " ARIMA(2,0,2)(0,0,0)[0] intercept   : AIC=-8413.112, Time=23.51 sec\n",
      " ARIMA(0,0,0)(0,0,0)[0] intercept   : AIC=-8320.002, Time=0.59 sec\n",
      " ARIMA(1,0,0)(0,0,0)[0] intercept   : AIC=-8390.784, Time=0.86 sec\n",
      " ARIMA(0,0,1)(0,0,0)[0] intercept   : AIC=-8371.863, Time=1.46 sec\n",
      " ARIMA(0,0,0)(0,0,0)[0]             : AIC=2744.978, Time=0.05 sec\n",
      " ARIMA(1,0,2)(0,0,0)[0] intercept   : AIC=-8417.466, Time=3.47 sec\n",
      " ARIMA(0,0,2)(0,0,0)[0] intercept   : AIC=-8392.020, Time=3.78 sec\n",
      " ARIMA(1,0,1)(0,0,0)[0] intercept   : AIC=-8410.263, Time=1.92 sec\n",
      " ARIMA(1,0,3)(0,0,0)[0] intercept   : AIC=-8419.927, Time=2.61 sec\n",
      " ARIMA(0,0,3)(0,0,0)[0] intercept   : AIC=-8417.903, Time=4.49 sec\n",
      " ARIMA(2,0,3)(0,0,0)[0] intercept   : AIC=-8445.252, Time=4.36 sec\n",
      " ARIMA(3,0,3)(0,0,0)[0] intercept   : AIC=-8400.965, Time=12.16 sec\n",
      " ARIMA(2,0,4)(0,0,0)[0] intercept   : AIC=-8431.070, Time=1.00 sec\n",
      " ARIMA(1,0,4)(0,0,0)[0] intercept   : AIC=-8426.616, Time=2.87 sec\n",
      " ARIMA(3,0,2)(0,0,0)[0] intercept   : AIC=-8420.886, Time=20.86 sec\n",
      " ARIMA(3,0,4)(0,0,0)[0] intercept   : AIC=-8441.701, Time=4.96 sec\n",
      " ARIMA(2,0,3)(0,0,0)[0]             : AIC=-7939.818, Time=7.67 sec\n",
      "\n",
      "Best model:  ARIMA(2,0,3)(0,0,0)[0] intercept\n",
      "Total fit time: 96.713 seconds\n"
     ]
    },
    {
     "data": {
      "text/plain": "ARIMA(order=(2, 0, 3), scoring_args={}, suppress_warnings=True)"
     },
     "execution_count": 183,
     "metadata": {},
     "output_type": "execute_result"
    }
   ],
   "source": [
    "# getting the best order with autoarima\n",
    "def arimamodel(series):\n",
    "    auto = pm.auto_arima(series,\n",
    "                         starts_p=1, starts_q=1,\n",
    "                         max_p=8, max_q=8,\n",
    "                         test='adf', seasonal=True,\n",
    "                         trace=True)\n",
    "    return auto\n",
    "\n",
    "arimamodel(busd['Close'])"
   ],
   "metadata": {
    "collapsed": false,
    "pycharm": {
     "name": "#%%\n"
    }
   }
  },
  {
   "cell_type": "code",
   "execution_count": 186,
   "outputs": [
    {
     "name": "stdout",
     "output_type": "stream",
     "text": [
      "                               SARIMAX Results                                \n",
      "==============================================================================\n",
      "Dep. Variable:                  Close   No. Observations:                  555\n",
      "Model:                 ARIMA(2, 0, 3)   Log Likelihood               -1116.024\n",
      "Date:                Thu, 12 May 2022   AIC                           2246.049\n",
      "Time:                        23:34:32   BIC                           2276.281\n",
      "Sample:                             0   HQIC                          2257.858\n",
      "                                - 555                                         \n",
      "Covariance Type:                  opg                                         \n",
      "==============================================================================\n",
      "                 coef    std err          z      P>|z|      [0.025      0.975]\n",
      "------------------------------------------------------------------------------\n",
      "const         16.9203     11.081      1.527      0.127      -4.798      38.639\n",
      "ar.L1          0.2176      0.123      1.766      0.077      -0.024       0.459\n",
      "ar.L2          0.7695      0.121      6.334      0.000       0.531       1.008\n",
      "ma.L1          0.7361      0.125      5.907      0.000       0.492       0.980\n",
      "ma.L2         -0.0193      0.041     -0.474      0.636      -0.099       0.060\n",
      "ma.L3         -0.0756      0.038     -1.996      0.046      -0.150      -0.001\n",
      "sigma2         3.2424      0.091     35.508      0.000       3.063       3.421\n",
      "===================================================================================\n",
      "Ljung-Box (L1) (Q):                   0.05   Jarque-Bera (JB):              2565.67\n",
      "Prob(Q):                              0.83   Prob(JB):                         0.00\n",
      "Heteroskedasticity (H):               3.88   Skew:                            -0.72\n",
      "Prob(H) (two-sided):                  0.00   Kurtosis:                        13.44\n",
      "===================================================================================\n",
      "\n",
      "Warnings:\n",
      "[1] Covariance matrix calculated using the outer product of gradients (complex-step).\n"
     ]
    }
   ],
   "source": [
    "# 2,0,3 ARIMA Model\n",
    "model = ARIMA(dot['Close'], order=(2,0,3))\n",
    "result = model.fit()\n",
    "print(result.summary())"
   ],
   "metadata": {
    "collapsed": false,
    "pycharm": {
     "name": "#%%\n"
    }
   }
  },
  {
   "cell_type": "code",
   "execution_count": 187,
   "outputs": [
    {
     "name": "stdout",
     "output_type": "stream",
     "text": [
      "772\n",
      "194\n"
     ]
    }
   ],
   "source": [
    "#train test split\n",
    "n = int(len(busd['Close']) * 0.8)\n",
    "train = busd['Close'][:n]\n",
    "test = busd['Close'][n:]\n",
    "print(len(train))\n",
    "print(len(test))"
   ],
   "metadata": {
    "collapsed": false,
    "pycharm": {
     "name": "#%%\n"
    }
   }
  },
  {
   "cell_type": "code",
   "execution_count": 188,
   "outputs": [
    {
     "data": {
      "text/plain": "772    15.382694\n773    15.393882\n774    15.404988\n775    15.416014\n776    15.426960\n         ...    \n961    16.533585\n962    16.536400\n963    16.539193\n964    16.541966\n965    16.544720\nName: predicted_mean, Length: 194, dtype: float64"
     },
     "execution_count": 188,
     "metadata": {},
     "output_type": "execute_result"
    }
   ],
   "source": [
    "start = len(train)\n",
    "end = len(train) + len(test) - 1\n",
    "predictions = result.predict(start=start, end=end, dynamic=False, type='level')\n",
    "predictions\n",
    "# df = pd.DataFrame({'Actual': test, 'Predicted': predictions})\n",
    "# print(df)"
   ],
   "metadata": {
    "collapsed": false,
    "pycharm": {
     "name": "#%%\n"
    }
   }
  },
  {
   "cell_type": "code",
   "execution_count": 189,
   "outputs": [
    {
     "name": "stdout",
     "output_type": "stream",
     "text": [
      "Mean absolute error:, 15.10\n",
      "Mean squared error:, 227.97\n",
      "Root mean squared error:, 15.10\n",
      "r2 score:-341743387.98\n",
      "Mean absolute percentage error:, 15.10\n"
     ]
    }
   ],
   "source": [
    "mae = mean_absolute_error(test, predictions)\n",
    "mse = mean_squared_error(test, predictions)\n",
    "rmse = np.sqrt(mse)\n",
    "r2 = r2_score(test, predictions)\n",
    "#the r2 for the train dataset\n",
    "mape = mean_absolute_percentage_error(test, predictions)\n",
    "\n",
    "#printing the model evaluation values\n",
    "print('Mean absolute error:, {:.2f}'.format(mae))\n",
    "print('Mean squared error:, {:.2f}'.format(mse))\n",
    "print('Root mean squared error:, {:.2f}'.format(rmse))\n",
    "print('r2 score:{:.2f}'.format(r2))\n",
    "print('Mean absolute percentage error:, {:.2f}'.format(mape))"
   ],
   "metadata": {
    "collapsed": false,
    "pycharm": {
     "name": "#%%\n"
    }
   }
  },
  {
   "cell_type": "code",
   "execution_count": 190,
   "outputs": [
    {
     "data": {
      "text/plain": "555    9.458051\n556    9.274525\n557    9.683992\n558    9.462361\n559    9.729243\n560    9.616751\n561    9.797652\nName: predicted_mean, dtype: float64"
     },
     "execution_count": 190,
     "metadata": {},
     "output_type": "execute_result"
    }
   ],
   "source": [
    "#saving model to disk\n",
    "final_model = 'busd_model.sav'\n",
    "joblib.dump(model, final_model)\n",
    "forecast = result.forecast(steps=7, type='level')\n",
    "forecast"
   ],
   "metadata": {
    "collapsed": false,
    "pycharm": {
     "name": "#%%\n"
    }
   }
  },
  {
   "cell_type": "markdown",
   "source": [
    "SHIBA INU"
   ],
   "metadata": {
    "collapsed": false,
    "pycharm": {
     "name": "#%% md\n"
    }
   }
  },
  {
   "cell_type": "code",
   "execution_count": 191,
   "outputs": [
    {
     "data": {
      "text/plain": "                High       Low      Open     Close        Volume  Adj Close  \\\nDate                                                                          \n2020-08-01  0.000000  0.000000  0.000000  0.000000  1.604789e+06   0.000000   \n2020-08-02  0.000000  0.000000  0.000000  0.000000  1.930980e+05   0.000000   \n2020-08-03  0.000000  0.000000  0.000000  0.000000  1.292250e+05   0.000000   \n2020-08-04  0.000000  0.000000  0.000000  0.000000  1.971700e+04   0.000000   \n2020-08-05  0.000000  0.000000  0.000000  0.000000  2.686900e+04   0.000000   \n...              ...       ...       ...       ...           ...        ...   \n2022-05-08  0.000019  0.000018  0.000019  0.000018  5.370736e+08   0.000018   \n2022-05-09  0.000019  0.000014  0.000018  0.000014  1.391409e+09   0.000014   \n2022-05-10  0.000018  0.000014  0.000014  0.000016  1.923105e+09   0.000016   \n2022-05-11  0.000017  0.000011  0.000016  0.000012  1.583801e+09   0.000012   \n2022-05-12  0.000013  0.000009  0.000012  0.000012  1.686325e+09   0.000012   \n\n           symbol       name  \nDate                          \n2020-08-01   SHIB  SHIBA INU  \n2020-08-02   SHIB  SHIBA INU  \n2020-08-03   SHIB  SHIBA INU  \n2020-08-04   SHIB  SHIBA INU  \n2020-08-05   SHIB  SHIBA INU  \n...           ...        ...  \n2022-05-08   SHIB  SHIBA INU  \n2022-05-09   SHIB  SHIBA INU  \n2022-05-10   SHIB  SHIBA INU  \n2022-05-11   SHIB  SHIBA INU  \n2022-05-12   SHIB  SHIBA INU  \n\n[650 rows x 8 columns]",
      "text/html": "<div>\n<style scoped>\n    .dataframe tbody tr th:only-of-type {\n        vertical-align: middle;\n    }\n\n    .dataframe tbody tr th {\n        vertical-align: top;\n    }\n\n    .dataframe thead th {\n        text-align: right;\n    }\n</style>\n<table border=\"1\" class=\"dataframe\">\n  <thead>\n    <tr style=\"text-align: right;\">\n      <th></th>\n      <th>High</th>\n      <th>Low</th>\n      <th>Open</th>\n      <th>Close</th>\n      <th>Volume</th>\n      <th>Adj Close</th>\n      <th>symbol</th>\n      <th>name</th>\n    </tr>\n    <tr>\n      <th>Date</th>\n      <th></th>\n      <th></th>\n      <th></th>\n      <th></th>\n      <th></th>\n      <th></th>\n      <th></th>\n      <th></th>\n    </tr>\n  </thead>\n  <tbody>\n    <tr>\n      <th>2020-08-01</th>\n      <td>0.000000</td>\n      <td>0.000000</td>\n      <td>0.000000</td>\n      <td>0.000000</td>\n      <td>1.604789e+06</td>\n      <td>0.000000</td>\n      <td>SHIB</td>\n      <td>SHIBA INU</td>\n    </tr>\n    <tr>\n      <th>2020-08-02</th>\n      <td>0.000000</td>\n      <td>0.000000</td>\n      <td>0.000000</td>\n      <td>0.000000</td>\n      <td>1.930980e+05</td>\n      <td>0.000000</td>\n      <td>SHIB</td>\n      <td>SHIBA INU</td>\n    </tr>\n    <tr>\n      <th>2020-08-03</th>\n      <td>0.000000</td>\n      <td>0.000000</td>\n      <td>0.000000</td>\n      <td>0.000000</td>\n      <td>1.292250e+05</td>\n      <td>0.000000</td>\n      <td>SHIB</td>\n      <td>SHIBA INU</td>\n    </tr>\n    <tr>\n      <th>2020-08-04</th>\n      <td>0.000000</td>\n      <td>0.000000</td>\n      <td>0.000000</td>\n      <td>0.000000</td>\n      <td>1.971700e+04</td>\n      <td>0.000000</td>\n      <td>SHIB</td>\n      <td>SHIBA INU</td>\n    </tr>\n    <tr>\n      <th>2020-08-05</th>\n      <td>0.000000</td>\n      <td>0.000000</td>\n      <td>0.000000</td>\n      <td>0.000000</td>\n      <td>2.686900e+04</td>\n      <td>0.000000</td>\n      <td>SHIB</td>\n      <td>SHIBA INU</td>\n    </tr>\n    <tr>\n      <th>...</th>\n      <td>...</td>\n      <td>...</td>\n      <td>...</td>\n      <td>...</td>\n      <td>...</td>\n      <td>...</td>\n      <td>...</td>\n      <td>...</td>\n    </tr>\n    <tr>\n      <th>2022-05-08</th>\n      <td>0.000019</td>\n      <td>0.000018</td>\n      <td>0.000019</td>\n      <td>0.000018</td>\n      <td>5.370736e+08</td>\n      <td>0.000018</td>\n      <td>SHIB</td>\n      <td>SHIBA INU</td>\n    </tr>\n    <tr>\n      <th>2022-05-09</th>\n      <td>0.000019</td>\n      <td>0.000014</td>\n      <td>0.000018</td>\n      <td>0.000014</td>\n      <td>1.391409e+09</td>\n      <td>0.000014</td>\n      <td>SHIB</td>\n      <td>SHIBA INU</td>\n    </tr>\n    <tr>\n      <th>2022-05-10</th>\n      <td>0.000018</td>\n      <td>0.000014</td>\n      <td>0.000014</td>\n      <td>0.000016</td>\n      <td>1.923105e+09</td>\n      <td>0.000016</td>\n      <td>SHIB</td>\n      <td>SHIBA INU</td>\n    </tr>\n    <tr>\n      <th>2022-05-11</th>\n      <td>0.000017</td>\n      <td>0.000011</td>\n      <td>0.000016</td>\n      <td>0.000012</td>\n      <td>1.583801e+09</td>\n      <td>0.000012</td>\n      <td>SHIB</td>\n      <td>SHIBA INU</td>\n    </tr>\n    <tr>\n      <th>2022-05-12</th>\n      <td>0.000013</td>\n      <td>0.000009</td>\n      <td>0.000012</td>\n      <td>0.000012</td>\n      <td>1.686325e+09</td>\n      <td>0.000012</td>\n      <td>SHIB</td>\n      <td>SHIBA INU</td>\n    </tr>\n  </tbody>\n</table>\n<p>650 rows × 8 columns</p>\n</div>"
     },
     "execution_count": 191,
     "metadata": {},
     "output_type": "execute_result"
    }
   ],
   "source": [
    "shib = my_data[my_data['symbol'] == 'SHIB']  #Extracting the  shiba inu data from the dataframe\n",
    "shib = shib.set_index('Date')\n",
    "shib"
   ],
   "metadata": {
    "collapsed": false,
    "pycharm": {
     "name": "#%%\n"
    }
   }
  },
  {
   "cell_type": "code",
   "execution_count": 192,
   "outputs": [
    {
     "name": "stdout",
     "output_type": "stream",
     "text": [
      "Performing stepwise search to minimize aic\n",
      " ARIMA(2,1,2)(0,0,0)[0] intercept   : AIC=-14090.252, Time=4.03 sec\n",
      " ARIMA(0,1,0)(0,0,0)[0] intercept   : AIC=-14098.295, Time=0.38 sec\n",
      " ARIMA(1,1,0)(0,0,0)[0] intercept   : AIC=-14099.632, Time=1.33 sec\n",
      " ARIMA(0,1,1)(0,0,0)[0] intercept   : AIC=-13903.853, Time=2.60 sec\n",
      " ARIMA(0,1,0)(0,0,0)[0]             : AIC=-14877.497, Time=0.41 sec\n",
      " ARIMA(1,1,1)(0,0,0)[0] intercept   : AIC=-14154.836, Time=3.45 sec\n",
      "\n",
      "Best model:  ARIMA(0,1,0)(0,0,0)[0]          \n",
      "Total fit time: 12.227 seconds\n"
     ]
    },
    {
     "data": {
      "text/plain": "ARIMA(order=(0, 1, 0), scoring_args={}, suppress_warnings=True,\n      with_intercept=False)"
     },
     "execution_count": 192,
     "metadata": {},
     "output_type": "execute_result"
    }
   ],
   "source": [
    "# getting the best order with autoarima\n",
    "def arimamodel(series):\n",
    "    auto = pm.auto_arima(series,\n",
    "                         starts_p=1, starts_q=1,\n",
    "                         max_p=8, max_q=8,\n",
    "                         test='adf', seasonal=True,\n",
    "                         trace=True)\n",
    "    return auto\n",
    "\n",
    "arimamodel(shib['Close'])"
   ],
   "metadata": {
    "collapsed": false,
    "pycharm": {
     "name": "#%%\n"
    }
   }
  },
  {
   "cell_type": "code",
   "execution_count": 193,
   "outputs": [
    {
     "name": "stdout",
     "output_type": "stream",
     "text": [
      "                               SARIMAX Results                                \n",
      "==============================================================================\n",
      "Dep. Variable:                  Close   No. Observations:                  650\n",
      "Model:                 ARIMA(0, 1, 0)   Log Likelihood                7439.748\n",
      "Date:                Thu, 12 May 2022   AIC                         -14877.497\n",
      "Time:                        23:36:01   BIC                         -14873.021\n",
      "Sample:                    08-01-2020   HQIC                        -14875.761\n",
      "                         - 05-12-2022                                         \n",
      "Covariance Type:                  opg                                         \n",
      "==============================================================================\n",
      "                 coef    std err          z      P>|z|      [0.025      0.975]\n",
      "------------------------------------------------------------------------------\n",
      "sigma2       8.87e-12    7.5e-11      0.118      0.906   -1.38e-10    1.56e-10\n",
      "===================================================================================\n",
      "Ljung-Box (L1) (Q):                  13.82   Jarque-Bera (JB):            103507.66\n",
      "Prob(Q):                              0.00   Prob(JB):                         0.00\n",
      "Heteroskedasticity (H):                inf   Skew:                             4.31\n",
      "Prob(H) (two-sided):                  0.00   Kurtosis:                        64.27\n",
      "===================================================================================\n",
      "\n",
      "Warnings:\n",
      "[1] Covariance matrix calculated using the outer product of gradients (complex-step).\n"
     ]
    }
   ],
   "source": [
    "# 0,1,0 ARIMA Model\n",
    "model = ARIMA(shib['Close'], order=(0,1,0))\n",
    "result = model.fit()\n",
    "print(result.summary())"
   ],
   "metadata": {
    "collapsed": false,
    "pycharm": {
     "name": "#%%\n"
    }
   }
  },
  {
   "cell_type": "code",
   "execution_count": 194,
   "outputs": [
    {
     "name": "stdout",
     "output_type": "stream",
     "text": [
      "520\n",
      "130\n"
     ]
    }
   ],
   "source": [
    "#train test split\n",
    "n = int(len(shib['Close']) * 0.8)\n",
    "train = shib['Close'][:n]\n",
    "test = shib['Close'][n:]\n",
    "print(len(train))\n",
    "print(len(test))"
   ],
   "metadata": {
    "collapsed": false,
    "pycharm": {
     "name": "#%%\n"
    }
   }
  },
  {
   "cell_type": "code",
   "execution_count": 195,
   "outputs": [
    {
     "data": {
      "text/plain": "2022-01-03    0.000034\n2022-01-04    0.000033\n2022-01-05    0.000032\n2022-01-06    0.000030\n2022-01-07    0.000031\n                ...   \n2022-05-08    0.000019\n2022-05-09    0.000018\n2022-05-10    0.000014\n2022-05-11    0.000016\n2022-05-12    0.000012\nFreq: D, Name: predicted_mean, Length: 130, dtype: float64"
     },
     "execution_count": 195,
     "metadata": {},
     "output_type": "execute_result"
    }
   ],
   "source": [
    "start = len(train)\n",
    "end = len(train) + len(test) - 1\n",
    "predictions = result.predict(start=start, end=end, dynamic=False, type='level')\n",
    "predictions\n",
    "# df = pd.DataFrame({'Actual': test, 'Predicted': predictions})\n",
    "# print(df)"
   ],
   "metadata": {
    "collapsed": false,
    "pycharm": {
     "name": "#%%\n"
    }
   }
  },
  {
   "cell_type": "code",
   "execution_count": 196,
   "outputs": [
    {
     "name": "stdout",
     "output_type": "stream",
     "text": [
      "Mean absolute error:, 0.00\n",
      "Mean squared error:, 0.00\n",
      "Root mean squared error:, 0.00\n",
      "r2 score:0.85\n",
      "Mean absolute percentage error:, 0.04\n"
     ]
    }
   ],
   "source": [
    "#evaluate\n",
    "mae = mean_absolute_error(test, predictions)\n",
    "mse = mean_squared_error(test, predictions)\n",
    "rmse = np.sqrt(mse)\n",
    "r2 = r2_score(test, predictions)\n",
    "#the r2 for the train dataset\n",
    "mape = mean_absolute_percentage_error(test, predictions)\n",
    "\n",
    "#printing the model evaluation values\n",
    "print('Mean absolute error:, {:.2f}'.format(mae))\n",
    "print('Mean squared error:, {:.2f}'.format(mse))\n",
    "print('Root mean squared error:, {:.2f}'.format(rmse))\n",
    "print('r2 score:{:.2f}'.format(r2))\n",
    "print('Mean absolute percentage error:, {:.2f}'.format(mape))"
   ],
   "metadata": {
    "collapsed": false,
    "pycharm": {
     "name": "#%%\n"
    }
   }
  },
  {
   "cell_type": "code",
   "execution_count": 197,
   "outputs": [
    {
     "data": {
      "text/plain": "2022-05-13    0.000012\n2022-05-14    0.000012\n2022-05-15    0.000012\n2022-05-16    0.000012\n2022-05-17    0.000012\n2022-05-18    0.000012\n2022-05-19    0.000012\nFreq: D, Name: predicted_mean, dtype: float64"
     },
     "execution_count": 197,
     "metadata": {},
     "output_type": "execute_result"
    }
   ],
   "source": [
    "#saving model to disk\n",
    "final_model = 'shib_model.sav'\n",
    "joblib.dump(model, final_model)\n",
    "forecast = result.forecast(steps=7, type='level')\n",
    "forecast"
   ],
   "metadata": {
    "collapsed": false,
    "pycharm": {
     "name": "#%%\n"
    }
   }
  },
  {
   "cell_type": "markdown",
   "source": [
    "WRAPPED BITCOIN"
   ],
   "metadata": {
    "collapsed": false,
    "pycharm": {
     "name": "#%% md\n"
    }
   }
  },
  {
   "cell_type": "code",
   "execution_count": 198,
   "outputs": [
    {
     "data": {
      "text/plain": "                    High           Low          Open         Close  \\\nDate                                                                 \n2019-01-30   3502.762939   3477.248047   3494.277588   3496.455322   \n2019-01-31   3535.421143   3435.290527   3496.839844   3466.506592   \n2019-02-01   3517.770264   3422.825684   3469.393066   3480.772217   \n2019-02-02   3546.404297   3459.112793   3476.335205   3542.095459   \n2019-02-03   3544.666992   3436.177734   3540.562744   3477.865967   \n...                  ...           ...           ...           ...   \n2022-05-08  35479.750000  33919.375000  35472.101562  34066.445312   \n2022-05-09  34167.175781  30400.675781  34052.562500  30400.675781   \n2022-05-10  32528.972656  29945.867188  30384.060547  31029.583984   \n2022-05-11  31930.599609  28066.878906  31030.730469  28874.722656   \n2022-05-12  29902.755859  25985.402344  28957.730469  29422.316406   \n\n                  Volume     Adj Close symbol             name  \nDate                                                            \n2019-01-30  1.475000e+03   3496.455322   WBTC  Wrapped Bitcoin  \n2019-01-31  1.928900e+04   3466.506592   WBTC  Wrapped Bitcoin  \n2019-02-01  1.364000e+04   3480.772217   WBTC  Wrapped Bitcoin  \n2019-02-02  1.895000e+03   3542.095459   WBTC  Wrapped Bitcoin  \n2019-02-03  6.525000e+03   3477.865967   WBTC  Wrapped Bitcoin  \n...                  ...           ...    ...              ...  \n2022-05-08  3.540921e+08  34066.445312   WBTC  Wrapped Bitcoin  \n2022-05-09  6.582155e+08  30400.675781   WBTC  Wrapped Bitcoin  \n2022-05-10  4.884863e+08  31029.583984   WBTC  Wrapped Bitcoin  \n2022-05-11  9.481565e+08  28874.722656   WBTC  Wrapped Bitcoin  \n2022-05-12  1.275182e+09  29422.316406   WBTC  Wrapped Bitcoin  \n\n[1199 rows x 8 columns]",
      "text/html": "<div>\n<style scoped>\n    .dataframe tbody tr th:only-of-type {\n        vertical-align: middle;\n    }\n\n    .dataframe tbody tr th {\n        vertical-align: top;\n    }\n\n    .dataframe thead th {\n        text-align: right;\n    }\n</style>\n<table border=\"1\" class=\"dataframe\">\n  <thead>\n    <tr style=\"text-align: right;\">\n      <th></th>\n      <th>High</th>\n      <th>Low</th>\n      <th>Open</th>\n      <th>Close</th>\n      <th>Volume</th>\n      <th>Adj Close</th>\n      <th>symbol</th>\n      <th>name</th>\n    </tr>\n    <tr>\n      <th>Date</th>\n      <th></th>\n      <th></th>\n      <th></th>\n      <th></th>\n      <th></th>\n      <th></th>\n      <th></th>\n      <th></th>\n    </tr>\n  </thead>\n  <tbody>\n    <tr>\n      <th>2019-01-30</th>\n      <td>3502.762939</td>\n      <td>3477.248047</td>\n      <td>3494.277588</td>\n      <td>3496.455322</td>\n      <td>1.475000e+03</td>\n      <td>3496.455322</td>\n      <td>WBTC</td>\n      <td>Wrapped Bitcoin</td>\n    </tr>\n    <tr>\n      <th>2019-01-31</th>\n      <td>3535.421143</td>\n      <td>3435.290527</td>\n      <td>3496.839844</td>\n      <td>3466.506592</td>\n      <td>1.928900e+04</td>\n      <td>3466.506592</td>\n      <td>WBTC</td>\n      <td>Wrapped Bitcoin</td>\n    </tr>\n    <tr>\n      <th>2019-02-01</th>\n      <td>3517.770264</td>\n      <td>3422.825684</td>\n      <td>3469.393066</td>\n      <td>3480.772217</td>\n      <td>1.364000e+04</td>\n      <td>3480.772217</td>\n      <td>WBTC</td>\n      <td>Wrapped Bitcoin</td>\n    </tr>\n    <tr>\n      <th>2019-02-02</th>\n      <td>3546.404297</td>\n      <td>3459.112793</td>\n      <td>3476.335205</td>\n      <td>3542.095459</td>\n      <td>1.895000e+03</td>\n      <td>3542.095459</td>\n      <td>WBTC</td>\n      <td>Wrapped Bitcoin</td>\n    </tr>\n    <tr>\n      <th>2019-02-03</th>\n      <td>3544.666992</td>\n      <td>3436.177734</td>\n      <td>3540.562744</td>\n      <td>3477.865967</td>\n      <td>6.525000e+03</td>\n      <td>3477.865967</td>\n      <td>WBTC</td>\n      <td>Wrapped Bitcoin</td>\n    </tr>\n    <tr>\n      <th>...</th>\n      <td>...</td>\n      <td>...</td>\n      <td>...</td>\n      <td>...</td>\n      <td>...</td>\n      <td>...</td>\n      <td>...</td>\n      <td>...</td>\n    </tr>\n    <tr>\n      <th>2022-05-08</th>\n      <td>35479.750000</td>\n      <td>33919.375000</td>\n      <td>35472.101562</td>\n      <td>34066.445312</td>\n      <td>3.540921e+08</td>\n      <td>34066.445312</td>\n      <td>WBTC</td>\n      <td>Wrapped Bitcoin</td>\n    </tr>\n    <tr>\n      <th>2022-05-09</th>\n      <td>34167.175781</td>\n      <td>30400.675781</td>\n      <td>34052.562500</td>\n      <td>30400.675781</td>\n      <td>6.582155e+08</td>\n      <td>30400.675781</td>\n      <td>WBTC</td>\n      <td>Wrapped Bitcoin</td>\n    </tr>\n    <tr>\n      <th>2022-05-10</th>\n      <td>32528.972656</td>\n      <td>29945.867188</td>\n      <td>30384.060547</td>\n      <td>31029.583984</td>\n      <td>4.884863e+08</td>\n      <td>31029.583984</td>\n      <td>WBTC</td>\n      <td>Wrapped Bitcoin</td>\n    </tr>\n    <tr>\n      <th>2022-05-11</th>\n      <td>31930.599609</td>\n      <td>28066.878906</td>\n      <td>31030.730469</td>\n      <td>28874.722656</td>\n      <td>9.481565e+08</td>\n      <td>28874.722656</td>\n      <td>WBTC</td>\n      <td>Wrapped Bitcoin</td>\n    </tr>\n    <tr>\n      <th>2022-05-12</th>\n      <td>29902.755859</td>\n      <td>25985.402344</td>\n      <td>28957.730469</td>\n      <td>29422.316406</td>\n      <td>1.275182e+09</td>\n      <td>29422.316406</td>\n      <td>WBTC</td>\n      <td>Wrapped Bitcoin</td>\n    </tr>\n  </tbody>\n</table>\n<p>1199 rows × 8 columns</p>\n</div>"
     },
     "execution_count": 198,
     "metadata": {},
     "output_type": "execute_result"
    }
   ],
   "source": [
    "wbtc = my_data[my_data['symbol'] == 'WBTC']  #Extracting the wrapped bitcoin data from the dataframe\n",
    "wbtc = wbtc.set_index('Date')\n",
    "wbtc"
   ],
   "metadata": {
    "collapsed": false,
    "pycharm": {
     "name": "#%%\n"
    }
   }
  },
  {
   "cell_type": "code",
   "execution_count": 199,
   "outputs": [
    {
     "name": "stdout",
     "output_type": "stream",
     "text": [
      "Performing stepwise search to minimize aic\n",
      " ARIMA(2,1,2)(0,0,0)[0] intercept   : AIC=20375.220, Time=5.17 sec\n",
      " ARIMA(0,1,0)(0,0,0)[0] intercept   : AIC=20370.323, Time=0.06 sec\n",
      " ARIMA(1,1,0)(0,0,0)[0] intercept   : AIC=20369.863, Time=0.11 sec\n",
      " ARIMA(0,1,1)(0,0,0)[0] intercept   : AIC=20369.911, Time=0.10 sec\n",
      " ARIMA(0,1,0)(0,0,0)[0]             : AIC=20368.720, Time=0.02 sec\n",
      " ARIMA(1,1,1)(0,0,0)[0] intercept   : AIC=20371.837, Time=0.13 sec\n",
      "\n",
      "Best model:  ARIMA(0,1,0)(0,0,0)[0]          \n",
      "Total fit time: 5.635 seconds\n"
     ]
    },
    {
     "data": {
      "text/plain": "ARIMA(order=(0, 1, 0), scoring_args={}, suppress_warnings=True,\n      with_intercept=False)"
     },
     "execution_count": 199,
     "metadata": {},
     "output_type": "execute_result"
    }
   ],
   "source": [
    "# getting the best order with autoarima\n",
    "def arimamodel(series):\n",
    "    auto = pm.auto_arima(series,\n",
    "                         starts_p=1, starts_q=1,\n",
    "                         max_p=8, max_q=8,\n",
    "                         test='adf', seasonal=True,\n",
    "                         trace=True)\n",
    "    return auto\n",
    "\n",
    "arimamodel(wbtc['Close'])"
   ],
   "metadata": {
    "collapsed": false,
    "pycharm": {
     "name": "#%%\n"
    }
   }
  },
  {
   "cell_type": "code",
   "execution_count": 201,
   "outputs": [
    {
     "name": "stdout",
     "output_type": "stream",
     "text": [
      "                               SARIMAX Results                                \n",
      "==============================================================================\n",
      "Dep. Variable:                  Close   No. Observations:                 1199\n",
      "Model:                 ARIMA(0, 1, 0)   Log Likelihood              -10183.360\n",
      "Date:                Thu, 12 May 2022   AIC                          20368.720\n",
      "Time:                        23:38:46   BIC                          20373.808\n",
      "Sample:                    01-30-2019   HQIC                         20370.637\n",
      "                         - 05-12-2022                                         \n",
      "Covariance Type:                  opg                                         \n",
      "==============================================================================\n",
      "                 coef    std err          z      P>|z|      [0.025      0.975]\n",
      "------------------------------------------------------------------------------\n",
      "sigma2      1.414e+06   2.73e+04     51.805      0.000    1.36e+06    1.47e+06\n",
      "===================================================================================\n",
      "Ljung-Box (L1) (Q):                   2.46   Jarque-Bera (JB):              2430.32\n",
      "Prob(Q):                              0.12   Prob(JB):                         0.00\n",
      "Heteroskedasticity (H):              21.32   Skew:                            -0.21\n",
      "Prob(H) (two-sided):                  0.00   Kurtosis:                         9.97\n",
      "===================================================================================\n",
      "\n",
      "Warnings:\n",
      "[1] Covariance matrix calculated using the outer product of gradients (complex-step).\n"
     ]
    }
   ],
   "source": [
    "# 0,1,0 ARIMA Model\n",
    "model = ARIMA(wbtc['Close'], order=(0,1,0))\n",
    "result = model.fit()\n",
    "print(result.summary())"
   ],
   "metadata": {
    "collapsed": false,
    "pycharm": {
     "name": "#%%\n"
    }
   }
  },
  {
   "cell_type": "code",
   "execution_count": 202,
   "outputs": [
    {
     "name": "stdout",
     "output_type": "stream",
     "text": [
      "959\n",
      "240\n"
     ]
    }
   ],
   "source": [
    "#train test split\n",
    "n = int(len(wbtc['Close']) * 0.8)\n",
    "train = wbtc['Close'][:n]\n",
    "test = wbtc['Close'][n:]\n",
    "print(len(train))\n",
    "print(len(test))"
   ],
   "metadata": {
    "collapsed": false,
    "pycharm": {
     "name": "#%%\n"
    }
   }
  },
  {
   "cell_type": "code",
   "execution_count": 203,
   "outputs": [
    {
     "data": {
      "text/plain": "2021-09-15    47070.902344\n2021-09-16    48186.667969\n2021-09-17    47830.707031\n2021-09-18    47228.113281\n2021-09-19    48246.542969\n                  ...     \n2022-05-08    35479.144531\n2022-05-09    34066.445312\n2022-05-10    30400.675781\n2022-05-11    31029.583984\n2022-05-12    28874.722656\nFreq: D, Name: predicted_mean, Length: 240, dtype: float64"
     },
     "execution_count": 203,
     "metadata": {},
     "output_type": "execute_result"
    }
   ],
   "source": [
    "start = len(train)\n",
    "end = len(train) + len(test) - 1\n",
    "predictions = result.predict(start=start, end=end, dynamic=False, type='level')\n",
    "predictions\n",
    "# df = pd.DataFrame({'Actual': test, 'Predicted': predictions})\n",
    "# print(df)"
   ],
   "metadata": {
    "collapsed": false,
    "pycharm": {
     "name": "#%%\n"
    }
   }
  },
  {
   "cell_type": "code",
   "execution_count": 204,
   "outputs": [
    {
     "name": "stdout",
     "output_type": "stream",
     "text": [
      "Mean absolute error:, 1169.96\n",
      "Mean squared error:, 2541577.72\n",
      "Root mean squared error:, 1594.23\n",
      "r2 score:0.97\n",
      "Mean absolute percentage error:, 0.03\n"
     ]
    }
   ],
   "source": [
    "#evaluate\n",
    "mae = mean_absolute_error(test, predictions)\n",
    "mse = mean_squared_error(test, predictions)\n",
    "rmse = np.sqrt(mse)\n",
    "r2 = r2_score(test, predictions)\n",
    "#the r2 for the train dataset\n",
    "mape = mean_absolute_percentage_error(test, predictions)\n",
    "\n",
    "#printing the model evaluation values\n",
    "print('Mean absolute error:, {:.2f}'.format(mae))\n",
    "print('Mean squared error:, {:.2f}'.format(mse))\n",
    "print('Root mean squared error:, {:.2f}'.format(rmse))\n",
    "print('r2 score:{:.2f}'.format(r2))\n",
    "print('Mean absolute percentage error:, {:.2f}'.format(mape))"
   ],
   "metadata": {
    "collapsed": false,
    "pycharm": {
     "name": "#%%\n"
    }
   }
  },
  {
   "cell_type": "code",
   "execution_count": 205,
   "outputs": [
    {
     "data": {
      "text/plain": "2022-05-13    29422.316406\n2022-05-14    29422.316406\n2022-05-15    29422.316406\n2022-05-16    29422.316406\n2022-05-17    29422.316406\n2022-05-18    29422.316406\n2022-05-19    29422.316406\nFreq: D, Name: predicted_mean, dtype: float64"
     },
     "execution_count": 205,
     "metadata": {},
     "output_type": "execute_result"
    }
   ],
   "source": [
    "#saving model to disk\n",
    "final_model = 'wbtc_model.sav'\n",
    "joblib.dump(model, final_model)\n",
    "forecast = result.forecast(steps=7, type='level')\n",
    "forecast"
   ],
   "metadata": {
    "collapsed": false,
    "pycharm": {
     "name": "#%%\n"
    }
   }
  },
  {
   "cell_type": "markdown",
   "source": [
    "NEAR PROTOCOL"
   ],
   "metadata": {
    "collapsed": false,
    "pycharm": {
     "name": "#%% md\n"
    }
   }
  },
  {
   "cell_type": "code",
   "execution_count": 206,
   "outputs": [
    {
     "data": {
      "text/plain": "                 High       Low       Open      Close        Volume  \\\nDate                                                                  \n2020-10-14   1.694560  1.064818   1.694560   1.185806  9.469227e+07   \n2020-10-15   1.249225  1.088780   1.177929   1.125557  3.493342e+07   \n2020-10-16   1.151711  0.814550   1.124601   0.817511  3.702088e+07   \n2020-10-17   0.853755  0.727224   0.817511   0.808136  2.363017e+07   \n2020-10-18   0.873260  0.802059   0.809037   0.871674  1.437647e+07   \n...               ...       ...        ...        ...           ...   \n2022-05-08  11.207347  9.941610  10.439566  11.173626  9.316645e+08   \n2022-05-09  11.580922  9.536600  11.170822   9.536600  1.603095e+09   \n2022-05-10  10.858898  8.935426   9.515079   9.604581  1.605930e+09   \n2022-05-11   9.870795  5.480900   9.592941   6.381394  2.322539e+09   \n2022-05-12   7.023853  5.381924   6.393584   7.023853  2.058081e+09   \n\n            Adj Close symbol           name  \nDate                                         \n2020-10-14   1.185806   NEAR  NEAR Protocol  \n2020-10-15   1.125557   NEAR  NEAR Protocol  \n2020-10-16   0.817511   NEAR  NEAR Protocol  \n2020-10-17   0.808136   NEAR  NEAR Protocol  \n2020-10-18   0.871674   NEAR  NEAR Protocol  \n...               ...    ...            ...  \n2022-05-08  11.173626   NEAR  NEAR Protocol  \n2022-05-09   9.536600   NEAR  NEAR Protocol  \n2022-05-10   9.604581   NEAR  NEAR Protocol  \n2022-05-11   6.381394   NEAR  NEAR Protocol  \n2022-05-12   7.023853   NEAR  NEAR Protocol  \n\n[576 rows x 8 columns]",
      "text/html": "<div>\n<style scoped>\n    .dataframe tbody tr th:only-of-type {\n        vertical-align: middle;\n    }\n\n    .dataframe tbody tr th {\n        vertical-align: top;\n    }\n\n    .dataframe thead th {\n        text-align: right;\n    }\n</style>\n<table border=\"1\" class=\"dataframe\">\n  <thead>\n    <tr style=\"text-align: right;\">\n      <th></th>\n      <th>High</th>\n      <th>Low</th>\n      <th>Open</th>\n      <th>Close</th>\n      <th>Volume</th>\n      <th>Adj Close</th>\n      <th>symbol</th>\n      <th>name</th>\n    </tr>\n    <tr>\n      <th>Date</th>\n      <th></th>\n      <th></th>\n      <th></th>\n      <th></th>\n      <th></th>\n      <th></th>\n      <th></th>\n      <th></th>\n    </tr>\n  </thead>\n  <tbody>\n    <tr>\n      <th>2020-10-14</th>\n      <td>1.694560</td>\n      <td>1.064818</td>\n      <td>1.694560</td>\n      <td>1.185806</td>\n      <td>9.469227e+07</td>\n      <td>1.185806</td>\n      <td>NEAR</td>\n      <td>NEAR Protocol</td>\n    </tr>\n    <tr>\n      <th>2020-10-15</th>\n      <td>1.249225</td>\n      <td>1.088780</td>\n      <td>1.177929</td>\n      <td>1.125557</td>\n      <td>3.493342e+07</td>\n      <td>1.125557</td>\n      <td>NEAR</td>\n      <td>NEAR Protocol</td>\n    </tr>\n    <tr>\n      <th>2020-10-16</th>\n      <td>1.151711</td>\n      <td>0.814550</td>\n      <td>1.124601</td>\n      <td>0.817511</td>\n      <td>3.702088e+07</td>\n      <td>0.817511</td>\n      <td>NEAR</td>\n      <td>NEAR Protocol</td>\n    </tr>\n    <tr>\n      <th>2020-10-17</th>\n      <td>0.853755</td>\n      <td>0.727224</td>\n      <td>0.817511</td>\n      <td>0.808136</td>\n      <td>2.363017e+07</td>\n      <td>0.808136</td>\n      <td>NEAR</td>\n      <td>NEAR Protocol</td>\n    </tr>\n    <tr>\n      <th>2020-10-18</th>\n      <td>0.873260</td>\n      <td>0.802059</td>\n      <td>0.809037</td>\n      <td>0.871674</td>\n      <td>1.437647e+07</td>\n      <td>0.871674</td>\n      <td>NEAR</td>\n      <td>NEAR Protocol</td>\n    </tr>\n    <tr>\n      <th>...</th>\n      <td>...</td>\n      <td>...</td>\n      <td>...</td>\n      <td>...</td>\n      <td>...</td>\n      <td>...</td>\n      <td>...</td>\n      <td>...</td>\n    </tr>\n    <tr>\n      <th>2022-05-08</th>\n      <td>11.207347</td>\n      <td>9.941610</td>\n      <td>10.439566</td>\n      <td>11.173626</td>\n      <td>9.316645e+08</td>\n      <td>11.173626</td>\n      <td>NEAR</td>\n      <td>NEAR Protocol</td>\n    </tr>\n    <tr>\n      <th>2022-05-09</th>\n      <td>11.580922</td>\n      <td>9.536600</td>\n      <td>11.170822</td>\n      <td>9.536600</td>\n      <td>1.603095e+09</td>\n      <td>9.536600</td>\n      <td>NEAR</td>\n      <td>NEAR Protocol</td>\n    </tr>\n    <tr>\n      <th>2022-05-10</th>\n      <td>10.858898</td>\n      <td>8.935426</td>\n      <td>9.515079</td>\n      <td>9.604581</td>\n      <td>1.605930e+09</td>\n      <td>9.604581</td>\n      <td>NEAR</td>\n      <td>NEAR Protocol</td>\n    </tr>\n    <tr>\n      <th>2022-05-11</th>\n      <td>9.870795</td>\n      <td>5.480900</td>\n      <td>9.592941</td>\n      <td>6.381394</td>\n      <td>2.322539e+09</td>\n      <td>6.381394</td>\n      <td>NEAR</td>\n      <td>NEAR Protocol</td>\n    </tr>\n    <tr>\n      <th>2022-05-12</th>\n      <td>7.023853</td>\n      <td>5.381924</td>\n      <td>6.393584</td>\n      <td>7.023853</td>\n      <td>2.058081e+09</td>\n      <td>7.023853</td>\n      <td>NEAR</td>\n      <td>NEAR Protocol</td>\n    </tr>\n  </tbody>\n</table>\n<p>576 rows × 8 columns</p>\n</div>"
     },
     "execution_count": 206,
     "metadata": {},
     "output_type": "execute_result"
    }
   ],
   "source": [
    "near = my_data[my_data['symbol'] == 'NEAR']  #Extracting the near protocol data from the dataframe\n",
    "near = near.set_index('Date')\n",
    "near"
   ],
   "metadata": {
    "collapsed": false,
    "pycharm": {
     "name": "#%%\n"
    }
   }
  },
  {
   "cell_type": "code",
   "execution_count": 207,
   "outputs": [
    {
     "name": "stdout",
     "output_type": "stream",
     "text": [
      "Performing stepwise search to minimize aic\n",
      " ARIMA(2,1,2)(0,0,0)[0] intercept   : AIC=inf, Time=2.45 sec\n",
      " ARIMA(0,1,0)(0,0,0)[0] intercept   : AIC=1136.169, Time=0.17 sec\n",
      " ARIMA(1,1,0)(0,0,0)[0] intercept   : AIC=1137.947, Time=0.10 sec\n",
      " ARIMA(0,1,1)(0,0,0)[0] intercept   : AIC=1137.927, Time=0.11 sec\n",
      " ARIMA(0,1,0)(0,0,0)[0]             : AIC=1134.311, Time=0.04 sec\n",
      " ARIMA(1,1,1)(0,0,0)[0] intercept   : AIC=inf, Time=0.75 sec\n",
      "\n",
      "Best model:  ARIMA(0,1,0)(0,0,0)[0]          \n",
      "Total fit time: 3.649 seconds\n"
     ]
    },
    {
     "data": {
      "text/plain": "ARIMA(order=(0, 1, 0), scoring_args={}, suppress_warnings=True,\n      with_intercept=False)"
     },
     "execution_count": 207,
     "metadata": {},
     "output_type": "execute_result"
    }
   ],
   "source": [
    "# getting the best order with autoarima\n",
    "def arimamodel(series):\n",
    "    auto = pm.auto_arima(series,\n",
    "                         starts_p=1, starts_q=1,\n",
    "                         max_p=8, max_q=8,\n",
    "                         test='adf', seasonal=True,\n",
    "                         trace=True)\n",
    "    return auto\n",
    "\n",
    "arimamodel(near['Close'])"
   ],
   "metadata": {
    "collapsed": false,
    "pycharm": {
     "name": "#%%\n"
    }
   }
  },
  {
   "cell_type": "code",
   "execution_count": 208,
   "outputs": [
    {
     "name": "stdout",
     "output_type": "stream",
     "text": [
      "                               SARIMAX Results                                \n",
      "==============================================================================\n",
      "Dep. Variable:                  Close   No. Observations:                  555\n",
      "Model:                 ARIMA(0, 1, 0)   Log Likelihood               -1117.724\n",
      "Date:                Thu, 12 May 2022   AIC                           2237.448\n",
      "Time:                        23:40:08   BIC                           2241.765\n",
      "Sample:                             0   HQIC                          2239.134\n",
      "                                - 555                                         \n",
      "Covariance Type:                  opg                                         \n",
      "==============================================================================\n",
      "                 coef    std err          z      P>|z|      [0.025      0.975]\n",
      "------------------------------------------------------------------------------\n",
      "sigma2         3.3109      0.078     42.405      0.000       3.158       3.464\n",
      "===================================================================================\n",
      "Ljung-Box (L1) (Q):                   2.67   Jarque-Bera (JB):              2862.91\n",
      "Prob(Q):                              0.10   Prob(JB):                         0.00\n",
      "Heteroskedasticity (H):               4.14   Skew:                            -0.85\n",
      "Prob(H) (two-sided):                  0.00   Kurtosis:                        14.00\n",
      "===================================================================================\n",
      "\n",
      "Warnings:\n",
      "[1] Covariance matrix calculated using the outer product of gradients (complex-step).\n"
     ]
    }
   ],
   "source": [
    "# 0,1,0 ARIMA Model\n",
    "model = ARIMA(dot['Close'], order=(0,1,0))\n",
    "result = model.fit()\n",
    "print(result.summary())"
   ],
   "metadata": {
    "collapsed": false,
    "pycharm": {
     "name": "#%%\n"
    }
   }
  },
  {
   "cell_type": "code",
   "execution_count": 210,
   "outputs": [
    {
     "name": "stdout",
     "output_type": "stream",
     "text": [
      "610\n",
      "153\n"
     ]
    }
   ],
   "source": [
    "#train test split\n",
    "n = int(len(sol['Close']) * 0.8)\n",
    "train = sol['Close'][:n]\n",
    "test = sol['Close'][n:]\n",
    "print(len(train))\n",
    "print(len(test))"
   ],
   "metadata": {
    "collapsed": false,
    "pycharm": {
     "name": "#%%\n"
    }
   }
  },
  {
   "cell_type": "code",
   "execution_count": 211,
   "outputs": [
    {
     "data": {
      "text/plain": "610    9.068801\n611    9.068801\n612    9.068801\n613    9.068801\n614    9.068801\n         ...   \n758    9.068801\n759    9.068801\n760    9.068801\n761    9.068801\n762    9.068801\nName: predicted_mean, Length: 153, dtype: float64"
     },
     "execution_count": 211,
     "metadata": {},
     "output_type": "execute_result"
    }
   ],
   "source": [
    "start = len(train)\n",
    "end = len(train) + len(test) - 1\n",
    "predictions = result.predict(start=start, end=end, dynamic=False, type='level')\n",
    "predictions\n",
    "# df = pd.DataFrame({'Actual': test, 'Predicted': predictions})\n",
    "# print(df)"
   ],
   "metadata": {
    "collapsed": false,
    "pycharm": {
     "name": "#%%\n"
    }
   }
  },
  {
   "cell_type": "code",
   "execution_count": 212,
   "outputs": [
    {
     "name": "stdout",
     "output_type": "stream",
     "text": [
      "Mean absolute error:, 105.77\n",
      "Mean squared error:, 12323.16\n",
      "Root mean squared error:, 111.01\n",
      "r2 score:-9.84\n",
      "Mean absolute percentage error:, 0.91\n"
     ]
    }
   ],
   "source": [
    "mae = mean_absolute_error(test, predictions)\n",
    "mse = mean_squared_error(test, predictions)\n",
    "rmse = np.sqrt(mse)\n",
    "r2 = r2_score(test, predictions)\n",
    "#the r2 for the train dataset\n",
    "mape = mean_absolute_percentage_error(test, predictions)\n",
    "\n",
    "#printing the model evaluation values\n",
    "print('Mean absolute error:, {:.2f}'.format(mae))\n",
    "print('Mean squared error:, {:.2f}'.format(mse))\n",
    "print('Root mean squared error:, {:.2f}'.format(rmse))\n",
    "print('r2 score:{:.2f}'.format(r2))\n",
    "print('Mean absolute percentage error:, {:.2f}'.format(mape))"
   ],
   "metadata": {
    "collapsed": false,
    "pycharm": {
     "name": "#%%\n"
    }
   }
  },
  {
   "cell_type": "code",
   "execution_count": 213,
   "outputs": [
    {
     "data": {
      "text/plain": "555    9.068801\n556    9.068801\n557    9.068801\n558    9.068801\n559    9.068801\n560    9.068801\n561    9.068801\nName: predicted_mean, dtype: float64"
     },
     "execution_count": 213,
     "metadata": {},
     "output_type": "execute_result"
    }
   ],
   "source": [
    "#saving model to disk\n",
    "final_model = 'near_model.sav'\n",
    "joblib.dump(model, final_model)\n",
    "forecast = result.forecast(steps=7, type='level')\n",
    "forecast"
   ],
   "metadata": {
    "collapsed": false,
    "pycharm": {
     "name": "#%%\n"
    }
   }
  },
  {
   "cell_type": "markdown",
   "source": [
    "POLYGON"
   ],
   "metadata": {
    "collapsed": false,
    "pycharm": {
     "name": "#%% md\n"
    }
   }
  },
  {
   "cell_type": "code",
   "execution_count": 214,
   "outputs": [
    {
     "data": {
      "text/plain": "                High       Low      Open     Close        Volume  Adj Close  \\\nDate                                                                          \n2019-04-28  0.004545  0.004317  0.004521  0.004421  8.408136e+06   0.004421   \n2019-04-29  0.004492  0.003471  0.004418  0.003471  8.267044e+06   0.003471   \n2019-04-30  0.005078  0.003458  0.003462  0.004478  2.507271e+07   0.004478   \n2019-05-01  0.004673  0.004071  0.004440  0.004374  1.056735e+07   0.004374   \n2019-05-02  0.004700  0.004096  0.004366  0.004198  6.714908e+06   0.004198   \n...              ...       ...       ...       ...           ...        ...   \n2022-05-08  1.026281  0.965592  1.021219  0.974345  5.716089e+08   0.974345   \n2022-05-09  0.990015  0.799419  0.974406  0.821915  9.927299e+08   0.821915   \n2022-05-10  0.982827  0.799712  0.820769  0.890409  1.574312e+09   0.890409   \n2022-05-11  0.908692  0.613696  0.890196  0.666291  1.825527e+09   0.666291   \n2022-05-12  0.705365  0.508411  0.669783  0.619527  1.553136e+09   0.619527   \n\n           symbol     name  \nDate                        \n2019-04-28  MATIC  Polygon  \n2019-04-29  MATIC  Polygon  \n2019-04-30  MATIC  Polygon  \n2019-05-01  MATIC  Polygon  \n2019-05-02  MATIC  Polygon  \n...           ...      ...  \n2022-05-08  MATIC  Polygon  \n2022-05-09  MATIC  Polygon  \n2022-05-10  MATIC  Polygon  \n2022-05-11  MATIC  Polygon  \n2022-05-12  MATIC  Polygon  \n\n[1111 rows x 8 columns]",
      "text/html": "<div>\n<style scoped>\n    .dataframe tbody tr th:only-of-type {\n        vertical-align: middle;\n    }\n\n    .dataframe tbody tr th {\n        vertical-align: top;\n    }\n\n    .dataframe thead th {\n        text-align: right;\n    }\n</style>\n<table border=\"1\" class=\"dataframe\">\n  <thead>\n    <tr style=\"text-align: right;\">\n      <th></th>\n      <th>High</th>\n      <th>Low</th>\n      <th>Open</th>\n      <th>Close</th>\n      <th>Volume</th>\n      <th>Adj Close</th>\n      <th>symbol</th>\n      <th>name</th>\n    </tr>\n    <tr>\n      <th>Date</th>\n      <th></th>\n      <th></th>\n      <th></th>\n      <th></th>\n      <th></th>\n      <th></th>\n      <th></th>\n      <th></th>\n    </tr>\n  </thead>\n  <tbody>\n    <tr>\n      <th>2019-04-28</th>\n      <td>0.004545</td>\n      <td>0.004317</td>\n      <td>0.004521</td>\n      <td>0.004421</td>\n      <td>8.408136e+06</td>\n      <td>0.004421</td>\n      <td>MATIC</td>\n      <td>Polygon</td>\n    </tr>\n    <tr>\n      <th>2019-04-29</th>\n      <td>0.004492</td>\n      <td>0.003471</td>\n      <td>0.004418</td>\n      <td>0.003471</td>\n      <td>8.267044e+06</td>\n      <td>0.003471</td>\n      <td>MATIC</td>\n      <td>Polygon</td>\n    </tr>\n    <tr>\n      <th>2019-04-30</th>\n      <td>0.005078</td>\n      <td>0.003458</td>\n      <td>0.003462</td>\n      <td>0.004478</td>\n      <td>2.507271e+07</td>\n      <td>0.004478</td>\n      <td>MATIC</td>\n      <td>Polygon</td>\n    </tr>\n    <tr>\n      <th>2019-05-01</th>\n      <td>0.004673</td>\n      <td>0.004071</td>\n      <td>0.004440</td>\n      <td>0.004374</td>\n      <td>1.056735e+07</td>\n      <td>0.004374</td>\n      <td>MATIC</td>\n      <td>Polygon</td>\n    </tr>\n    <tr>\n      <th>2019-05-02</th>\n      <td>0.004700</td>\n      <td>0.004096</td>\n      <td>0.004366</td>\n      <td>0.004198</td>\n      <td>6.714908e+06</td>\n      <td>0.004198</td>\n      <td>MATIC</td>\n      <td>Polygon</td>\n    </tr>\n    <tr>\n      <th>...</th>\n      <td>...</td>\n      <td>...</td>\n      <td>...</td>\n      <td>...</td>\n      <td>...</td>\n      <td>...</td>\n      <td>...</td>\n      <td>...</td>\n    </tr>\n    <tr>\n      <th>2022-05-08</th>\n      <td>1.026281</td>\n      <td>0.965592</td>\n      <td>1.021219</td>\n      <td>0.974345</td>\n      <td>5.716089e+08</td>\n      <td>0.974345</td>\n      <td>MATIC</td>\n      <td>Polygon</td>\n    </tr>\n    <tr>\n      <th>2022-05-09</th>\n      <td>0.990015</td>\n      <td>0.799419</td>\n      <td>0.974406</td>\n      <td>0.821915</td>\n      <td>9.927299e+08</td>\n      <td>0.821915</td>\n      <td>MATIC</td>\n      <td>Polygon</td>\n    </tr>\n    <tr>\n      <th>2022-05-10</th>\n      <td>0.982827</td>\n      <td>0.799712</td>\n      <td>0.820769</td>\n      <td>0.890409</td>\n      <td>1.574312e+09</td>\n      <td>0.890409</td>\n      <td>MATIC</td>\n      <td>Polygon</td>\n    </tr>\n    <tr>\n      <th>2022-05-11</th>\n      <td>0.908692</td>\n      <td>0.613696</td>\n      <td>0.890196</td>\n      <td>0.666291</td>\n      <td>1.825527e+09</td>\n      <td>0.666291</td>\n      <td>MATIC</td>\n      <td>Polygon</td>\n    </tr>\n    <tr>\n      <th>2022-05-12</th>\n      <td>0.705365</td>\n      <td>0.508411</td>\n      <td>0.669783</td>\n      <td>0.619527</td>\n      <td>1.553136e+09</td>\n      <td>0.619527</td>\n      <td>MATIC</td>\n      <td>Polygon</td>\n    </tr>\n  </tbody>\n</table>\n<p>1111 rows × 8 columns</p>\n</div>"
     },
     "execution_count": 214,
     "metadata": {},
     "output_type": "execute_result"
    }
   ],
   "source": [
    "matic = my_data[my_data['symbol'] == 'MATIC']  #Extracting the polygon data from the dataframe\n",
    "matic= matic.set_index('Date')\n",
    "matic"
   ],
   "metadata": {
    "collapsed": false,
    "pycharm": {
     "name": "#%%\n"
    }
   }
  },
  {
   "cell_type": "code",
   "execution_count": 216,
   "outputs": [
    {
     "name": "stdout",
     "output_type": "stream",
     "text": [
      "Performing stepwise search to minimize aic\n",
      " ARIMA(2,1,2)(0,0,0)[0] intercept   : AIC=-2660.962, Time=4.46 sec\n",
      " ARIMA(0,1,0)(0,0,0)[0] intercept   : AIC=-2637.413, Time=0.33 sec\n",
      " ARIMA(1,1,0)(0,0,0)[0] intercept   : AIC=-2650.277, Time=0.25 sec\n",
      " ARIMA(0,1,1)(0,0,0)[0] intercept   : AIC=-2649.686, Time=0.26 sec\n",
      " ARIMA(0,1,0)(0,0,0)[0]             : AIC=-2639.350, Time=0.08 sec\n",
      " ARIMA(1,1,2)(0,0,0)[0] intercept   : AIC=-2657.059, Time=3.13 sec\n",
      " ARIMA(2,1,1)(0,0,0)[0] intercept   : AIC=-2646.615, Time=2.77 sec\n",
      " ARIMA(3,1,2)(0,0,0)[0] intercept   : AIC=-2658.024, Time=7.34 sec\n",
      " ARIMA(2,1,3)(0,0,0)[0] intercept   : AIC=-2659.452, Time=4.99 sec\n",
      " ARIMA(1,1,1)(0,0,0)[0] intercept   : AIC=-2657.518, Time=1.74 sec\n",
      " ARIMA(1,1,3)(0,0,0)[0] intercept   : AIC=-2658.095, Time=6.15 sec\n",
      " ARIMA(3,1,1)(0,0,0)[0] intercept   : AIC=-2653.374, Time=5.19 sec\n",
      " ARIMA(3,1,3)(0,0,0)[0] intercept   : AIC=-2657.474, Time=6.77 sec\n",
      " ARIMA(2,1,2)(0,0,0)[0]             : AIC=-2662.920, Time=3.54 sec\n",
      " ARIMA(1,1,2)(0,0,0)[0]             : AIC=-2658.985, Time=2.10 sec\n",
      " ARIMA(2,1,1)(0,0,0)[0]             : AIC=-2658.811, Time=2.15 sec\n",
      " ARIMA(3,1,2)(0,0,0)[0]             : AIC=-2661.426, Time=2.76 sec\n",
      " ARIMA(2,1,3)(0,0,0)[0]             : AIC=-2661.422, Time=3.46 sec\n",
      " ARIMA(1,1,1)(0,0,0)[0]             : AIC=-2659.451, Time=2.06 sec\n",
      " ARIMA(1,1,3)(0,0,0)[0]             : AIC=-2660.012, Time=2.25 sec\n",
      " ARIMA(3,1,1)(0,0,0)[0]             : AIC=-2649.479, Time=0.22 sec\n",
      " ARIMA(3,1,3)(0,0,0)[0]             : AIC=-2659.471, Time=3.64 sec\n",
      "\n",
      "Best model:  ARIMA(2,1,2)(0,0,0)[0]          \n",
      "Total fit time: 65.760 seconds\n"
     ]
    },
    {
     "data": {
      "text/plain": "ARIMA(order=(2, 1, 2), scoring_args={}, suppress_warnings=True,\n      with_intercept=False)"
     },
     "execution_count": 216,
     "metadata": {},
     "output_type": "execute_result"
    }
   ],
   "source": [
    "# getting the best order with autoarima\n",
    "def arimamodel(series):\n",
    "    auto = pm.auto_arima(series,\n",
    "                         starts_p=1, starts_q=1,\n",
    "                         max_p=8, max_q=8,\n",
    "                         test='adf', seasonal=True,\n",
    "                         trace=True)\n",
    "    return auto\n",
    "\n",
    "arimamodel(matic['Close'])"
   ],
   "metadata": {
    "collapsed": false,
    "pycharm": {
     "name": "#%%\n"
    }
   }
  },
  {
   "cell_type": "code",
   "execution_count": 217,
   "outputs": [
    {
     "name": "stdout",
     "output_type": "stream",
     "text": [
      "                               SARIMAX Results                                \n",
      "==============================================================================\n",
      "Dep. Variable:                  Close   No. Observations:                  555\n",
      "Model:                 ARIMA(2, 1, 2)   Log Likelihood               -1114.132\n",
      "Date:                Thu, 12 May 2022   AIC                           2238.263\n",
      "Time:                        23:45:46   BIC                           2259.849\n",
      "Sample:                             0   HQIC                          2246.696\n",
      "                                - 555                                         \n",
      "Covariance Type:                  opg                                         \n",
      "==============================================================================\n",
      "                 coef    std err          z      P>|z|      [0.025      0.975]\n",
      "------------------------------------------------------------------------------\n",
      "ar.L1         -0.0308      1.159     -0.027      0.979      -2.303       2.242\n",
      "ar.L2          0.6582      0.940      0.700      0.484      -1.185       2.501\n",
      "ma.L1         -0.0391      1.147     -0.034      0.973      -2.286       2.208\n",
      "ma.L2         -0.6142      0.856     -0.718      0.473      -2.291       1.063\n",
      "sigma2         3.2681      0.089     36.839      0.000       3.094       3.442\n",
      "===================================================================================\n",
      "Ljung-Box (L1) (Q):                   0.06   Jarque-Bera (JB):              2678.53\n",
      "Prob(Q):                              0.81   Prob(JB):                         0.00\n",
      "Heteroskedasticity (H):               4.10   Skew:                            -0.80\n",
      "Prob(H) (two-sided):                  0.00   Kurtosis:                        13.65\n",
      "===================================================================================\n",
      "\n",
      "Warnings:\n",
      "[1] Covariance matrix calculated using the outer product of gradients (complex-step).\n"
     ]
    }
   ],
   "source": [
    "# 2,1,2 ARIMA Model\n",
    "model = ARIMA(dot['Close'], order=(2,1,2))\n",
    "result = model.fit()\n",
    "print(result.summary())"
   ],
   "metadata": {
    "collapsed": false,
    "pycharm": {
     "name": "#%%\n"
    }
   }
  },
  {
   "cell_type": "code",
   "execution_count": 218,
   "outputs": [
    {
     "name": "stdout",
     "output_type": "stream",
     "text": [
      "888\n",
      "223\n"
     ]
    }
   ],
   "source": [
    "#train test split\n",
    "n= int(len(matic['Close']) * 0.8)\n",
    "train = matic['Close'][:n]\n",
    "test = matic['Close'][n:]\n",
    "print(len(train))\n",
    "print(len(test))"
   ],
   "metadata": {
    "collapsed": false,
    "pycharm": {
     "name": "#%%\n"
    }
   }
  },
  {
   "cell_type": "code",
   "execution_count": 219,
   "outputs": [
    {
     "data": {
      "text/plain": "888     9.384372\n889     9.384372\n890     9.384372\n891     9.384372\n892     9.384372\n          ...   \n1106    9.384372\n1107    9.384372\n1108    9.384372\n1109    9.384372\n1110    9.384372\nName: predicted_mean, Length: 223, dtype: float64"
     },
     "execution_count": 219,
     "metadata": {},
     "output_type": "execute_result"
    }
   ],
   "source": [
    "start = len(train)\n",
    "end = len(train) + len(test) - 1\n",
    "predictions = result.predict(start=start, end=end, dynamic=False, type='level')\n",
    "predictions\n",
    "# df = pd.DataFrame({'Actual': test, 'Predicted': predictions})\n",
    "# print(df)"
   ],
   "metadata": {
    "collapsed": false,
    "pycharm": {
     "name": "#%%\n"
    }
   }
  },
  {
   "cell_type": "code",
   "execution_count": 220,
   "outputs": [
    {
     "name": "stdout",
     "output_type": "stream",
     "text": [
      "Mean absolute error:, 7.69\n",
      "Mean squared error:, 59.27\n",
      "Root mean squared error:, 7.70\n",
      "r2 score:-374.14\n",
      "Mean absolute percentage error:, 4.86\n"
     ]
    }
   ],
   "source": [
    "#evaluate\n",
    "mae = mean_absolute_error(test, predictions)\n",
    "mse = mean_squared_error(test, predictions)\n",
    "rmse = np.sqrt(mse)\n",
    "r2 = r2_score(test, predictions)\n",
    "#the r2 for the train dataset\n",
    "mape = mean_absolute_percentage_error(test, predictions)\n",
    "\n",
    "#printing the model evaluation values\n",
    "print('Mean absolute error:, {:.2f}'.format(mae))\n",
    "print('Mean squared error:, {:.2f}'.format(mse))\n",
    "print('Root mean squared error:, {:.2f}'.format(rmse))\n",
    "print('r2 score:{:.2f}'.format(r2))\n",
    "print('Mean absolute percentage error:, {:.2f}'.format(mape))"
   ],
   "metadata": {
    "collapsed": false,
    "pycharm": {
     "name": "#%%\n"
    }
   }
  },
  {
   "cell_type": "code",
   "execution_count": 221,
   "outputs": [
    {
     "data": {
      "text/plain": "555    9.391631\n556    9.176439\n557    9.395564\n558    9.247165\n559    9.395971\n560    9.293705\n561    9.394804\nName: predicted_mean, dtype: float64"
     },
     "execution_count": 221,
     "metadata": {},
     "output_type": "execute_result"
    }
   ],
   "source": [
    "#saving model to disk\n",
    "final_model = 'matic_model.sav'\n",
    "joblib.dump(model, final_model)\n",
    "forecast = result.forecast(steps=7, type='level')\n",
    "forecast"
   ],
   "metadata": {
    "collapsed": false,
    "pycharm": {
     "name": "#%%\n"
    }
   }
  },
  {
   "cell_type": "markdown",
   "source": [
    "CRYPTO.COM"
   ],
   "metadata": {
    "collapsed": false,
    "pycharm": {
     "name": "#%% md\n"
    }
   }
  },
  {
   "cell_type": "code",
   "execution_count": 222,
   "outputs": [
    {
     "data": {
      "text/plain": "                High       Low      Open     Close       Volume  Adj Close  \\\nDate                                                                         \n2018-12-14  0.019970  0.019350  0.019768  0.019606     856990.0   0.019606   \n2018-12-15  0.019845  0.016150  0.019542  0.017243     989710.0   0.017243   \n2018-12-16  0.017496  0.014127  0.017213  0.015301     717174.0   0.015301   \n2018-12-17  0.016723  0.011487  0.015186  0.014448     615623.0   0.014448   \n2018-12-18  0.017215  0.013553  0.014308  0.016260     764474.0   0.016260   \n...              ...       ...       ...       ...          ...        ...   \n2022-05-08  0.271765  0.255696  0.271765  0.256433   45159282.0   0.256433   \n2022-05-09  0.257775  0.209882  0.256373  0.209882   97418948.0   0.209882   \n2022-05-10  0.241302  0.205769  0.209508  0.230374  110785498.0   0.230374   \n2022-05-11  0.237443  0.189642  0.230364  0.194261  138131110.0   0.194261   \n2022-05-12  0.201093  0.169409  0.195102  0.178532  141522480.0   0.178532   \n\n           symbol        name  \nDate                           \n2018-12-14    CRO  Crypto.com  \n2018-12-15    CRO  Crypto.com  \n2018-12-16    CRO  Crypto.com  \n2018-12-17    CRO  Crypto.com  \n2018-12-18    CRO  Crypto.com  \n...           ...         ...  \n2022-05-08    CRO  Crypto.com  \n2022-05-09    CRO  Crypto.com  \n2022-05-10    CRO  Crypto.com  \n2022-05-11    CRO  Crypto.com  \n2022-05-12    CRO  Crypto.com  \n\n[1246 rows x 8 columns]",
      "text/html": "<div>\n<style scoped>\n    .dataframe tbody tr th:only-of-type {\n        vertical-align: middle;\n    }\n\n    .dataframe tbody tr th {\n        vertical-align: top;\n    }\n\n    .dataframe thead th {\n        text-align: right;\n    }\n</style>\n<table border=\"1\" class=\"dataframe\">\n  <thead>\n    <tr style=\"text-align: right;\">\n      <th></th>\n      <th>High</th>\n      <th>Low</th>\n      <th>Open</th>\n      <th>Close</th>\n      <th>Volume</th>\n      <th>Adj Close</th>\n      <th>symbol</th>\n      <th>name</th>\n    </tr>\n    <tr>\n      <th>Date</th>\n      <th></th>\n      <th></th>\n      <th></th>\n      <th></th>\n      <th></th>\n      <th></th>\n      <th></th>\n      <th></th>\n    </tr>\n  </thead>\n  <tbody>\n    <tr>\n      <th>2018-12-14</th>\n      <td>0.019970</td>\n      <td>0.019350</td>\n      <td>0.019768</td>\n      <td>0.019606</td>\n      <td>856990.0</td>\n      <td>0.019606</td>\n      <td>CRO</td>\n      <td>Crypto.com</td>\n    </tr>\n    <tr>\n      <th>2018-12-15</th>\n      <td>0.019845</td>\n      <td>0.016150</td>\n      <td>0.019542</td>\n      <td>0.017243</td>\n      <td>989710.0</td>\n      <td>0.017243</td>\n      <td>CRO</td>\n      <td>Crypto.com</td>\n    </tr>\n    <tr>\n      <th>2018-12-16</th>\n      <td>0.017496</td>\n      <td>0.014127</td>\n      <td>0.017213</td>\n      <td>0.015301</td>\n      <td>717174.0</td>\n      <td>0.015301</td>\n      <td>CRO</td>\n      <td>Crypto.com</td>\n    </tr>\n    <tr>\n      <th>2018-12-17</th>\n      <td>0.016723</td>\n      <td>0.011487</td>\n      <td>0.015186</td>\n      <td>0.014448</td>\n      <td>615623.0</td>\n      <td>0.014448</td>\n      <td>CRO</td>\n      <td>Crypto.com</td>\n    </tr>\n    <tr>\n      <th>2018-12-18</th>\n      <td>0.017215</td>\n      <td>0.013553</td>\n      <td>0.014308</td>\n      <td>0.016260</td>\n      <td>764474.0</td>\n      <td>0.016260</td>\n      <td>CRO</td>\n      <td>Crypto.com</td>\n    </tr>\n    <tr>\n      <th>...</th>\n      <td>...</td>\n      <td>...</td>\n      <td>...</td>\n      <td>...</td>\n      <td>...</td>\n      <td>...</td>\n      <td>...</td>\n      <td>...</td>\n    </tr>\n    <tr>\n      <th>2022-05-08</th>\n      <td>0.271765</td>\n      <td>0.255696</td>\n      <td>0.271765</td>\n      <td>0.256433</td>\n      <td>45159282.0</td>\n      <td>0.256433</td>\n      <td>CRO</td>\n      <td>Crypto.com</td>\n    </tr>\n    <tr>\n      <th>2022-05-09</th>\n      <td>0.257775</td>\n      <td>0.209882</td>\n      <td>0.256373</td>\n      <td>0.209882</td>\n      <td>97418948.0</td>\n      <td>0.209882</td>\n      <td>CRO</td>\n      <td>Crypto.com</td>\n    </tr>\n    <tr>\n      <th>2022-05-10</th>\n      <td>0.241302</td>\n      <td>0.205769</td>\n      <td>0.209508</td>\n      <td>0.230374</td>\n      <td>110785498.0</td>\n      <td>0.230374</td>\n      <td>CRO</td>\n      <td>Crypto.com</td>\n    </tr>\n    <tr>\n      <th>2022-05-11</th>\n      <td>0.237443</td>\n      <td>0.189642</td>\n      <td>0.230364</td>\n      <td>0.194261</td>\n      <td>138131110.0</td>\n      <td>0.194261</td>\n      <td>CRO</td>\n      <td>Crypto.com</td>\n    </tr>\n    <tr>\n      <th>2022-05-12</th>\n      <td>0.201093</td>\n      <td>0.169409</td>\n      <td>0.195102</td>\n      <td>0.178532</td>\n      <td>141522480.0</td>\n      <td>0.178532</td>\n      <td>CRO</td>\n      <td>Crypto.com</td>\n    </tr>\n  </tbody>\n</table>\n<p>1246 rows × 8 columns</p>\n</div>"
     },
     "execution_count": 222,
     "metadata": {},
     "output_type": "execute_result"
    }
   ],
   "source": [
    "cro = my_data[my_data['symbol'] == 'CRO']  #Extracting the crypto.com data from the dataframe\n",
    "cro = cro.set_index('Date')\n",
    "cro"
   ],
   "metadata": {
    "collapsed": false,
    "pycharm": {
     "name": "#%%\n"
    }
   }
  },
  {
   "cell_type": "code",
   "execution_count": 223,
   "outputs": [
    {
     "name": "stdout",
     "output_type": "stream",
     "text": [
      "Performing stepwise search to minimize aic\n",
      " ARIMA(2,1,2)(0,0,0)[0] intercept   : AIC=-7094.637, Time=7.83 sec\n",
      " ARIMA(0,1,0)(0,0,0)[0] intercept   : AIC=-7028.667, Time=0.19 sec\n",
      " ARIMA(1,1,0)(0,0,0)[0] intercept   : AIC=-7043.283, Time=0.51 sec\n",
      " ARIMA(0,1,1)(0,0,0)[0] intercept   : AIC=-7039.349, Time=0.23 sec\n",
      " ARIMA(0,1,0)(0,0,0)[0]             : AIC=-7030.568, Time=0.09 sec\n",
      " ARIMA(1,1,2)(0,0,0)[0] intercept   : AIC=-7093.573, Time=4.55 sec\n",
      " ARIMA(2,1,1)(0,0,0)[0] intercept   : AIC=-7064.739, Time=2.23 sec\n",
      " ARIMA(3,1,2)(0,0,0)[0] intercept   : AIC=-7080.501, Time=6.60 sec\n",
      " ARIMA(2,1,3)(0,0,0)[0] intercept   : AIC=-7090.904, Time=6.89 sec\n",
      " ARIMA(1,1,1)(0,0,0)[0] intercept   : AIC=-7091.954, Time=2.66 sec\n",
      " ARIMA(1,1,3)(0,0,0)[0] intercept   : AIC=-7092.391, Time=7.71 sec\n",
      " ARIMA(3,1,1)(0,0,0)[0] intercept   : AIC=-7062.679, Time=1.41 sec\n",
      " ARIMA(3,1,3)(0,0,0)[0] intercept   : AIC=-7115.023, Time=7.84 sec\n",
      " ARIMA(4,1,3)(0,0,0)[0] intercept   : AIC=-7136.843, Time=10.23 sec\n",
      " ARIMA(4,1,2)(0,0,0)[0] intercept   : AIC=-7090.689, Time=10.19 sec\n",
      " ARIMA(5,1,3)(0,0,0)[0] intercept   : AIC=-7116.582, Time=9.42 sec\n",
      " ARIMA(4,1,4)(0,0,0)[0] intercept   : AIC=-7128.308, Time=12.26 sec\n",
      " ARIMA(3,1,4)(0,0,0)[0] intercept   : AIC=-7088.018, Time=10.39 sec\n",
      " ARIMA(5,1,2)(0,0,0)[0] intercept   : AIC=-7107.835, Time=12.07 sec\n",
      " ARIMA(5,1,4)(0,0,0)[0] intercept   : AIC=-7118.560, Time=12.79 sec\n",
      " ARIMA(4,1,3)(0,0,0)[0]             : AIC=-7136.535, Time=1.33 sec\n",
      "\n",
      "Best model:  ARIMA(4,1,3)(0,0,0)[0] intercept\n",
      "Total fit time: 127.528 seconds\n"
     ]
    },
    {
     "data": {
      "text/plain": "ARIMA(order=(4, 1, 3), scoring_args={}, suppress_warnings=True)"
     },
     "execution_count": 223,
     "metadata": {},
     "output_type": "execute_result"
    }
   ],
   "source": [
    "# getting the best order with autoarima\n",
    "def arimamodel(series):\n",
    "    auto = pm.auto_arima(series,\n",
    "                         starts_p=1, starts_q=1,\n",
    "                         max_p=8, max_q=8,\n",
    "                         test='adf', seasonal=True,\n",
    "                         trace=True)\n",
    "    return auto\n",
    "\n",
    "arimamodel(cro['Close'])"
   ],
   "metadata": {
    "collapsed": false,
    "pycharm": {
     "name": "#%%\n"
    }
   }
  },
  {
   "cell_type": "code",
   "execution_count": 224,
   "outputs": [
    {
     "name": "stdout",
     "output_type": "stream",
     "text": [
      "                               SARIMAX Results                                \n",
      "==============================================================================\n",
      "Dep. Variable:                  Close   No. Observations:                 1246\n",
      "Model:                 ARIMA(4, 1, 3)   Log Likelihood                3576.268\n",
      "Date:                Thu, 12 May 2022   AIC                          -7136.535\n",
      "Time:                        23:49:28   BIC                          -7095.520\n",
      "Sample:                    12-14-2018   HQIC                         -7121.113\n",
      "                         - 05-12-2022                                         \n",
      "Covariance Type:                  opg                                         \n",
      "==============================================================================\n",
      "                 coef    std err          z      P>|z|      [0.025      0.975]\n",
      "------------------------------------------------------------------------------\n",
      "ar.L1         -1.0370      0.059    -17.537      0.000      -1.153      -0.921\n",
      "ar.L2         -0.1591      0.090     -1.764      0.078      -0.336       0.018\n",
      "ar.L3          0.3331      0.044      7.630      0.000       0.247       0.419\n",
      "ar.L4          0.2133      0.013     16.442      0.000       0.188       0.239\n",
      "ma.L1          0.9799      0.056     17.514      0.000       0.870       1.090\n",
      "ma.L2          0.2070      0.088      2.361      0.018       0.035       0.379\n",
      "ma.L3         -0.2207      0.047     -4.731      0.000      -0.312      -0.129\n",
      "sigma2         0.0002   2.64e-06     70.997      0.000       0.000       0.000\n",
      "===================================================================================\n",
      "Ljung-Box (L1) (Q):                   0.02   Jarque-Bera (JB):             36120.74\n",
      "Prob(Q):                              0.90   Prob(JB):                         0.00\n",
      "Heteroskedasticity (H):              25.44   Skew:                             0.65\n",
      "Prob(H) (two-sided):                  0.00   Kurtosis:                        29.36\n",
      "===================================================================================\n",
      "\n",
      "Warnings:\n",
      "[1] Covariance matrix calculated using the outer product of gradients (complex-step).\n"
     ]
    }
   ],
   "source": [
    "# 4,1,3 ARIMA Model\n",
    "model = ARIMA(cro['Close'], order=(4,1,3))\n",
    "result = model.fit()\n",
    "print(result.summary())"
   ],
   "metadata": {
    "collapsed": false,
    "pycharm": {
     "name": "#%%\n"
    }
   }
  },
  {
   "cell_type": "code",
   "execution_count": 225,
   "outputs": [
    {
     "name": "stdout",
     "output_type": "stream",
     "text": [
      "996\n",
      "250\n"
     ]
    }
   ],
   "source": [
    "#train test split\n",
    "n = int(len(cro['Close']) * 0.8)\n",
    "train = cro['Close'][:n]\n",
    "test = cro['Close'][n:]\n",
    "print(len(train))\n",
    "print(len(test))"
   ],
   "metadata": {
    "collapsed": false,
    "pycharm": {
     "name": "#%%\n"
    }
   }
  },
  {
   "cell_type": "code",
   "execution_count": 226,
   "outputs": [
    {
     "data": {
      "text/plain": "2021-09-05    0.173003\n2021-09-06    0.183517\n2021-09-07    0.206768\n2021-09-08    0.172235\n2021-09-09    0.169620\n                ...   \n2022-05-08    0.270137\n2022-05-09    0.252896\n2022-05-10    0.213964\n2022-05-11    0.219802\n2022-05-12    0.197535\nFreq: D, Name: predicted_mean, Length: 250, dtype: float64"
     },
     "execution_count": 226,
     "metadata": {},
     "output_type": "execute_result"
    }
   ],
   "source": [
    "start = len(train)\n",
    "end = len(train) + len(test) - 1\n",
    "predictions = result.predict(start=start, end=end, dynamic=False, type='level')\n",
    "predictions\n",
    "# df = pd.DataFrame({'Actual': test, 'Predicted': predictions})\n",
    "# print(df)"
   ],
   "metadata": {
    "collapsed": false,
    "pycharm": {
     "name": "#%%\n"
    }
   }
  },
  {
   "cell_type": "code",
   "execution_count": 227,
   "outputs": [
    {
     "name": "stdout",
     "output_type": "stream",
     "text": [
      "Mean absolute error:, 0.02\n",
      "Mean squared error:, 0.00\n",
      "Root mean squared error:, 0.03\n",
      "r2 score:0.97\n",
      "Mean absolute percentage error:, 0.05\n"
     ]
    }
   ],
   "source": [
    "#evaluate\n",
    "mae = mean_absolute_error(test, predictions)\n",
    "mse = mean_squared_error(test, predictions)\n",
    "rmse = np.sqrt(mse)\n",
    "r2 = r2_score(test, predictions)\n",
    "#the r2 for the train dataset\n",
    "mape = mean_absolute_percentage_error(test, predictions)\n",
    "\n",
    "#printing the model evaluation values\n",
    "print('Mean absolute error:, {:.2f}'.format(mae))\n",
    "print('Mean squared error:, {:.2f}'.format(mse))\n",
    "print('Root mean squared error:, {:.2f}'.format(rmse))\n",
    "print('r2 score:{:.2f}'.format(r2))\n",
    "print('Mean absolute percentage error:, {:.2f}'.format(mape))"
   ],
   "metadata": {
    "collapsed": false,
    "pycharm": {
     "name": "#%%\n"
    }
   }
  },
  {
   "cell_type": "code",
   "execution_count": 228,
   "outputs": [
    {
     "data": {
      "text/plain": "2022-05-13    0.169956\n2022-05-14    0.175397\n2022-05-15    0.162372\n2022-05-16    0.168803\n2022-05-17    0.164190\n2022-05-18    0.164772\n2022-05-19    0.164266\nFreq: D, Name: predicted_mean, dtype: float64"
     },
     "execution_count": 228,
     "metadata": {},
     "output_type": "execute_result"
    }
   ],
   "source": [
    "#saving model to disk\n",
    "final_model = 'cro_model.sav'\n",
    "joblib.dump(model, final_model)\n",
    "forecast = result.forecast(steps=7, type='level')\n",
    "forecast"
   ],
   "metadata": {
    "collapsed": false,
    "pycharm": {
     "name": "#%%\n"
    }
   }
  },
  {
   "cell_type": "code",
   "execution_count": 228,
   "outputs": [],
   "source": [],
   "metadata": {
    "collapsed": false,
    "pycharm": {
     "name": "#%%\n"
    }
   }
  },
  {
   "cell_type": "code",
   "execution_count": null,
   "outputs": [],
   "source": [],
   "metadata": {
    "collapsed": false,
    "pycharm": {
     "name": "#%%\n"
    }
   }
  }
 ],
 "metadata": {
  "kernelspec": {
   "display_name": "Python 3 (ipykernel)",
   "language": "python",
   "name": "python3"
  },
  "language_info": {
   "codemirror_mode": {
    "name": "ipython",
    "version": 3
   },
   "file_extension": ".py",
   "mimetype": "text/x-python",
   "name": "python",
   "nbconvert_exporter": "python",
   "pygments_lexer": "ipython3",
   "version": "3.9.7"
  }
 },
 "nbformat": 4,
 "nbformat_minor": 1
}